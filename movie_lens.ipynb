{
 "cells": [
  {
   "cell_type": "code",
   "execution_count": 1,
   "metadata": {},
   "outputs": [],
   "source": [
    "import pandas as pd\n",
    "import numpy as np\n",
    "from tqdm import tqdm"
   ]
  },
  {
   "cell_type": "markdown",
   "metadata": {},
   "source": [
    "## Load Data"
   ]
  },
  {
   "cell_type": "code",
   "execution_count": 26,
   "metadata": {},
   "outputs": [],
   "source": [
    "dataset_name = 'ml-20m'"
   ]
  },
  {
   "cell_type": "code",
   "execution_count": 27,
   "metadata": {},
   "outputs": [],
   "source": [
    "ratings = pd.read_csv(f'/Users/ssdasgupta/research/set-based-collaborative-filtering/data/{dataset_name}/ratings.csv')\n",
    "movies = pd.read_csv(f'/Users/ssdasgupta/research/set-based-collaborative-filtering/data/{dataset_name}/movies.csv')"
   ]
  },
  {
   "cell_type": "markdown",
   "metadata": {},
   "source": [
    "## Filter interaction, and re-id the items and users "
   ]
  },
  {
   "cell_type": "markdown",
   "metadata": {},
   "source": [
    "### Count Filter. Design choice count < 20."
   ]
  },
  {
   "cell_type": "code",
   "execution_count": 28,
   "metadata": {},
   "outputs": [],
   "source": [
    "user_id_count = {}\n",
    "for userID, movieID, rating in zip(ratings['userId'], ratings['movieId'], ratings['rating']):\n",
    "    user_id_count[userID] = user_id_count.get(userID, 0) + 1\n",
    "user_reject_list = [userID for userID, count in user_id_count.items() if count < 20]\n",
    "ratings = ratings[~ratings['userId'].isin(user_reject_list)]\n",
    "\n",
    "movie_id_count = {}\n",
    "for userID, movieID, rating in zip(ratings['userId'], ratings['movieId'], ratings['rating']):\n",
    "    movie_id_count[movieID] = movie_id_count.get(movieID, 0) + 1\n",
    "\n",
    "count_10_movies = [movieID for movieID, count in movie_id_count.items() if count < 10]\n",
    "    "
   ]
  },
  {
   "cell_type": "code",
   "execution_count": 29,
   "metadata": {},
   "outputs": [
    {
     "data": {
      "text/plain": [
       "11293"
      ]
     },
     "execution_count": 29,
     "metadata": {},
     "output_type": "execute_result"
    }
   ],
   "source": [
    "len(count_10_movies)"
   ]
  },
  {
   "cell_type": "markdown",
   "metadata": {},
   "source": [
    "### Create User dict and item dict"
   ]
  },
  {
   "cell_type": "code",
   "execution_count": 30,
   "metadata": {},
   "outputs": [],
   "source": [
    "user2idx = {userID: i for i, userID in enumerate(ratings['userId'].unique())}\n",
    "movie2idx = {movieID: i for i, movieID in enumerate(ratings['movieId'].unique())}\n",
    "idx2movie = {i: movieID for i, movieID in enumerate(ratings['movieId'].unique())}\n",
    "ratings['userId'] = ratings['userId'].map(user2idx)\n",
    "ratings['movieId'] = ratings['movieId'].map(movie2idx)\n",
    "count_10_movies = [movie2idx[movieID] for movieID in count_10_movies]"
   ]
  },
  {
   "cell_type": "code",
   "execution_count": 31,
   "metadata": {},
   "outputs": [
    {
     "data": {
      "text/plain": [
       "534"
      ]
     },
     "execution_count": 31,
     "metadata": {},
     "output_type": "execute_result"
    }
   ],
   "source": [
    "len(set(movies.movieId)) - len(set(ratings.movieId))"
   ]
  },
  {
   "cell_type": "code",
   "execution_count": 32,
   "metadata": {},
   "outputs": [
    {
     "name": "stdout",
     "output_type": "stream",
     "text": [
      "Number of users: 138493\n",
      "Number of movies: 26744\n",
      "Number of ratings: 20000263\n"
     ]
    }
   ],
   "source": [
    "print('Number of users:', len(user2idx))\n",
    "print('Number of movies:', len(movie2idx))\n",
    "print('Number of ratings:', len(ratings))"
   ]
  },
  {
   "cell_type": "markdown",
   "metadata": {},
   "source": [
    "## Get the interaction in the form of an adjacency for leave-k-out\n",
    "Design choice: we are recording implicit feedbacks here."
   ]
  },
  {
   "cell_type": "code",
   "execution_count": 33,
   "metadata": {},
   "outputs": [],
   "source": [
    "implicit_rating_matrix_dict = {}\n",
    "movieid_set = set()\n",
    "for userID, movieID, rating in zip(ratings['userId'], ratings['movieId'], ratings['rating']):\n",
    "    if userID not in implicit_rating_matrix_dict:\n",
    "        implicit_rating_matrix_dict[userID] = [movieID]\n",
    "    else:\n",
    "        implicit_rating_matrix_dict[userID].append(movieID)\n",
    "    movieid_set.add(movieID)"
   ]
  },
  {
   "cell_type": "code",
   "execution_count": 34,
   "metadata": {},
   "outputs": [
    {
     "name": "stdout",
     "output_type": "stream",
     "text": [
      "Number of users: 138493\n",
      "Number of movies: 26744\n"
     ]
    }
   ],
   "source": [
    "print('Number of users:', len(implicit_rating_matrix_dict))\n",
    "print('Number of movies:', len(movieid_set))"
   ]
  },
  {
   "cell_type": "markdown",
   "metadata": {},
   "source": [
    "## Do a leave-k-out style split"
   ]
  },
  {
   "cell_type": "code",
   "execution_count": 88,
   "metadata": {},
   "outputs": [],
   "source": [
    "def leave_n_percent_out(data, n=10):\n",
    "    user_list = []\n",
    "    item_train_list = []\n",
    "    item_val_list = []\n",
    "    item_test_list = []\n",
    "    item_gt_list = []\n",
    "    movie_set = set()\n",
    "    movie_set_indv = set()\n",
    "    for user, item_list in data.items():\n",
    "        item_gt_list.append(item_list)\n",
    "        k = len(item_list) * n // 100\n",
    "        if k == 0:\n",
    "            print('user:', user, 'has less than 20 items')\n",
    "        # randomly select 2k items from the item list\n",
    "        val_test_items = np.random.choice(np.setdiff1d(item_list, count_10_movies), size=2*k, replace=False)\n",
    "        val_items = list(val_test_items[:k])\n",
    "        test_items = list(val_test_items[k:])\n",
    "        train_items = list(np.setdiff1d(item_list, val_test_items))\n",
    "        user_list.append(user)\n",
    "        item_train_list.append(train_items)\n",
    "        item_val_list.append(val_items)\n",
    "        item_test_list.append(test_items)\n",
    "        for item in item_list:\n",
    "            movie_set.add(item) \n",
    "        for item in train_items:\n",
    "            movie_set_indv.add(item)\n",
    "        # for item in val_items:\n",
    "        #     movie_set_indv.add(item)\n",
    "        # for item in test_items:\n",
    "        #     movie_set_indv.add(item)\n",
    "    print('number of items:', len(movie_set)) \n",
    "    print('number of items in total:', len(movie_set_indv))\n",
    "\n",
    "    return user_list, item_gt_list, item_train_list, item_val_list, item_test_list"
   ]
  },
  {
   "cell_type": "markdown",
   "metadata": {},
   "source": [
    "## Get the dataset splits\n",
    "- design choice:  90% 5% 5% randomly selected"
   ]
  },
  {
   "cell_type": "code",
   "execution_count": 89,
   "metadata": {},
   "outputs": [
    {
     "name": "stdout",
     "output_type": "stream",
     "text": [
      "number of items: 26744\n",
      "number of items in total: 26744\n"
     ]
    }
   ],
   "source": [
    "user_list, item_gt_list, item_train_list, item_val_list, item_test_list = leave_n_percent_out(implicit_rating_matrix_dict, n=5)"
   ]
  },
  {
   "cell_type": "code",
   "execution_count": 90,
   "metadata": {},
   "outputs": [],
   "source": [
    "# test + train + val = all items\n",
    "for i in range(len(user_list)):\n",
    "    assert set(item_train_list[i] + item_val_list[i] + item_test_list[i]) == set(implicit_rating_matrix_dict[user_list[i]])\n",
    "\n",
    "# no overlap between train, val and test\n",
    "for i in range(len(user_list)):\n",
    "    assert len(np.intersect1d(item_train_list[i], item_val_list[i])) == 0\n",
    "    assert len(np.intersect1d(item_train_list[i], item_test_list[i])) == 0\n",
    "    assert len(np.intersect1d(item_val_list[i], item_test_list[i])) == 0\n",
    "\n",
    "# no empty train, val and test\n",
    "for i in range(len(user_list)):\n",
    "    assert len(item_train_list[i]) > 0\n",
    "    assert len(item_val_list[i]) > 0\n",
    "    assert len(item_test_list[i]) > 0\n",
    "\n",
    "# train set contains all items\n",
    "train_item_set = set()\n",
    "for i in range(len(user_list)):\n",
    "    for item in item_train_list[i]:\n",
    "        train_item_set.add(item)\n",
    "\n",
    "test_item_set = set()\n",
    "for i in range(len(user_list)):\n",
    "    for item in item_test_list[i]:\n",
    "        test_item_set.add(item)\n",
    "\n",
    "val_item_set = set()\n",
    "for i in range(len(user_list)):\n",
    "    for item in item_val_list[i]:\n",
    "        val_item_set.add(item)\n",
    "assert train_item_set.union(test_item_set).union(val_item_set) == set(movie2idx.values())\n",
    "\n",
    "# no overlap between train, val and test\n",
    "for i in range(len(user_list)):\n",
    "    for item in item_train_list[i]:\n",
    "        assert item not in item_val_list[i]\n",
    "        assert item not in item_test_list[i]\n",
    "    for item in item_val_list[i]:\n",
    "        assert item not in item_train_list[i]\n",
    "        assert item not in item_test_list[i]\n",
    "    for item in item_test_list[i]:\n",
    "        assert item not in item_train_list[i]\n",
    "        assert item not in item_val_list[i]"
   ]
  },
  {
   "cell_type": "markdown",
   "metadata": {},
   "source": [
    "## Create a DF out of the adjencency data"
   ]
  },
  {
   "cell_type": "code",
   "execution_count": null,
   "metadata": {},
   "outputs": [],
   "source": [
    "def adjacency2df(user_list, item_list_of_list):\n",
    "    user = []\n",
    "    item = []\n",
    "    for i in range(len(user_list)):\n",
    "        user.extend([user_list[i]] * len(item_list_of_list[i]))\n",
    "        item.extend(item_list_of_list[i])\n",
    "    return pd.DataFrame({'userId': user, 'movieId': item})"
   ]
  },
  {
   "cell_type": "markdown",
   "metadata": {},
   "source": [
    "## Print/ Save test train val and id dict"
   ]
  },
  {
   "cell_type": "code",
   "execution_count": 41,
   "metadata": {},
   "outputs": [],
   "source": [
    "train_df = adjacency2df(user_list, item_train_list)\n",
    "val_df = adjacency2df(user_list, item_val_list)\n",
    "test_df = adjacency2df(user_list, item_test_list)\n",
    "gt_df = adjacency2df(user_list, item_gt_list)"
   ]
  },
  {
   "cell_type": "code",
   "execution_count": 42,
   "metadata": {},
   "outputs": [],
   "source": [
    "gt_df.to_csv(f'/Users/ssdasgupta/research/set-based-collaborative-filtering/data/{dataset_name}/gt.csv', index=False)\n",
    "train_df.to_csv(f'/Users/ssdasgupta/research/set-based-collaborative-filtering/data/{dataset_name}/train.csv', index=False)\n",
    "val_df.to_csv(f'/Users/ssdasgupta/research/set-based-collaborative-filtering/data/{dataset_name}/val.csv', index=False)\n",
    "test_df.to_csv(f'/Users/ssdasgupta/research/set-based-collaborative-filtering/data/{dataset_name}/test.csv', index=False)"
   ]
  },
  {
   "cell_type": "code",
   "execution_count": 46,
   "metadata": {},
   "outputs": [],
   "source": [
    "user2id_df = pd.DataFrame({'original_userId': list(user2idx.keys()), 'userId': list(user2idx.values())})\n",
    "movie2id_df = pd.DataFrame({'original_movieId': list(movie2idx.keys()), 'movieId': list(movie2idx.values())})\n",
    "user2id_df.to_csv(f'/Users/ssdasgupta/research/set-based-collaborative-filtering/data/{dataset_name}/user2id.csv', index=False)\n",
    "movie2id_df.to_csv(f'/Users/ssdasgupta/research/set-based-collaborative-filtering/data/{dataset_name}/movie2id.csv', index=False)"
   ]
  },
  {
   "cell_type": "markdown",
   "metadata": {},
   "source": [
    "## Tags and genre integration with dataset"
   ]
  },
  {
   "cell_type": "markdown",
   "metadata": {},
   "source": [
    "### Load the genre2movies\n",
    "- Generate statistics of what movies are in genre2movies \n",
    "- What movies are in movielens catelog.\n",
    "- What movies are in the movielens ratings (not every movie is in the catelog.)"
   ]
  },
  {
   "cell_type": "code",
   "execution_count": 47,
   "metadata": {},
   "outputs": [],
   "source": [
    "genre2movies = pd.read_csv(f'/Users/ssdasgupta/research/set-based-collaborative-filtering/data/genre2movies/genre2movies.csv')\n",
    "movie_name2lensid = pd.read_csv(f'/Users/ssdasgupta/research/set-based-collaborative-filtering/data/ml-20m/movies.csv')"
   ]
  },
  {
   "cell_type": "code",
   "execution_count": 49,
   "metadata": {},
   "outputs": [
    {
     "name": "stdout",
     "output_type": "stream",
     "text": [
      "Number of movies in movie lens catelog: 27262\n",
      "Number of movies in genre2movies: 25877\n",
      "Number of movies in movielens ratings 26744\n",
      "Number of movies in genre2movies and in movielense catelog 25877\n",
      "Number of movies in genre2movies and not in movielense catelog 0\n",
      "Number of movies in movielense catelog and not in genre2movies 1385\n"
     ]
    }
   ],
   "source": [
    "print('Number of movies in movie lens catelog:', len(set(movies.title)))\n",
    "print('Number of movies in genre2movies:', len(genre2movies.movie.unique()))\n",
    "print('Number of movies in movielens ratings', len(set(ratings.movieId)))\n",
    "print('Number of movies in genre2movies and in movielense catelog', len(set(movies.title).intersection(set(genre2movies.movie.unique()))))\n",
    "print('Number of movies in genre2movies and not in movielense catelog', len(set(genre2movies.movie.unique()) - set(movies.title)))\n",
    "print('Number of movies in movielense catelog and not in genre2movies', len(set(movies.title).difference(genre2movies.movie.unique())))"
   ]
  },
  {
   "cell_type": "code",
   "execution_count": 50,
   "metadata": {},
   "outputs": [
    {
     "name": "stdout",
     "output_type": "stream",
     "text": [
      "Number of movies in genre2movies and not in ratings 473\n"
     ]
    }
   ],
   "source": [
    "count = 0\n",
    "for name, id in zip(movies.title, movies.movieId):\n",
    "    if id not in movie2idx:\n",
    "        if name in genre2movies.movie.unique():\n",
    "            count += 1\n",
    "print('Number of movies in genre2movies and not in ratings', count)"
   ]
  },
  {
   "cell_type": "markdown",
   "metadata": {},
   "source": [
    "### Map the movies from the genre2movies to the movielens"
   ]
  },
  {
   "cell_type": "code",
   "execution_count": 51,
   "metadata": {},
   "outputs": [
    {
     "name": "stdout",
     "output_type": "stream",
     "text": [
      "534\n"
     ]
    }
   ],
   "source": [
    "movie_name2id = {}\n",
    "count = 0\n",
    "for movie, id in zip(movie_name2lensid.title, movie_name2lensid.movieId):\n",
    "    if id not in movie2idx:\n",
    "        count+=1\n",
    "        continue\n",
    "    movie_name2id[movie] = movie2idx[id]\n",
    "print(count)"
   ]
  },
  {
   "cell_type": "code",
   "execution_count": 52,
   "metadata": {},
   "outputs": [
    {
     "name": "stdout",
     "output_type": "stream",
     "text": [
      "# 473 Movie not found in the dataset:\n",
      "# 25404 Movie found in the dataset:\n"
     ]
    }
   ],
   "source": [
    "genre2movieid = {}\n",
    "movie_not_in_dataset = set()\n",
    "movie_in_dataset = set()\n",
    "for movie, genre in zip(genre2movies.movie, genre2movies.genre):\n",
    "    if movie in movie_name2id:\n",
    "        if genre not in genre2movieid:\n",
    "            genre2movieid[genre] = [movie_name2id[movie]]\n",
    "        else:\n",
    "            genre2movieid[genre].append(movie_name2id[movie])\n",
    "        movie_in_dataset.add(movie)\n",
    "    else:\n",
    "        movie_not_in_dataset.add(movie)\n",
    "\n",
    "print(f\"# {len(movie_not_in_dataset)} Movie not found in the dataset:\")\n",
    "print(f\"# {len(movie_in_dataset)} Movie found in the dataset:\")"
   ]
  },
  {
   "cell_type": "markdown",
   "metadata": {},
   "source": [
    "### Create Genre, user to movies"
   ]
  },
  {
   "cell_type": "code",
   "execution_count": 53,
   "metadata": {},
   "outputs": [],
   "source": [
    "movieid2genre = {}\n",
    "for genre, movieid_list in genre2movieid.items():\n",
    "    for movieid in movieid_list:\n",
    "        if movieid not in movieid2genre:\n",
    "            movieid2genre[movieid] = [genre]\n",
    "        else:\n",
    "            movieid2genre[movieid].append(genre)"
   ]
  },
  {
   "cell_type": "code",
   "execution_count": 54,
   "metadata": {},
   "outputs": [
    {
     "name": "stderr",
     "output_type": "stream",
     "text": [
      "100%|██████████| 138493/138493 [01:19<00:00, 1743.37it/s]\n"
     ]
    }
   ],
   "source": [
    "genre_user2movieid = {}\n",
    "movies_not_found = set()\n",
    "movies_found = set()\n",
    "total_movies = set()\n",
    "for user, item_list in tqdm(implicit_rating_matrix_dict.items()):\n",
    "    total_movies.update(item_list)\n",
    "    for item in item_list:\n",
    "        if item in movieid2genre:\n",
    "            genre_list = movieid2genre[item]\n",
    "            for genre in genre_list:\n",
    "                if (genre, user) not in genre_user2movieid:\n",
    "                    genre_user2movieid[(genre, user)] = {item}\n",
    "                else:\n",
    "                    genre_user2movieid[(genre, user)].add(item)\n",
    "            movies_found.add(item)\n",
    "        else:\n",
    "            movies_not_found.add(item)"
   ]
  },
  {
   "cell_type": "markdown",
   "metadata": {},
   "source": [
    "#### Desgin Choice: only frequency greater than 20 considered."
   ]
  },
  {
   "cell_type": "code",
   "execution_count": 55,
   "metadata": {},
   "outputs": [
    {
     "name": "stdout",
     "output_type": "stream",
     "text": [
      "Number of (genre, user) tuple to evaluate on : 1040492\n"
     ]
    }
   ],
   "source": [
    "#filter out the (genre, movies) pair that has less than 20 movies\n",
    "genre_user2movieid_filtered = {}\n",
    "for (genre, user), movieid_set in genre_user2movieid.items():\n",
    "    if len(movieid_set) >= 20:\n",
    "        genre_user2movieid_filtered[(genre, user)] = movieid_set\n",
    "print(f\"Number of (genre, user) tuple to evaluate on : {len(genre_user2movieid_filtered)}\")"
   ]
  },
  {
   "cell_type": "markdown",
   "metadata": {},
   "source": [
    "### Save the genre, user, item dataset"
   ]
  },
  {
   "cell_type": "code",
   "execution_count": 56,
   "metadata": {},
   "outputs": [],
   "source": [
    "user_list = []\n",
    "genre_list = []\n",
    "item_list = []\n",
    "for (genre, user), items in genre_user2movieid_filtered.items():\n",
    "    user_list.extend([user] * len(items))\n",
    "    genre_list.extend([genre] * len(items))\n",
    "    item_list.extend(list(items))\n",
    "genre_user_item_df = pd.DataFrame({'userId': user_list, 'genre': genre_list, 'movieId': item_list})\n",
    "genre_user_item_df.to_csv(f'/Users/ssdasgupta/research/set-based-collaborative-filtering/data/{dataset_name}/genre_user_item.csv', index=False)"
   ]
  },
  {
   "cell_type": "markdown",
   "metadata": {},
   "source": [
    "### Get tag data from Movielens"
   ]
  },
  {
   "cell_type": "code",
   "execution_count": 57,
   "metadata": {},
   "outputs": [],
   "source": [
    "tags_df = pd.read_csv(f'/Users/ssdasgupta/research/set-based-collaborative-filtering/data/{dataset_name}/tags.csv')"
   ]
  },
  {
   "cell_type": "code",
   "execution_count": 81,
   "metadata": {},
   "outputs": [],
   "source": [
    "def get_tag2movieid(tags_df):\n",
    "    tag2movieid = {}\n",
    "    for movieid, tag in zip(tags_df.movieId, tags_df.tag):\n",
    "        tag = str(tag).lower()\n",
    "        if movieid in movie2idx:\n",
    "            if tag in tag2movieid:\n",
    "                tag2movieid[tag].add(movie2idx[movieid])\n",
    "            else:\n",
    "                tag2movieid[tag] = {movie2idx[movieid]}\n",
    "    return tag2movieid"
   ]
  },
  {
   "cell_type": "code",
   "execution_count": 82,
   "metadata": {},
   "outputs": [],
   "source": [
    "tag2movieid = get_tag2movieid(tags_df)\n",
    "tag_vocab = tag2movieid.keys()\n",
    "tag2id = {tag: i for i, tag in enumerate(tag_vocab)}\n",
    "tagid2movieid = {tag2id[tag]: list(movieid_set) for tag, movieid_set in tag2movieid.items()}"
   ]
  },
  {
   "cell_type": "code",
   "execution_count": 83,
   "metadata": {},
   "outputs": [],
   "source": [
    "def dict2df(_dict, key_name='key', value_name='value'):\n",
    "    key_list = []\n",
    "    value_list = []\n",
    "    for key, value in _dict.items():\n",
    "        key_list.extend([key] * len(value))\n",
    "        value_list.extend(list(value))\n",
    "    return pd.DataFrame({key_name: key_list, value_name: value_list})\n"
   ]
  },
  {
   "cell_type": "code",
   "execution_count": 61,
   "metadata": {},
   "outputs": [],
   "source": [
    "tagid2movieid_df = dict2df(tagid2movieid, key_name='tagId', value_name='movieId')\n",
    "tag2id_df = pd.DataFrame({'tag': list(tag2id.keys()), 'tagId': list(tag2id.values())})\n",
    "tag2id_df.to_csv(f'/Users/ssdasgupta/research/set-based-collaborative-filtering/data/{dataset_name}/tag2id.csv', index=False)\n",
    "tagid2movieid_df.to_csv(f'/Users/ssdasgupta/research/set-based-collaborative-filtering/data/{dataset_name}/tag2movie.csv', index=False)"
   ]
  },
  {
   "cell_type": "code",
   "execution_count": 63,
   "metadata": {},
   "outputs": [
    {
     "data": {
      "text/plain": [
       "34999"
      ]
     },
     "execution_count": 63,
     "metadata": {},
     "output_type": "execute_result"
    }
   ],
   "source": [
    "tag2movieid_df['tagId'].nunique()"
   ]
  },
  {
   "cell_type": "code",
   "execution_count": 74,
   "metadata": {},
   "outputs": [],
   "source": [
    "tag2movieid = {}\n",
    "missed_tag = set()\n",
    "total_tags = set()\n",
    "included_tags = set()\n",
    "for movieid, tag in zip(tags_df.movieId, tags_df.tag):\n",
    "    tag = str(tag).lower()\n",
    "    total_tags.add(tag)\n",
    "    if movieid not in movie2idx:\n",
    "        missed_tag.add(tag)\n",
    "        continue\n",
    "    else:\n",
    "        included_tags.add(tag)\n",
    "    if tag in tag2id:\n",
    "        tagid = tag2id[tag]\n",
    "        if tagid in tag2movieid:\n",
    "            tag2movieid[tagid].add(movie2idx[movieid])\n",
    "        else:\n",
    "            tag2movieid[tagid] = {movie2idx[movieid]}"
   ]
  },
  {
   "cell_type": "code",
   "execution_count": 85,
   "metadata": {},
   "outputs": [
    {
     "data": {
      "text/html": [
       "<div>\n",
       "<style scoped>\n",
       "    .dataframe tbody tr th:only-of-type {\n",
       "        vertical-align: middle;\n",
       "    }\n",
       "\n",
       "    .dataframe tbody tr th {\n",
       "        vertical-align: top;\n",
       "    }\n",
       "\n",
       "    .dataframe thead th {\n",
       "        text-align: right;\n",
       "    }\n",
       "</style>\n",
       "<table border=\"1\" class=\"dataframe\">\n",
       "  <thead>\n",
       "    <tr style=\"text-align: right;\">\n",
       "      <th></th>\n",
       "      <th>userId</th>\n",
       "      <th>movieId</th>\n",
       "      <th>tag</th>\n",
       "      <th>timestamp</th>\n",
       "    </tr>\n",
       "  </thead>\n",
       "  <tbody>\n",
       "    <tr>\n",
       "      <th>0</th>\n",
       "      <td>18</td>\n",
       "      <td>4141</td>\n",
       "      <td>Mark Waters</td>\n",
       "      <td>1240597180</td>\n",
       "    </tr>\n",
       "    <tr>\n",
       "      <th>1</th>\n",
       "      <td>65</td>\n",
       "      <td>208</td>\n",
       "      <td>dark hero</td>\n",
       "      <td>1368150078</td>\n",
       "    </tr>\n",
       "    <tr>\n",
       "      <th>2</th>\n",
       "      <td>65</td>\n",
       "      <td>353</td>\n",
       "      <td>dark hero</td>\n",
       "      <td>1368150079</td>\n",
       "    </tr>\n",
       "    <tr>\n",
       "      <th>3</th>\n",
       "      <td>65</td>\n",
       "      <td>521</td>\n",
       "      <td>noir thriller</td>\n",
       "      <td>1368149983</td>\n",
       "    </tr>\n",
       "    <tr>\n",
       "      <th>4</th>\n",
       "      <td>65</td>\n",
       "      <td>592</td>\n",
       "      <td>dark hero</td>\n",
       "      <td>1368150078</td>\n",
       "    </tr>\n",
       "    <tr>\n",
       "      <th>...</th>\n",
       "      <td>...</td>\n",
       "      <td>...</td>\n",
       "      <td>...</td>\n",
       "      <td>...</td>\n",
       "    </tr>\n",
       "    <tr>\n",
       "      <th>465559</th>\n",
       "      <td>138446</td>\n",
       "      <td>55999</td>\n",
       "      <td>dragged</td>\n",
       "      <td>1358983772</td>\n",
       "    </tr>\n",
       "    <tr>\n",
       "      <th>465560</th>\n",
       "      <td>138446</td>\n",
       "      <td>55999</td>\n",
       "      <td>Jason Bateman</td>\n",
       "      <td>1358983778</td>\n",
       "    </tr>\n",
       "    <tr>\n",
       "      <th>465561</th>\n",
       "      <td>138446</td>\n",
       "      <td>55999</td>\n",
       "      <td>quirky</td>\n",
       "      <td>1358983778</td>\n",
       "    </tr>\n",
       "    <tr>\n",
       "      <th>465562</th>\n",
       "      <td>138446</td>\n",
       "      <td>55999</td>\n",
       "      <td>sad</td>\n",
       "      <td>1358983772</td>\n",
       "    </tr>\n",
       "    <tr>\n",
       "      <th>465563</th>\n",
       "      <td>138472</td>\n",
       "      <td>923</td>\n",
       "      <td>rise to power</td>\n",
       "      <td>1194037967</td>\n",
       "    </tr>\n",
       "  </tbody>\n",
       "</table>\n",
       "<p>465564 rows × 4 columns</p>\n",
       "</div>"
      ],
      "text/plain": [
       "        userId  movieId            tag   timestamp\n",
       "0           18     4141    Mark Waters  1240597180\n",
       "1           65      208      dark hero  1368150078\n",
       "2           65      353      dark hero  1368150079\n",
       "3           65      521  noir thriller  1368149983\n",
       "4           65      592      dark hero  1368150078\n",
       "...        ...      ...            ...         ...\n",
       "465559  138446    55999        dragged  1358983772\n",
       "465560  138446    55999  Jason Bateman  1358983778\n",
       "465561  138446    55999         quirky  1358983778\n",
       "465562  138446    55999            sad  1358983772\n",
       "465563  138472      923  rise to power  1194037967\n",
       "\n",
       "[465564 rows x 4 columns]"
      ]
     },
     "execution_count": 85,
     "metadata": {},
     "output_type": "execute_result"
    }
   ],
   "source": [
    "tags_df"
   ]
  },
  {
   "cell_type": "code",
   "execution_count": 79,
   "metadata": {},
   "outputs": [
    {
     "data": {
      "text/plain": [
       "174"
      ]
     },
     "execution_count": 79,
     "metadata": {},
     "output_type": "execute_result"
    }
   ],
   "source": [
    "len(missed_tag.difference(included_tags))"
   ]
  },
  {
   "cell_type": "code",
   "execution_count": 70,
   "metadata": {},
   "outputs": [
    {
     "data": {
      "text/plain": [
       "174"
      ]
     },
     "execution_count": 70,
     "metadata": {},
     "output_type": "execute_result"
    }
   ],
   "source": [
    "len(tag_vocab) - len(tag2movieid.keys())"
   ]
  },
  {
   "cell_type": "markdown",
   "metadata": {},
   "source": [
    "## Some dummy codes"
   ]
  },
  {
   "cell_type": "code",
   "execution_count": null,
   "metadata": {},
   "outputs": [],
   "source": [
    "import pandas as pd\n",
    "import torch\n",
    "from torch.utils.data import TensorDataset, DataLoader\n",
    "\n",
    "def load_data(data_path, batch_size):\n",
    "    data = pd.read_csv(data_path)\n",
    "    user = data['user_id'].values\n",
    "    item = data['item_id'].values\n",
    "    dataset = TensorDataset(torch.LongTensor(user), torch.LongTensor(item))\n",
    "    return DataLoader(dataset, batch_size=batch_size, shuffle=True)\n",
    "\n",
    "train_loader = load_data('/Users/ssdasgupta/research/set-based-collaborative-filtering/data/ml-latest-small/train.csv', 32)\n",
    "val_loader = load_data('/Users/ssdasgupta/research/set-based-collaborative-filtering/data/ml-latest-small/val.csv', 32)\n",
    "test_loader = load_data('/Users/ssdasgupta/research/set-based-collaborative-filtering/data/ml-latest-small/test.csv', 32)\n"
   ]
  },
  {
   "cell_type": "code",
   "execution_count": null,
   "metadata": {},
   "outputs": [],
   "source": [
    "for batch in train_loader:\n",
    "    user = batch[0]\n",
    "    item = batch[1]\n",
    "    print(user, item)"
   ]
  },
  {
   "cell_type": "code",
   "execution_count": null,
   "metadata": {},
   "outputs": [],
   "source": []
  }
 ],
 "metadata": {
  "kernelspec": {
   "display_name": "boxrec",
   "language": "python",
   "name": "python3"
  },
  "language_info": {
   "codemirror_mode": {
    "name": "ipython",
    "version": 3
   },
   "file_extension": ".py",
   "mimetype": "text/x-python",
   "name": "python",
   "nbconvert_exporter": "python",
   "pygments_lexer": "ipython3",
   "version": "3.11.8"
  }
 },
 "nbformat": 4,
 "nbformat_minor": 2
}
