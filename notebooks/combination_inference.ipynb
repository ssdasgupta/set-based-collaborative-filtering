{
 "cells": [
  {
   "cell_type": "code",
   "execution_count": 4,
   "metadata": {},
   "outputs": [],
   "source": [
    "import torch\n",
    "import torch.nn as nn\n",
    "import torch.nn.functional as F\n",
    "import sys\n",
    "import pandas as pd\n",
    "import numpy as np\n",
    "import json\n",
    "from tqdm import tqdm\n",
    "import matplotlib.pyplot as plt\n",
    "from pprint import pprint\n",
    "sys.path.append('..')\n",
    "\n",
    "from model import BoxRec, BoxRecConditional\n",
    "from model import MatrixFactorization, MatrixFactorizationWithBias\n",
    "from data_loaders.data_processing import JointDataProcessing\n",
    "from model.box.utils import log1mexp"
   ]
  },
  {
   "cell_type": "markdown",
   "metadata": {},
   "source": [
    "# Load Models"
   ]
  },
  {
   "cell_type": "markdown",
   "metadata": {},
   "source": [
    "## Functionalities"
   ]
  },
  {
   "cell_type": "code",
   "execution_count": 64,
   "metadata": {},
   "outputs": [],
   "source": [
    "def load_model(model_dir):\n",
    "    arg_dict = json.load(open(model_dir + '/args.json', 'r'))\n",
    "    if arg_dict['model'] == 'box':\n",
    "        model = BoxRec(\n",
    "                n_users=arg_dict['num_users'],\n",
    "                n_items=arg_dict['num_items'],\n",
    "                embedding_dim=arg_dict['embedding_dim'],\n",
    "                volume_temp=arg_dict['volume_temp'],\n",
    "                intersection_temp=arg_dict['intersection_temp']\n",
    "        )\n",
    "    elif arg_dict['model'] == 'box_conditional':\n",
    "        model = BoxRecConditional(\n",
    "                n_users=arg_dict['num_users'],\n",
    "                n_items=arg_dict['num_items'],\n",
    "                embedding_dim=arg_dict['embedding_dim'],\n",
    "                volume_temp=arg_dict['volume_temp'],\n",
    "                intersection_temp=arg_dict['intersection_temp']\n",
    "        )\n",
    "    elif arg_dict['model'] == 'mf_bias':\n",
    "        model = MatrixFactorizationWithBias(\n",
    "                    n_users=arg_dict['num_users'],\n",
    "                    n_items=arg_dict['num_items'],\n",
    "                    embedding_dim=arg_dict['embedding_dim'],\n",
    "        )\n",
    "    elif arg_dict['model'] == 'mf':\n",
    "        model = MatrixFactorization(\n",
    "                    n_users=arg_dict['num_users'],\n",
    "                    n_items=arg_dict['num_items'],\n",
    "                    embedding_dim=arg_dict['embedding_dim'],\n",
    "        )\n",
    "    else:\n",
    "        raise ValueError('Invalid model type')\n",
    "    model.load_state_dict(torch.load(model_dir + '/model_best_ndcg.pth',\n",
    "                                     map_location=torch.device('cpu')))\n",
    "    return model, arg_dict"
   ]
  },
  {
   "cell_type": "markdown",
   "metadata": {},
   "source": [
    "## Load Box Model attr"
   ]
  },
  {
   "cell_type": "code",
   "execution_count": 6,
   "metadata": {},
   "outputs": [],
   "source": [
    "box_cond_model_dir = \"../model/ml1m/box_conditional/user_attribute_movie/dim_64-negs_10\"\n",
    "model_box_ma, arg_dict_box_ma = load_model(box_cond_model_dir)"
   ]
  },
  {
   "cell_type": "markdown",
   "metadata": {},
   "source": [
    "## Load Vector Model attribute"
   ]
  },
  {
   "cell_type": "code",
   "execution_count": 7,
   "metadata": {},
   "outputs": [],
   "source": [
    "vector_model_dir = \"../model/ml1m/mf_bias/user_attribute_movie/dim_64-negs_20\" ## need to pick from a 128 pool\n",
    "model_vector_ma, arg_dict_vector_ma = load_model(vector_model_dir)"
   ]
  },
  {
   "cell_type": "markdown",
   "metadata": {},
   "source": [
    "## Load Box Model Genre"
   ]
  },
  {
   "cell_type": "code",
   "execution_count": 65,
   "metadata": {},
   "outputs": [],
   "source": [
    "box_cond_model_dir = \"../model/ml20m/box_conditional/user_genre_movie/joint/dim_64-negs_5\"\n",
    "model_box_mg, arg_dict_box_mg = load_model(box_cond_model_dir)"
   ]
  },
  {
   "cell_type": "markdown",
   "metadata": {},
   "source": [
    "## Load Vector Model Genre"
   ]
  },
  {
   "cell_type": "code",
   "execution_count": 67,
   "metadata": {},
   "outputs": [],
   "source": [
    "vector_model_dir = \"../model/ml20m/mf_bias/user_genre_movie/joint/dim_128-negs_20\"\n",
    "model_vector_mg, arg_dict_vector_mg = load_model(vector_model_dir)"
   ]
  },
  {
   "cell_type": "markdown",
   "metadata": {},
   "source": [
    "# Load dataloader"
   ]
  },
  {
   "cell_type": "markdown",
   "metadata": {},
   "source": [
    "## functionalities"
   ]
  },
  {
   "cell_type": "code",
   "execution_count": 68,
   "metadata": {},
   "outputs": [],
   "source": [
    "def gt_df_to_matrix(dataset, gt_df):\n",
    "    columns = gt_df.columns\n",
    "    n_rows = len(gt_df[columns[0]].unique())\n",
    "    n_cols = dataset.n_movies\n",
    "    gt_matrix = torch.zeros((n_rows, n_cols), dtype=torch.bool)  \n",
    "    gt_matrix[gt_df[columns[0]], gt_df[columns[1]]] = 1\n",
    "    return gt_matrix\n",
    "\n",
    "def get_hr_ndcg_101(scores):\n",
    "    target_idx = torch.tensor(scores.shape[1] - 1)\n",
    "    pred_order = torch.argsort(scores, dim=-1, descending=True)\n",
    "    rank = torch.where(pred_order == target_idx)[1] + 1\n",
    "    hr_101 = sum(rank <= 10) / len(rank)\n",
    "    ndcg_101 = sum(1.0 / torch.log2(rank + 1)) / len(rank)\n",
    "    return hr_101.item(), ndcg_101.item()\n",
    "\n",
    "def get_hr_ndcg_at_k(rank_list):\n",
    "    rank_list = np.array(rank_list)\n",
    "    hr_list = []\n",
    "    for k in [10, 20, 50]:\n",
    "        hr = sum(rank_list <= k) / len(rank_list)\n",
    "        hr_list.append(hr)\n",
    "        print(f'HR@{k}: {hr}')\n",
    "    ndcg = sum(1.0 / np.log2(rank_list + 1 + 1)) / len(rank_list)\n",
    "    print(f'NDCG: {ndcg}')\n",
    "    return hr_list, ndcg"
   ]
  },
  {
   "cell_type": "markdown",
   "metadata": {},
   "source": [
    "## Dataloader class"
   ]
  },
  {
   "cell_type": "code",
   "execution_count": 69,
   "metadata": {},
   "outputs": [],
   "source": [
    "def get_dataset(arg_dict):\n",
    "    dataset = JointDataProcessing(data_dir='../' + arg_dict['data_dir'],\n",
    "                                        dataset_type=arg_dict['dataset'],\n",
    "                                        batch_size=arg_dict['batch_size'])\n",
    "    return dataset\n"
   ]
  },
  {
   "cell_type": "markdown",
   "metadata": {},
   "source": [
    "## Get test and validation numbers\n",
    "- This is to see if the model loading has worked and if their is any anomaly in the model.\n",
    "- Also the test numbers will be reported."
   ]
  },
  {
   "cell_type": "markdown",
   "metadata": {},
   "source": [
    "#### Functionalities"
   ]
  },
  {
   "cell_type": "code",
   "execution_count": 70,
   "metadata": {},
   "outputs": [],
   "source": [
    "def check_test_results(dataset, model, mode='valid'):\n",
    "    if mode == 'valid':\n",
    "        user_movie_dict = dataset.val_neg_user_movie.to_dict('list')\n",
    "        attribute_movie_dict = dataset.val_neg_attribute_movie.to_dict('list')\n",
    "    elif mode == 'test':\n",
    "        user_movie_dict = dataset.test_neg_user_movie.to_dict('list')\n",
    "        attribute_movie_dict = dataset.test_neg_attribute_movie.to_dict('list')\n",
    "\n",
    "    users = [int(x) for x in user_movie_dict.keys()]\n",
    "    items = [x for x in user_movie_dict.values()]\n",
    "    users = torch.tensor(users)\n",
    "    items = torch.tensor(items)\n",
    "    scores = model(users, items)\n",
    "    valid_hr, valid_ndcg = get_hr_ndcg_101(scores)\n",
    "\n",
    "    attributes = [int(x) + dataset.n_users for x in attribute_movie_dict.keys()] ### might be wrong\n",
    "    items = [x for x in attribute_movie_dict.values()]\n",
    "    attributes = torch.tensor(attributes)\n",
    "    items = torch.tensor(items)\n",
    "    scores = model(attributes, items)\n",
    "    valid_hr_attr, valid_ndcg_attr = get_hr_ndcg_101(scores)\n",
    "\n",
    "    return {'hr': valid_hr, \n",
    "            'ndcg': valid_ndcg, \n",
    "            'hr_attr': valid_hr_attr, \n",
    "            'ndcg_attr': valid_ndcg_attr\n",
    "            }\n"
   ]
  },
  {
   "cell_type": "markdown",
   "metadata": {},
   "source": [
    "# Inference"
   ]
  },
  {
   "cell_type": "markdown",
   "metadata": {},
   "source": [
    "#### Utility Functions"
   ]
  },
  {
   "cell_type": "code",
   "execution_count": 71,
   "metadata": {},
   "outputs": [],
   "source": [
    "def vector_predict(combination_vector, model):\n",
    "    all_items = torch.arange(model.n_items)\n",
    "    item_vectors = model.item_embeddings(all_items)\n",
    "    scores = (combination_vector * item_vectors).sum(dim=-1)\n",
    "    return scores\n",
    "\n",
    "def box_predict(combination_box, model):\n",
    "    all_items = torch.arange(model.n_items)\n",
    "    item_boxes = model.item_embeddings(all_items)\n",
    "    if model.intersection_temp == 0.0:\n",
    "        scores = combination_box.intersection_log_soft_volume(\n",
    "            item_boxes, volume_temp=model.volume_temp\n",
    "        )\n",
    "    else:\n",
    "        scores = combination_box.gumbel_intersection_log_volume(\n",
    "            item_boxes,\n",
    "            volume_temp=model.volume_temp,\n",
    "            intersection_temp=model.intersection_temp,\n",
    "        )\n",
    "    return scores\n",
    "\n",
    "def box_predict_conditional(combination_box, model):\n",
    "    all_items = torch.arange(model.n_items)\n",
    "    item_boxes = model.item_embeddings(all_items)\n",
    "    if model.intersection_temp == 0.0:\n",
    "        intersection_scores = combination_box.intersection_log_soft_volume(\n",
    "            item_boxes, volume_temp=model.volume_temp\n",
    "        )\n",
    "    else:\n",
    "        intersection_scores = combination_box.gumbel_intersection_log_volume(\n",
    "            item_boxes,\n",
    "            volume_temp=model.volume_temp,\n",
    "            intersection_temp=model.intersection_temp,\n",
    "        )\n",
    "    log_volume_items = item_boxes.log_soft_volume_adjusted(volume_temp=model.volume_temp,\n",
    "                                                      intersection_temp=model.intersection_temp)\n",
    "    conditional_prob = intersection_scores - log_volume_items\n",
    "    assert (conditional_prob <= 0).all(), \"Log probability can not be positive\"\n",
    "    return conditional_prob"
   ]
  },
  {
   "cell_type": "markdown",
   "metadata": {},
   "source": [
    "## $U \\cap A$"
   ]
  },
  {
   "cell_type": "code",
   "execution_count": 72,
   "metadata": {},
   "outputs": [],
   "source": [
    "def get_ranking_metrices(query_df,\n",
    "                         model,\n",
    "                         arg_dict,\n",
    "                         gt_matrix,\n",
    "                         predicted_a_m_matrix,\n",
    "                         apply_mask = True):\n",
    "\n",
    "    rank_u_mult_a = []\n",
    "    rank_u_int_a = []\n",
    "    rank_a_and_u = []\n",
    "    for user_id, attribute_id, movie_id in tqdm(zip(query_df['user_id'], query_df['attribute_id'], query_df['movie_id'])):\n",
    "        u = torch.tensor([user_id])\n",
    "        a = torch.tensor([attribute_id + n_users])\n",
    "        m = torch.tensor([movie_id])\n",
    "        if apply_mask:\n",
    "            mask = torch.ones(model_vector_mg.n_items, dtype=torch.bool)\n",
    "            gt_m = torch.where(gt_matrix[user_id, attribute_id] == 1)[0]\n",
    "            mask[gt_m] = False\n",
    "            mask[m] = True\n",
    "\n",
    "        score_u = model.predict_item(u)\n",
    "        score_a = model.predict_item(a)\n",
    "\n",
    "        ## Score multiplication\n",
    "        if arg_dict['model'] == 'box_conditional':\n",
    "            score_u_mult_a = score_u + score_a\n",
    "        elif arg_dict['model'] == 'mf_bias':\n",
    "            score_u_mult_a = F.logsigmoid(score_u) + F.logsigmoid(score_a)\n",
    "        if apply_mask:\n",
    "            score_u_mult_a[~mask] = -torch.inf\n",
    "        order_u_mult_a = torch.argsort(score_u_mult_a, dim=-1, descending=True)\n",
    "\n",
    "        ## Matrix completion\n",
    "        a_m = torch.where(predicted_a_m_matrix[attribute_id])[0]\n",
    "        if m not in a_m:\n",
    "            rank_a_and_u.append(model.n_items)\n",
    "        else:\n",
    "            if apply_mask:\n",
    "                score_u[~mask] = -torch.inf\n",
    "            order_u = torch.argsort(score_u, dim=-1, descending=True)\n",
    "            a_in_u = (order_u[:, None] == a_m).nonzero()[:, 0]\n",
    "            order_a_in_u = order_u[a_in_u]\n",
    "            rank_a_and_u.append(torch.where(order_a_in_u == m)[0].item())\n",
    "\n",
    "        ## Score intersection\n",
    "        if arg_dict['model'] == 'box_conditional':\n",
    "            u_box = model.user_embeddings(u)\n",
    "            a_box = model.user_embeddings(a)\n",
    "            u_int_a_box = u_box.intersection(a_box)\n",
    "            u_int_a_box = u_box.intersection(\n",
    "                        a_box,\n",
    "                        intersection_temp=model.intersection_temp,\n",
    "                        bayesian=True)\n",
    "            u_int_a_scores = box_predict_conditional(u_int_a_box, model)\n",
    "        elif arg_dict['model'] == 'mf_bias':\n",
    "            u_vector = model.user_embeddings(u)\n",
    "            a_vector = model.user_embeddings(a)\n",
    "            u_int_a_vector = u_vector + a_vector\n",
    "            u_int_a_scores = vector_predict(u_int_a_vector, model)\n",
    "        \n",
    "        if apply_mask:  \n",
    "            u_int_a_scores[~mask] = -torch.inf\n",
    "        order_u_int_a = torch.argsort(u_int_a_scores, dim=-1, descending=True)\n",
    "\n",
    "        # Get ranks\n",
    "        rank_u_mult_a.append(torch.where(order_u_mult_a == m)[0].item())\n",
    "        rank_u_int_a.append(torch.where(order_u_int_a == m)[0].item())\n",
    "\n",
    "    print(\"Calculating metrics for user*attribute\")\n",
    "    hr_u_mult_a, ndcg_u_mult_a = get_hr_ndcg_at_k(rank_u_mult_a)\n",
    "    print(\"Calculating metrics for user intersection attribute\")\n",
    "    hr_u_int_a, ndcg_u_int_a = get_hr_ndcg_at_k(rank_u_int_a)\n",
    "    print(\"Calculating metrics for attribute and user threshold\")\n",
    "    hr_a_and_u, ndcg_a_and_u = get_hr_ndcg_at_k(rank_a_and_u)\n",
    "\n",
    "\n",
    "    return {\n",
    "            'hr_u_mult_a': hr_u_mult_a, 'ndcg_u_mult_a': ndcg_u_mult_a,\n",
    "            'hr_u_int_a': hr_u_int_a, 'ndcg_u_int_a': ndcg_u_int_a,\n",
    "            'hr_a_and_u': hr_a_and_u, 'ndcg_a_and_u': ndcg_a_and_u\n",
    "            }"
   ]
  },
  {
   "cell_type": "markdown",
   "metadata": {},
   "source": [
    "## $ U \\cap A_1 \\cap A_2$"
   ]
  },
  {
   "cell_type": "code",
   "execution_count": 73,
   "metadata": {},
   "outputs": [],
   "source": [
    "def get_ranking_metrices_intersection(query_df,\n",
    "                                      model,\n",
    "                                      arg_dict,\n",
    "                                      gt_matrix,\n",
    "                                      predicted_a_m_matrix,\n",
    "                                      apply_mask=True):\n",
    "    keep_top = 300\n",
    "    rank_u_a1_a2_mult = []\n",
    "    rank_u_a1_a2_int = []\n",
    "    rank_u_a1_a2_and = []\n",
    "    for user_id, movie_id, attribute_1, attribute_2 in tqdm(query_df.values):\n",
    "        u = torch.tensor([user_id])\n",
    "        m = torch.tensor([movie_id])\n",
    "        a1 = torch.tensor([attribute_1 + n_users])\n",
    "        a2 = torch.tensor([attribute_2 + n_users])\n",
    "\n",
    "        if apply_mask:\n",
    "            mask = torch.ones(model_vector_mg.n_items, dtype=torch.bool)\n",
    "            gt_m = torch.where(gt_matrix[user_id, attribute_1, attribute_2] == 1)[0]\n",
    "            mask[gt_m] = False\n",
    "            mask[m] = True\n",
    "\n",
    "        score_u = model.predict_item(u)\n",
    "        score_a1 = model.predict_item(a1)\n",
    "        score_a2 = model.predict_item(a2)\n",
    "\n",
    "        ## Score multiplication\n",
    "        if arg_dict['model'] == 'box_conditional':\n",
    "            score_u_a1_a2_mult = score_u + score_a1 + score_a2\n",
    "        elif arg_dict['model'] == 'mf_bias':\n",
    "            score_u_a1_a2_mult = F.logsigmoid(score_u) + F.logsigmoid(score_a1) + F.logsigmoid(score_a2)\n",
    "        \n",
    "        if apply_mask:\n",
    "            score_u_a1_a2_mult[~mask] = -torch.inf\n",
    "        order_u_a1_a2_mult = torch.argsort(score_u_a1_a2_mult, dim=-1, descending=True)\n",
    "\n",
    "        ## Score intersection\n",
    "        if arg_dict['model'] == 'box_conditional':\n",
    "            u_box = model.user_embeddings(u)\n",
    "            a1_box = model.user_embeddings(a1)\n",
    "            a2_box = model.user_embeddings(a2)\n",
    "            u_int_a1_box = u_box.intersection(\n",
    "                a1_box,\n",
    "                intersection_temp=arg_dict['intersection_temp'],\n",
    "                bayesian=True)\n",
    "            u_a1_a2_int_box = u_int_a1_box.intersection(\n",
    "                a2_box,\n",
    "                intersection_temp=arg_dict['intersection_temp'],\n",
    "                bayesian=True)\n",
    "            u_a1_a2_scores = box_predict_conditional(u_a1_a2_int_box, model)\n",
    "        elif arg_dict['model'] == 'mf_bias':\n",
    "            u_vector = model.user_embeddings(u)\n",
    "            a1_vector = model.user_embeddings(a1)\n",
    "            a2_vector = model.user_embeddings(a2)\n",
    "            u_a1_a2_vector = u_vector + a1_vector + a2_vector\n",
    "            u_a1_a2_scores = vector_predict(u_a1_a2_vector, model)\n",
    "        \n",
    "        if apply_mask:\n",
    "            u_a1_a2_scores[~mask] = -torch.inf\n",
    "        order_u_a1_a2_int = torch.argsort(u_a1_a2_scores, dim=-1, descending=True)\n",
    "\n",
    "        ## Matrix completion\n",
    "        a1_m = torch.where(predicted_a_m_matrix[attribute_1])[0].tolist()\n",
    "        a2_m = torch.where(predicted_a_m_matrix[attribute_2])[0].tolist()\n",
    "        a1_a2_m = set(a1_m).intersection(set(a2_m))\n",
    "        if m.item() not in a1_a2_m:\n",
    "            rank_u_a1_a2_and.append(model.n_items)\n",
    "        else:\n",
    "            if apply_mask:\n",
    "                score_u[~mask] = -torch.inf\n",
    "            order_u = torch.argsort(score_u, dim=-1, descending=True)\n",
    "            a1_a2_m = torch.tensor(list(a1_a2_m))\n",
    "            a1_a2_in_u = (order_u[:, None] == a1_a2_m).nonzero()[:, 0]\n",
    "            order_a1_a2_in_u = order_u[a1_a2_in_u]\n",
    "            rank_u_a1_a2_and.append(torch.where(order_a1_a2_in_u == m)[0].item())\n",
    "\n",
    "\n",
    "        ## get ranks\n",
    "        rank_u_a1_a2_mult.append(torch.where(order_u_a1_a2_mult == m)[0].item())\n",
    "        rank_u_a1_a2_int.append(torch.where(order_u_a1_a2_int == m)[0].item())\n",
    "\n",
    "    print(\"Post hoc filtering\")\n",
    "    hr_u_a1_a2_and, ndcg_u_a1_a2_and = get_hr_ndcg_at_k(rank_u_a1_a2_and)\n",
    "    print(\"Calculating metrics for user*attribute1*attribute2\")\n",
    "    hr_u_a1_a2_mult, ndcg_u_a1_a2_mult = get_hr_ndcg_at_k(rank_u_a1_a2_mult)\n",
    "    print(\"Calculating metrics for user intersection attribute1 intersection attribute2\")\n",
    "    hr_u_a1_a2_int, ndcg_u_a1_a2_int = get_hr_ndcg_at_k(rank_u_a1_a2_int)\n",
    "\n",
    "    return {\n",
    "            'hr_u_a1_a2_mult': hr_u_a1_a2_mult, 'ndcg_u_a1_a2_mult': ndcg_u_a1_a2_mult,\n",
    "            'hr_u_a1_a2_int': hr_u_a1_a2_int, 'ndcg_u_a1_a2_int': ndcg_u_a1_a2_int,\n",
    "            'hr_u_a1_a2_and': hr_u_a1_a2_and, 'ndcg_u_a1_a2_and': ndcg_u_a1_a2_and\n",
    "            }"
   ]
  },
  {
   "cell_type": "markdown",
   "metadata": {},
   "source": [
    "## $ U \\cap A_1 \\cap \\neg A_2$"
   ]
  },
  {
   "cell_type": "code",
   "execution_count": 74,
   "metadata": {},
   "outputs": [],
   "source": [
    "def get_ranking_metrices_difference(query_df,\n",
    "                                    model,\n",
    "                                    arg_dict,\n",
    "                                    gt_matrix,\n",
    "                                    predicted_a_m_matrix,\n",
    "                                    apply_mask=True):\n",
    "    keep_top = 300\n",
    "    rank_u_a1_not_a2_mult = []\n",
    "    rank_u_a1_not_a2_int = []\n",
    "    rank_u_a1_not_a2_and = []\n",
    "    for user_id, movie_id, attribute_1, attribute_2 in tqdm(query_df.values):\n",
    "        u = torch.tensor([user_id])\n",
    "        m = torch.tensor([movie_id])\n",
    "        a1 = torch.tensor([attribute_1 + n_users])\n",
    "        a2 = torch.tensor([attribute_2 + n_users])\n",
    "\n",
    "        if apply_mask:\n",
    "            mask = torch.ones(model_vector_mg.n_items, dtype=torch.bool)\n",
    "            gt_m = torch.where(gt_matrix[user_id, attribute_1, attribute_2] == 1)[0]\n",
    "            mask[gt_m] = False\n",
    "            mask[m] = True\n",
    "\n",
    "        score_u = model.predict_item(u)\n",
    "        score_a1 = model.predict_item(a1)\n",
    "        score_a2 = model.predict_item(a2)\n",
    "        \n",
    "\n",
    "        ## Score Multiplication\n",
    "        if arg_dict['model'] == 'box_conditional':\n",
    "            score_u_a1_not_a2_mult = score_u + score_a1 + log1mexp(score_a2)\n",
    "        elif arg_dict['model'] == 'mf_bias':\n",
    "            score_u_a1_not_a2_mult = F.logsigmoid(score_u) + F.logsigmoid(score_a1) + F.logsigmoid(-score_a2)\n",
    "        \n",
    "        if apply_mask:\n",
    "            score_u_a1_not_a2_mult[~mask] = -torch.inf\n",
    "        order_u_a1_not_a2_mult = torch.argsort(score_u_a1_not_a2_mult, dim=-1, descending=True)\n",
    "\n",
    "        ## Score Set Operations\n",
    "        if arg_dict['model'] == 'box_conditional':\n",
    "            u_box = model.user_embeddings(u)\n",
    "            a1_box = model.user_embeddings(a1)\n",
    "            a2_box = model.user_embeddings(a2)\n",
    "            u_int_a1_box = u_box.intersection(\n",
    "                a1_box,\n",
    "                intersection_temp=model.intersection_temp,\n",
    "                bayesian=True)\n",
    "            u_a1_a2_int_box = u_int_a1_box.intersection(\n",
    "                a2_box,\n",
    "                intersection_temp=model.intersection_temp,\n",
    "                bayesian=True)\n",
    "        \n",
    "            u_a1_a2_scores = box_predict_conditional(u_a1_a2_int_box, model)\n",
    "            u_a1_scores = box_predict_conditional(u_int_a1_box, model)\n",
    "            scores_u_a1_not_a2_int = u_a1_scores + log1mexp(u_a1_a2_scores)\n",
    "        elif arg_dict['model'] == 'mf_bias':\n",
    "            u_vector = model.user_embeddings(u)\n",
    "            a1_vector = model.user_embeddings(a1)\n",
    "            a2_vector = model.user_embeddings(a2)\n",
    "            u_a1_not_a2_vector = u_vector + a1_vector - a2_vector\n",
    "            scores_u_a1_not_a2_int = vector_predict(u_a1_not_a2_vector, model)\n",
    "        \n",
    "        if apply_mask:\n",
    "            scores_u_a1_not_a2_int[~mask] = -torch.inf\n",
    "        order_u_a1_not_a2_int = torch.argsort(scores_u_a1_not_a2_int, dim=-1, descending=True)\n",
    "\n",
    "        ## Matrix completion\n",
    "        a1_m = torch.where(predicted_a_m_matrix[attribute_1])[0].tolist()\n",
    "        a2_m = torch.where(predicted_a_m_matrix[attribute_2])[0].tolist()\n",
    "        a1_not_a2_m = set(a1_m).difference(set(a2_m))\n",
    "        \n",
    "        if m not in a1_not_a2_m:\n",
    "            rank_u_a1_not_a2_and.append(model.n_items)\n",
    "        else:\n",
    "            if apply_mask:\n",
    "                score_u[~mask] = -torch.inf\n",
    "            order_u = torch.argsort(score_u, dim=-1, descending=True)\n",
    "            a1_not_a2_in_u = (order_u[:, None] == torch.tensor(list(a1_not_a2_m))).nonzero()[:, 0]\n",
    "            order_a1_not_a2_in_u = order_u[a1_not_a2_in_u]\n",
    "            rank_u_a1_not_a2_and.append(torch.where(order_a1_not_a2_in_u == m)[0].item())\n",
    "        \n",
    "        ## get ranks\n",
    "        rank_u_a1_not_a2_mult.append(torch.where(order_u_a1_not_a2_mult == m)[0].item())\n",
    "        rank_u_a1_not_a2_int.append(torch.where(order_u_a1_not_a2_int == m)[0].item())\n",
    "    \n",
    "    print(\"Post hoc filtering\")\n",
    "    hr_u_a1_not_a2_and, ndcg_u_a1_not_a2_and = get_hr_ndcg_at_k(rank_u_a1_not_a2_and)\n",
    "\n",
    "    print(\"Calculating metrics for user*attribute1-not-attribute2\")\n",
    "    hr_u_a1_not_a2_mult, ndcg_u_a1_not_a2_mult = get_hr_ndcg_at_k(rank_u_a1_not_a2_mult)\n",
    "    print(\"Calculating metrics for user intersection attribute1 - intersection attribute2\")\n",
    "    hr_u_a1_not_a2_int, ndcg_u_a1_not_a2_int = get_hr_ndcg_at_k(rank_u_a1_not_a2_int)\n",
    "\n",
    "    return {\n",
    "            'hr_u_a1_not_a2_mult': hr_u_a1_not_a2_mult, 'ndcg_u_a1_not_a2_mult': ndcg_u_a1_not_a2_mult,\n",
    "            'hr_u_a1_not_a2_int': hr_u_a1_not_a2_int, 'ndcg_u_a1_not_a2_int': ndcg_u_a1_not_a2_int,\n",
    "            'hr_u_a1_not_a2_and': hr_u_a1_not_a2_and, 'ndcg_u_a1_not_a2_and': ndcg_u_a1_not_a2_and\n",
    "            }\n"
   ]
  },
  {
   "cell_type": "markdown",
   "metadata": {},
   "source": [
    "# Get Results for Movie-Genre (MG) Joint Matrix"
   ]
  },
  {
   "cell_type": "code",
   "execution_count": 75,
   "metadata": {},
   "outputs": [
    {
     "name": "stdout",
     "output_type": "stream",
     "text": [
      "Data files read successfully...\n",
      "ID files read successfully...\n",
      "Negative data files read successfully...\n",
      "Data loaded\n",
      "Number of users: 138493\n",
      "Number of movies: 26744\n",
      "Number of attributes: 95\n",
      "Combination queries loaded\n"
     ]
    }
   ],
   "source": [
    "dataset_mg = get_dataset(arg_dict_box_mg)\n",
    "n_users = dataset_mg.n_users\n",
    "n_movies = dataset_mg.n_movies\n",
    "n_attributes = dataset_mg.n_attributes\n",
    "gt_user_movie_matrix_mg = gt_df_to_matrix(dataset_mg, dataset_mg.gt_user_movie)\n",
    "gt_attribute_movie_matrix_mg = gt_df_to_matrix(dataset_mg, dataset_mg.gt_attribute_movie)\n",
    "dataset_mg.read_neg_data_files()\n",
    "print('Data loaded')\n",
    "print('Number of users:', n_users)\n",
    "print('Number of movies:', n_movies)\n",
    "print('Number of attributes:', n_attributes)\n",
    "user_attribute_query_mg = pd.read_csv('../' + arg_dict_box_mg['data_dir'] + '/combinations/user_attribute.csv')\n",
    "user_attributeA_attributeB_mg = pd.read_csv('../' + arg_dict_box_mg['data_dir'] + '/combinations/user_attributeA_attributeB.csv')\n",
    "user_attributeA_not_attributeB_mg = pd.read_csv('../' + arg_dict_box_mg['data_dir'] + '/combinations/user_attributeA_not_attributeB.csv')\n",
    "print(\"Combination queries loaded\")"
   ]
  },
  {
   "cell_type": "code",
   "execution_count": 76,
   "metadata": {},
   "outputs": [
    {
     "name": "stdout",
     "output_type": "stream",
     "text": [
      "Validation results for box model\n",
      "{'hr': 0.9414096474647522,\n",
      " 'hr_attr': 0.8648648858070374,\n",
      " 'ndcg': 0.7325978875160217,\n",
      " 'ndcg_attr': 0.6610234975814819}\n",
      "Validation results for vector model\n",
      "{'hr': 0.9743359684944153,\n",
      " 'hr_attr': 0.5810810923576355,\n",
      " 'ndcg': 0.7017239332199097,\n",
      " 'ndcg_attr': 0.3932837247848511}\n"
     ]
    }
   ],
   "source": [
    "print(\"Validation results for box model\")\n",
    "pprint(check_test_results(dataset_mg, model_box_mg))\n",
    "print(\"Validation results for vector model\")\n",
    "pprint(check_test_results(dataset_mg, model_vector_mg))"
   ]
  },
  {
   "cell_type": "markdown",
   "metadata": {},
   "source": [
    "### Trying out"
   ]
  },
  {
   "cell_type": "code",
   "execution_count": 17,
   "metadata": {},
   "outputs": [],
   "source": [
    "import torch"
   ]
  },
  {
   "cell_type": "code",
   "execution_count": 59,
   "metadata": {},
   "outputs": [],
   "source": [
    "def score_all_items(user, model):\n",
    "    all_items = torch.arange(model.n_items)\n",
    "    item_vectors = model.item_embeddings(all_items)\n",
    "    user_vector = model.user_embeddings(user)\n",
    "    scores = torch.matmul(user_vector, item_vectors.T)\n",
    "    user_bias = model.user_biases(user)\n",
    "    item_biases = model.item_biases(all_items)\n",
    "    scores += user_bias + item_biases.T + model.global_bias\n",
    "    return scores"
   ]
  },
  {
   "cell_type": "code",
   "execution_count": 60,
   "metadata": {},
   "outputs": [],
   "source": [
    "u = torch.tensor(user_attribute_query_mg['user_id'])\n",
    "a = torch.tensor(user_attribute_query_mg['genre_id'] + n_users)\n",
    "m = torch.tensor(user_attribute_query_mg['movie_id'])\n",
    "\n",
    "u_embedding = model_vector_mg.user_embeddings(u)\n",
    "a_embedding = model_vector_mg.user_embeddings(a)\n",
    "all_item_embedding = model_vector_mg.item_embeddings(torch.arange(model_vector_mg.n_items))\n",
    "\n",
    "score_u = score_all_items(u, model_vector_mg)\n",
    "score_a = score_all_items(a, model_vector_mg)\n",
    "\n",
    "#mask \n",
    "\n"
   ]
  },
  {
   "cell_type": "markdown",
   "metadata": {},
   "source": [
    "### Get GT"
   ]
  },
  {
   "cell_type": "code",
   "execution_count": 1,
   "metadata": {},
   "outputs": [
    {
     "ename": "NameError",
     "evalue": "name 'gt_user_movie_matrix_mg' is not defined",
     "output_type": "error",
     "traceback": [
      "\u001b[0;31m---------------------------------------------------------------------------\u001b[0m",
      "\u001b[0;31mNameError\u001b[0m                                 Traceback (most recent call last)",
      "Cell \u001b[0;32mIn[1], line 1\u001b[0m\n\u001b[0;32m----> 1\u001b[0m gt_u_and_a_matrix_mg \u001b[38;5;241m=\u001b[39m gt_user_movie_matrix_mg[:, \u001b[38;5;28;01mNone\u001b[39;00m] \u001b[38;5;241m&\u001b[39m gt_attribute_movie_matrix_mg\n\u001b[1;32m      2\u001b[0m gt_u_and_a1_a2_matrix_mg \u001b[38;5;241m=\u001b[39m gt_u_and_a_matrix_mg[:,:,\u001b[38;5;28;01mNone\u001b[39;00m,:] \u001b[38;5;241m&\u001b[39m gt_attribute_movie_matrix_mg\n\u001b[1;32m      3\u001b[0m gt_u_and_a1_not_a2_matrix_mg \u001b[38;5;241m=\u001b[39m gt_u_and_a_matrix_mg[:,:,\u001b[38;5;28;01mNone\u001b[39;00m,:] \u001b[38;5;241m&\u001b[39m \u001b[38;5;241m~\u001b[39mgt_attribute_movie_matrix_mg\n",
      "\u001b[0;31mNameError\u001b[0m: name 'gt_user_movie_matrix_mg' is not defined"
     ]
    }
   ],
   "source": [
    "gt_u_and_a_matrix_mg = gt_user_movie_matrix_mg[:, None] & gt_attribute_movie_matrix_mg\n",
    "gt_u_and_a1_a2_matrix_mg = gt_u_and_a_matrix_mg[:,:,None,:] & gt_attribute_movie_matrix_mg\n",
    "gt_u_and_a1_not_a2_matrix_mg = gt_u_and_a_matrix_mg[:,:,None,:] & ~gt_attribute_movie_matrix_mg\n",
    "# #shape\n",
    "# gt_u_and_a_matrix_mg.shape, gt_u_and_a1_a2_matrix_mg.shape, gt_u_and_a1_not_a2_matrix_mg.shape"
   ]
  },
  {
   "cell_type": "code",
   "execution_count": null,
   "metadata": {},
   "outputs": [],
   "source": [
    "u = torch.where(gt_u_and_a_matrix_mg)[0]\n",
    "a = torch.where(gt_u_and_a_matrix_mg)[1]\n",
    "m = torch.where(gt_u_and_a_matrix_mg)[2]\n",
    "for i in range(len(u)):\n",
    "    assert gt_user_movie_matrix_mg[u[i], m[i]] == 1\n",
    "    assert gt_attribute_movie_matrix_mg[a[i], m[i]] == 1\n"
   ]
  },
  {
   "cell_type": "markdown",
   "metadata": {},
   "source": [
    "## Direct Filtering model"
   ]
  },
  {
   "cell_type": "code",
   "execution_count": 67,
   "metadata": {},
   "outputs": [],
   "source": [
    "from torcheval.metrics.functional import binary_f1_score\n",
    "def get_best_f1_theshold(input, target):\n",
    "    max_f1 = 0\n",
    "    best_threshold = 0\n",
    "    for threshold in input:\n",
    "        thresholded_score = (input >= threshold).float()\n",
    "        f1 = binary_f1_score(thresholded_score, target)\n",
    "        if f1 > max_f1:\n",
    "            max_f1 = f1\n",
    "            best_threshold = threshold\n",
    "    return best_threshold, max_f1"
   ]
  },
  {
   "cell_type": "code",
   "execution_count": 68,
   "metadata": {},
   "outputs": [],
   "source": [
    "train_user_movie_mg = dataset_mg.train_user_movie\n",
    "train_user_movie_matrix_mg = gt_df_to_matrix(dataset_mg, train_user_movie_mg)\n",
    "train_attribute_movie_mg = dataset_mg.train_attribute_movie\n",
    "train_attribute_movie_matrix_mg = gt_df_to_matrix(dataset_mg, train_attribute_movie_mg)"
   ]
  },
  {
   "cell_type": "code",
   "execution_count": 265,
   "metadata": {},
   "outputs": [],
   "source": [
    "def get_matrix_completion(model, train_matrix):\n",
    "    predicted_matrix = []\n",
    "    for i in tqdm(range(n_attributes)):\n",
    "        attribute = torch.tensor([i + n_users])\n",
    "        scores = model.predict_item(attribute)\n",
    "        target = train_matrix[i]\n",
    "        threshold, f1 = get_best_f1_theshold(scores, target)\n",
    "        predicted_matrix.append(scores >= threshold)\n",
    "    return torch.stack(predicted_matrix)"
   ]
  },
  {
   "cell_type": "code",
   "execution_count": 266,
   "metadata": {},
   "outputs": [
    {
     "name": "stderr",
     "output_type": "stream",
     "text": [
      "100%|██████████| 57/57 [00:21<00:00,  2.65it/s]\n",
      "100%|██████████| 57/57 [00:21<00:00,  2.68it/s]"
     ]
    },
    {
     "name": "stdout",
     "output_type": "stream",
     "text": [
      "tensor(1.0636)  times more entries\n",
      "tensor(1.4355)  times more entries\n"
     ]
    },
    {
     "name": "stderr",
     "output_type": "stream",
     "text": [
      "\n"
     ]
    }
   ],
   "source": [
    "predicted_a_m_box_mg = get_matrix_completion(model_box_mg, train_attribute_movie_matrix_mg)\n",
    "predicted_a_m_vector_mg = get_matrix_completion(model_vector_mg, train_attribute_movie_matrix_mg)\n",
    "print(predicted_a_m_box_mg.sum() / train_attribute_movie_matrix_mg.sum(), \" times more entries\")\n",
    "print(predicted_a_m_vector_mg.sum() / train_attribute_movie_matrix_mg.sum(), \" times more entries\")"
   ]
  },
  {
   "cell_type": "markdown",
   "metadata": {},
   "source": [
    "## BOX U A - Genre"
   ]
  },
  {
   "cell_type": "code",
   "execution_count": 268,
   "metadata": {},
   "outputs": [
    {
     "name": "stderr",
     "output_type": "stream",
     "text": [
      "100%|██████████| 38181/38181 [17:26<00:00, 36.48it/s]"
     ]
    },
    {
     "name": "stdout",
     "output_type": "stream",
     "text": [
      "Calculating metrics for user*attribute\n",
      "HR@10: 0.09952594222257144\n",
      "HR@20: 0.1669154815222231\n",
      "HR@50: 0.31481626987244965\n",
      "NDCG: 0.18066594216394696\n",
      "Calculating metrics for user intersection attribute\n",
      "HR@10: 0.10979282889395249\n",
      "HR@20: 0.1826039129409916\n",
      "HR@50: 0.34160970116026296\n",
      "NDCG: 0.18647794214704116\n",
      "Calculating metrics for attribute and user threshold\n",
      "HR@10: 0.11681202692438647\n",
      "HR@20: 0.1909588538802022\n",
      "HR@50: 0.32311882873680625\n",
      "NDCG: 0.16770329181262164\n"
     ]
    },
    {
     "name": "stderr",
     "output_type": "stream",
     "text": [
      "\n"
     ]
    }
   ],
   "source": [
    "metric_dict_box_mg = get_ranking_metrices(user_attribute_query_mg,\n",
    "                                          model_box_mg,\n",
    "                                          arg_dict_box_mg,\n",
    "                                          gt_u_and_a_matrix_mg,\n",
    "                                          predicted_a_m_box_mg,\n",
    "                                          apply_mask = True)"
   ]
  },
  {
   "cell_type": "markdown",
   "metadata": {},
   "source": [
    "## Vector U A - Genre"
   ]
  },
  {
   "cell_type": "code",
   "execution_count": 267,
   "metadata": {},
   "outputs": [
    {
     "name": "stderr",
     "output_type": "stream",
     "text": [
      "100%|██████████| 38181/38181 [03:27<00:00, 183.98it/s]\n"
     ]
    },
    {
     "name": "stdout",
     "output_type": "stream",
     "text": [
      "Calculating metrics for user*attribute\n",
      "HR@10: 0.03619601372410361\n",
      "HR@20: 0.07660878447395301\n",
      "HR@50: 0.19226840575155182\n",
      "NDCG: 0.1513329949401536\n",
      "Calculating metrics for user intersection attribute\n",
      "HR@10: 0.009533537623425264\n",
      "HR@20: 0.020088525706503234\n",
      "HR@50: 0.05620596631832587\n",
      "NDCG: 0.12377377183332954\n",
      "Calculating metrics for attribute and user threshold\n",
      "HR@10: 0.0477462612294073\n",
      "HR@20: 0.09897593043660459\n",
      "HR@50: 0.21921898326392708\n",
      "NDCG: 0.1358223628800166\n"
     ]
    }
   ],
   "source": [
    "metric_dict_vector_mg = get_ranking_metrices(user_attribute_query_mg,\n",
    "                                             model_vector_mg,\n",
    "                                             arg_dict_vector_mg,\n",
    "                                             gt_u_and_a_matrix_mg,\n",
    "                                             predicted_a_m_vector_mg,\n",
    "                                             apply_mask=True\n",
    "                                    )"
   ]
  },
  {
   "cell_type": "markdown",
   "metadata": {},
   "source": [
    "## BOX U A1 A2 -Genre"
   ]
  },
  {
   "cell_type": "code",
   "execution_count": 269,
   "metadata": {},
   "outputs": [
    {
     "name": "stderr",
     "output_type": "stream",
     "text": [
      "100%|██████████| 72048/72048 [39:22<00:00, 30.49it/s]  \n"
     ]
    },
    {
     "name": "stdout",
     "output_type": "stream",
     "text": [
      "Post hoc filtering\n",
      "HR@10: 0.14506995336442371\n",
      "HR@20: 0.2047940262047524\n",
      "HR@50: 0.28546246946480125\n",
      "NDCG: 0.16523006606589666\n",
      "Calculating metrics for user*attribute1*attribute2\n",
      "HR@10: 0.10647068620919387\n",
      "HR@20: 0.17832556073728625\n",
      "HR@50: 0.34229957805907174\n",
      "NDCG: 0.18642827214179472\n",
      "Calculating metrics for user intersection attribute1 intersection attribute2\n",
      "HR@10: 0.16848489895625138\n",
      "HR@20: 0.26612813679769043\n",
      "HR@50: 0.46135909393737506\n",
      "NDCG: 0.2149270363052428\n"
     ]
    }
   ],
   "source": [
    "metric_dict_box_mg_a1_a2 = get_ranking_metrices_intersection(user_attributeA_attributeB_mg,\n",
    "                                                             model_box_mg,\n",
    "                                                             arg_dict_box_mg,\n",
    "                                                             gt_u_and_a1_a2_matrix_mg,\n",
    "                                                                predicted_a_m_box_mg,\n",
    "                                                             apply_mask=True)"
   ]
  },
  {
   "cell_type": "markdown",
   "metadata": {},
   "source": [
    "## Vector U A1 A2 - Genre"
   ]
  },
  {
   "cell_type": "code",
   "execution_count": 270,
   "metadata": {},
   "outputs": [
    {
     "name": "stderr",
     "output_type": "stream",
     "text": [
      "100%|██████████| 72048/72048 [07:53<00:00, 152.15it/s]\n"
     ]
    },
    {
     "name": "stdout",
     "output_type": "stream",
     "text": [
      "Post hoc filtering\n",
      "HR@10: 0.11284143904063958\n",
      "HR@20: 0.17752054186098157\n",
      "HR@50: 0.2744975571840995\n",
      "NDCG: 0.15015795963918993\n",
      "Calculating metrics for user*attribute1*attribute2\n",
      "HR@10: 0.037211303575394185\n",
      "HR@20: 0.08140406395736176\n",
      "HR@50: 0.21652231845436376\n",
      "NDCG: 0.15651284239164867\n",
      "Calculating metrics for user intersection attribute1 intersection attribute2\n",
      "HR@10: 0.002512214079502554\n",
      "HR@20: 0.006578947368421052\n",
      "HR@50: 0.025205418609815677\n",
      "NDCG: 0.11766421036803082\n"
     ]
    }
   ],
   "source": [
    "metric_dict_vector_mg_a1_a2 = get_ranking_metrices_intersection(user_attributeA_attributeB_mg,\n",
    "                                                                model_vector_mg,\n",
    "                                                                arg_dict_vector_mg,\n",
    "                                                             gt_u_and_a1_a2_matrix_mg,\n",
    "                                                                predicted_a_m_box_mg,\n",
    "                                                             apply_mask=True)"
   ]
  },
  {
   "cell_type": "markdown",
   "metadata": {},
   "source": [
    "## BOX $U \\cap A1 \\cap \\neg A2$ - Genre"
   ]
  },
  {
   "cell_type": "code",
   "execution_count": 271,
   "metadata": {},
   "outputs": [
    {
     "name": "stderr",
     "output_type": "stream",
     "text": [
      "100%|██████████| 61969/61969 [42:46<00:00, 24.14it/s]  \n"
     ]
    },
    {
     "name": "stdout",
     "output_type": "stream",
     "text": [
      "Post hoc filtering\n",
      "HR@10: 0.0\n",
      "HR@20: 0.0\n",
      "HR@50: 0.0\n",
      "NDCG: 0.08434245191229335\n",
      "Calculating metrics for user*attribute1-not-attribute2\n",
      "HR@10: 0.08893156255547129\n",
      "HR@20: 0.15159192499475543\n",
      "HR@50: 0.2937597831173651\n",
      "NDCG: 0.17767775514200776\n",
      "Calculating metrics for user intersection attribute1 - intersection attribute2\n",
      "HR@10: 0.08622052961964853\n",
      "HR@20: 0.15122077167616066\n",
      "HR@50: 0.30691152027626717\n",
      "NDCG: 0.17855928591058665\n"
     ]
    }
   ],
   "source": [
    "metric_dict_box_mg_a1_not_a2 = get_ranking_metrices_difference(user_attributeA_not_attributeB_mg,\n",
    "                                                               model_box_mg,\n",
    "                                                               arg_dict_box_mg,\n",
    "                                                               gt_u_and_a1_not_a2_matrix_mg,\n",
    "                                                                predicted_a_m_box_mg,\n",
    "                                                               apply_mask=True)"
   ]
  },
  {
   "cell_type": "markdown",
   "metadata": {},
   "source": [
    "## Vector  $U \\cap A_1 \\cap \\neg A_2$  -Genre"
   ]
  },
  {
   "cell_type": "code",
   "execution_count": 272,
   "metadata": {},
   "outputs": [
    {
     "name": "stderr",
     "output_type": "stream",
     "text": [
      "100%|██████████| 61969/61969 [06:31<00:00, 158.12it/s]\n"
     ]
    },
    {
     "name": "stdout",
     "output_type": "stream",
     "text": [
      "Post hoc filtering\n",
      "HR@10: 0.0\n",
      "HR@20: 0.0\n",
      "HR@50: 0.0\n",
      "NDCG: 0.08434245191229335\n",
      "Calculating metrics for user*attribute1-not-attribute2\n",
      "HR@10: 0.02880472494311672\n",
      "HR@20: 0.06464522583872581\n",
      "HR@50: 0.17479707595733351\n",
      "NDCG: 0.1500680664228702\n",
      "Calculating metrics for user intersection attribute1 - intersection attribute2\n",
      "HR@10: 0.004824993141732156\n",
      "HR@20: 0.011134599557843438\n",
      "HR@50: 0.03916474366215366\n",
      "NDCG: 0.12046664684866694\n"
     ]
    }
   ],
   "source": [
    "metric_dict_vector_mg_a1_not_a2 = get_ranking_metrices_difference(user_attributeA_not_attributeB_mg,\n",
    "                                                                  model_vector_mg,\n",
    "                                                                  arg_dict_vector_mg,\n",
    "                                                                  gt_u_and_a1_not_a2_matrix_mg,\n",
    "                                                                  predicted_a_m_box_mg,\n",
    "                                                                  apply_mask=True)"
   ]
  },
  {
   "cell_type": "markdown",
   "metadata": {},
   "source": [
    "### Analysis"
   ]
  },
  {
   "cell_type": "code",
   "execution_count": 174,
   "metadata": {},
   "outputs": [
    {
     "data": {
      "text/plain": [
       "array([ 58, 227,   0,   1])"
      ]
     },
     "execution_count": 174,
     "metadata": {},
     "output_type": "execute_result"
    }
   ],
   "source": [
    "user_attributeA_attributeB_mg.values[8990]"
   ]
  },
  {
   "cell_type": "code",
   "execution_count": null,
   "metadata": {},
   "outputs": [],
   "source": [
    "count = 0\n",
    "count_opp = 0\n",
    "for user_id, movie_id, attribute_1, attribute_2 in user_attributeA_attributeB_mg.values:\n",
    "   \n",
    "    u = torch.tensor([user_id])\n",
    "    m = torch.tensor([movie_id])\n",
    "    a1 = torch.tensor([attribute_1 + n_users])\n",
    "    a2 = torch.tensor([attribute_2 + n_users])\n",
    "\n",
    "    mask = torch.ones(model_vector_mg.n_items, dtype=torch.bool)\n",
    "    gt_m = torch.where(gt_u_and_a1_a2_matrix_mg[user_id, attribute_1, attribute_2] == 1)[0]\n",
    "    mask[gt_m] = False\n",
    "    mask[m] = True\n",
    "\n",
    "    movie_name = dataset_mg.movies[dataset_mg.movies['movie_id'] == movie_id]['movie'].item()\n",
    "    attr_1_name = dataset_mg.attributes[dataset_mg.attributes['genre_id'] == attribute_1]['genre'].item()\n",
    "    attr_2_name = dataset_mg.attributes[dataset_mg.attributes['genre_id'] == attribute_2]['genre'].item()\n",
    "    # print(f\"User: {user_id}, Movie: {movie_name}, Attribute 1: {attr_1_name}, Attribute 2: {attr_2_name}\")\n",
    "\n",
    "    score_u = model_box_mg.predict_item(u)\n",
    "    score_a1 = model_box_mg.predict_item(a1)\n",
    "    score_a2 = model_box_mg.predict_item(a2)\n",
    "\n",
    "    user_movie_rank = torch.where(torch.argsort(score_u, dim=-1, descending=True) == m)[0].item()\n",
    "    attr1_movie_rank = torch.where(torch.argsort(score_a1, dim=-1, descending=True) == m)[0].item()\n",
    "    attr2_movie_rank = torch.where(torch.argsort(score_a2, dim=-1, descending=True) == m)[0].item()\n",
    "    # print(f\"Rank of movie in user: {user_movie_rank}\")\n",
    "    # print(f\"Rank of movie in attribute 1: {attr1_movie_rank}\")\n",
    "    # print(f\"Rank of movie in attribute 2: {attr2_movie_rank}\")\n",
    "\n",
    "    joint_score = score_u + score_a1 + score_a2\n",
    "    joint_score[~mask] = -torch.inf\n",
    "\n",
    "    joint_rank = torch.where(torch.argsort(joint_score, dim=-1, descending=True) == m)[0].item()\n",
    "    # print(f\"Rank of movie in user*attribute1*attribute2: {joint_rank}\")\n",
    "\n",
    "    u_box = model_box_mg.user_embeddings(u)\n",
    "    a1_box = model_box_mg.user_embeddings(a1)\n",
    "    a2_box = model_box_mg.user_embeddings(a2)\n",
    "    u_int_a1_box = u_box.intersection(\n",
    "        a1_box,\n",
    "        intersection_temp=model_box_mg.intersection_temp,\n",
    "        bayesian=True)\n",
    "    u_int_a1_a2_box = u_int_a1_box.intersection(\n",
    "        a2_box,\n",
    "        intersection_temp=model_box_mg.intersection_temp,\n",
    "        bayesian=True)\n",
    "\n",
    "    int_scores = box_predict_conditional(u_int_a1_a2_box, model_box_mg)\n",
    "    int_scores[~mask] = -torch.inf\n",
    "    int_rank = torch.where(torch.argsort(int_scores, dim=-1, descending=True) == m)[0].item()\n",
    "    # print(f\"Rank of movie in user intersection attribute1 intersection attribute2: {int_rank}\")\n",
    "    if int_rank < joint_rank:\n",
    "        count+=1\n",
    "        if int_rank < 10 and joint_rank > 50:\n",
    "            print(\"-------------------------------\")\n",
    "            print(f\"User: {user_id}, movie_id: {movie_id}, Attr_1_id: {attribute_1}, attr_2_id {attribute_2}\")\n",
    "            print(f\"Movie: {movie_name}, Attribute 1: {attr_1_name}, Attribute 2: {attr_2_name}\")\n",
    "            print(f\"int_rank {int_rank}, joint_rank {joint_rank}\")\n",
    "    else:\n",
    "        count_opp+=1     \n"
   ]
  },
  {
   "cell_type": "code",
   "execution_count": 205,
   "metadata": {},
   "outputs": [
    {
     "name": "stdout",
     "output_type": "stream",
     "text": [
      "User: 15, Movie: Toy Story 2 (1999), Attribute 1: comedy, Attribute 2: children\n",
      "0  :  Santa Clause, The (1994) : tensor(454)\n",
      "1  :  Pollyanna (1960) : tensor(1772)\n",
      "2  :  Three Musketeers, The (1993) : tensor(581)\n",
      "3  :  Batman Forever (1995) : tensor(331)\n",
      "4  :  Willy Wonka and the Chocolate Factory (1971) : tensor(107)\n",
      "5  :  Home Alone 3 (1997) : tensor(1666)\n",
      "6  :  Toy Story 2 (1999) : tensor(58)\n",
      "7  :  Crocodile Dundee II (1988) : tensor(772)\n",
      "8  :  Herbie Goes to Monte Carlo (1977) : tensor(2003)\n",
      "9  :  Absent Minded Professor, The (1961) : tensor(843)\n",
      "10  :  D2: The Mighty Ducks (1994) : tensor(1460)\n",
      "11  :  Honey, I Blew Up the Kid (1992) : tensor(839)\n",
      "12  :  Popeye (1980) : tensor(669)\n",
      "13  :  Dragonheart (1996) : tensor(492)\n",
      "14  :  Aladdin and the King of Thieves (1996) : tensor(1386)\n",
      "15  :  Jungle Book, The (1994) : tensor(1250)\n",
      "16  :  Steamboat Willie (1940) : tensor(1443)\n",
      "17  :  Rescuers, The (1977) : tensor(1217)\n",
      "18  :  Kid in King Arthur's Court, A (1995) : tensor(1718)\n",
      "19  :  Dumbo (1941) : tensor(529)\n",
      "20  :  Jewel of the Nile, The (1985) : tensor(423)\n",
      "21  :  Great Race, The (1965) : tensor(1609)\n",
      "22  :  Hunchback of Notre Dame, The (1996) : tensor(814)\n",
      "23  :  Swan Princess, The (1994) : tensor(2452)\n",
      "24  :  Kazaam (1996) : tensor(1878)\n",
      "25  :  Doctor Dolittle (1967) : tensor(1256)\n",
      "26  :  Teenage Mutant Ninja Turtles II: The Secret of the Ooze (1991) : tensor(1212)\n",
      "27  :  Mighty Joe Young (1998) : tensor(1517)\n",
      "28  :  Sword in the Stone, The (1963) : tensor(1079)\n",
      "29  :  Pinocchio (1940) : tensor(620)\n",
      "----------------------------------------\n",
      "0  :  Pollyanna (1960) : tensor(1772)\n",
      "1  :  Three Musketeers, The (1993) : tensor(581)\n",
      "2  :  Batman Forever (1995) : tensor(331)\n",
      "3  :  Home Alone 3 (1997) : tensor(1666)\n",
      "4  :  Crocodile Dundee II (1988) : tensor(772)\n",
      "5  :  Herbie Goes to Monte Carlo (1977) : tensor(2003)\n",
      "6  :  D2: The Mighty Ducks (1994) : tensor(1460)\n",
      "7  :  Honey, I Blew Up the Kid (1992) : tensor(839)\n",
      "8  :  Popeye (1980) : tensor(669)\n",
      "9  :  Santa Clause, The (1994) : tensor(454)\n",
      "10  :  Dragonheart (1996) : tensor(492)\n",
      "11  :  Aladdin and the King of Thieves (1996) : tensor(1386)\n",
      "12  :  Jungle Book, The (1994) : tensor(1250)\n",
      "13  :  Steamboat Willie (1940) : tensor(1443)\n",
      "14  :  Kid in King Arthur's Court, A (1995) : tensor(1718)\n",
      "15  :  Rescuers, The (1977) : tensor(1217)\n",
      "16  :  Dumbo (1941) : tensor(529)\n",
      "17  :  Jewel of the Nile, The (1985) : tensor(423)\n",
      "18  :  Great Race, The (1965) : tensor(1609)\n",
      "19  :  Hunchback of Notre Dame, The (1996) : tensor(814)\n",
      "20  :  Swan Princess, The (1994) : tensor(2452)\n",
      "21  :  Doctor Dolittle (1967) : tensor(1256)\n",
      "22  :  Kazaam (1996) : tensor(1878)\n",
      "23  :  Teenage Mutant Ninja Turtles II: The Secret of the Ooze (1991) : tensor(1212)\n",
      "24  :  Sword in the Stone, The (1963) : tensor(1079)\n",
      "25  :  Pinocchio (1940) : tensor(620)\n",
      "26  :  Mighty Joe Young (1998) : tensor(1517)\n",
      "27  :  Pagemaster, The (1994) : tensor(1777)\n",
      "28  :  Cinderella (1950) : tensor(519)\n",
      "29  :  Bringing Up Baby (1938) : tensor(775)\n"
     ]
    }
   ],
   "source": [
    "attr_df = dataset_mg.attributes\n",
    "movie_df = dataset_mg.movies\n",
    "user_id = 15\n",
    "movie_id = 58\n",
    "attribute_1 = 1\n",
    "attribute_2 = 13\n",
    "u = torch.tensor([user_id])\n",
    "m = torch.tensor([movie_id])\n",
    "a1 = torch.tensor([attribute_1 + n_users])\n",
    "a2 = torch.tensor([attribute_2 + n_users])\n",
    "\n",
    "mask = torch.ones(model_vector_mg.n_items, dtype=torch.bool)\n",
    "gt_m = torch.where(gt_u_and_a1_a2_matrix_mg[user_id, attribute_1, attribute_2] == 1)[0]\n",
    "mask[gt_m] = False\n",
    "mask[m] = True\n",
    "\n",
    "movie_name = movie_df[movie_df['movie_id'] == movie_id]['movie'].item()\n",
    "attr_1_name = attr_df[attr_df['genre_id'] == attribute_1]['genre'].item()\n",
    "attr_2_name = attr_df[attr_df['genre_id'] == attribute_2]['genre'].item()\n",
    "print(f\"User: {user_id}, Movie: {movie_name}, Attribute 1: {attr_1_name}, Attribute 2: {attr_2_name}\")\n",
    "\n",
    "score_u = model_box_mg.predict_item(u)\n",
    "score_a1 = model_box_mg.predict_item(a1)\n",
    "score_a2 = model_box_mg.predict_item(a2)\n",
    "\n",
    "user_movie_rank = torch.where(torch.argsort(score_u, dim=-1, descending=True) == m)[0].item()\n",
    "attr1_movie_rank = torch.where(torch.argsort(score_a1, dim=-1, descending=True) == m)[0].item()\n",
    "attr2_movie_rank = torch.where(torch.argsort(score_a2, dim=-1, descending=True) == m)[0].item()\n",
    "# print(f\"Rank of movie in user: {user_movie_rank}\")\n",
    "# print(f\"Rank of movie in attribute 1: {attr1_movie_rank}\")\n",
    "# print(f\"Rank of movie in attribute 2: {attr2_movie_rank}\")\n",
    "\n",
    "joint_score = score_u + score_a1 + score_a2\n",
    "joint_score[~mask] = -torch.inf\n",
    "\n",
    "joint_rank = torch.where(torch.argsort(joint_score, dim=-1, descending=True) == m)[0].item()\n",
    "# print(f\"Rank of movie in user*attribute1*attribute2: {joint_rank}\")\n",
    "\n",
    "u_box = model_box_mg.user_embeddings(u)\n",
    "a1_box = model_box_mg.user_embeddings(a1)\n",
    "a2_box = model_box_mg.user_embeddings(a2)\n",
    "u_int_a1_box = u_box.intersection(\n",
    "    a1_box,\n",
    "    intersection_temp=model_box_mg.intersection_temp,\n",
    "    bayesian=True)\n",
    "u_int_a1_a2_box = u_int_a1_box.intersection(\n",
    "    a2_box,\n",
    "    intersection_temp=model_box_mg.intersection_temp,\n",
    "    bayesian=True)\n",
    "\n",
    "int_scores = box_predict_conditional(u_int_a1_a2_box, model_box_mg)\n",
    "int_scores[~mask] = -torch.inf\n",
    "int_rank = torch.where(torch.argsort(int_scores, dim=-1, descending=True) == m)[0].item()\n",
    "\n",
    "top_10_int = torch.argsort(int_scores, dim=-1, descending=True)[:30]\n",
    "top_10_joint = torch.argsort(joint_score, dim=-1, descending=True)[:30]\n",
    "\n",
    "for i, id in enumerate(top_10_int):\n",
    "    print(i, ' : ', movie_df[movie_df['movie_id'] == id.item()]['movie'].item(), ':', id)\n",
    "print(\"----------------------------------------\")\n",
    "for i, id in enumerate(top_10_joint):\n",
    "    print(i, ' : ', movie_df[movie_df['movie_id'] == id.item()]['movie'].item(), ':', id)\n"
   ]
  },
  {
   "cell_type": "code",
   "execution_count": 246,
   "metadata": {},
   "outputs": [
    {
     "name": "stdout",
     "output_type": "stream",
     "text": [
      "User: 15, Movie: Toy Story 2 (1999), Attribute 1: comedy, Attribute 2: children\n",
      "(tensor([957]),)\n",
      "(tensor([951]),)\n"
     ]
    }
   ],
   "source": [
    "attr_df = dataset_mg.attributes\n",
    "movie_df = dataset_mg.movies\n",
    "user_id = 15\n",
    "movie_id = 58\n",
    "attribute_1 = 1\n",
    "attribute_2 = 13\n",
    "u = torch.tensor([user_id])\n",
    "m = torch.tensor([movie_id])\n",
    "a1 = torch.tensor([attribute_1 + n_users])\n",
    "a2 = torch.tensor([attribute_2 + n_users])\n",
    "\n",
    "mask = torch.ones(model_vector_mg.n_items, dtype=torch.bool)\n",
    "gt_m = torch.where(gt_u_and_a1_a2_matrix_mg[user_id, attribute_1, attribute_2] == 1)[0]\n",
    "mask[gt_m] = False\n",
    "mask[m] = True\n",
    "\n",
    "movie_name = movie_df[movie_df['movie_id'] == movie_id]['movie'].item()\n",
    "attr_1_name = attr_df[attr_df['genre_id'] == attribute_1]['genre'].item()\n",
    "attr_2_name = attr_df[attr_df['genre_id'] == attribute_2]['genre'].item()\n",
    "print(f\"User: {user_id}, Movie: {movie_name}, Attribute 1: {attr_1_name}, Attribute 2: {attr_2_name}\")\n",
    "\n",
    "score_u = model_box_mg.predict_item(u)\n",
    "score_a1 = model_box_mg.predict_item(a1)\n",
    "score_a2 = model_box_mg.predict_item(a2)\n",
    "score_u[~mask] = -torch.inf\n",
    "score_a1[~mask] = -torch.inf\n",
    "score_a2[~mask] = -torch.inf\n",
    "order_a1 = torch.argsort(score_a1, dim=-1, descending=True)\n",
    "order_a2 = torch.argsort(score_a2, dim=-1, descending=True)\n",
    "\n",
    "a1_m = torch.where(predicted_a_m_box_mg[attribute_1])[0].tolist()\n",
    "a2_m = torch.where(predicted_a_m_box_mg[attribute_2])[0].tolist()\n",
    "a1_a2_m = set(a1_m).intersection(set(a2_m))\n",
    "\n",
    "score_u[~mask] = -torch.inf\n",
    "order_u = torch.argsort(score_u, dim=-1, descending=True)\n",
    "a1_a2_m = torch.tensor(list(a1_a2_m))\n",
    "a1_a2_in_u = (order_u[:, None] == a1_a2_m).nonzero()[:, 0]\n",
    "order_a1_a2_in_u = order_u[a1_a2_in_u]\n",
    "rank = torch.where(order_a1_a2_in_u == m)\n",
    "user_rank = torch.where(order_u == m)\n",
    "print(user_rank)\n",
    "print(rank)"
   ]
  },
  {
   "cell_type": "code",
   "execution_count": 249,
   "metadata": {},
   "outputs": [
    {
     "data": {
      "text/plain": [
       "{228,\n",
       " 331,\n",
       " 339,\n",
       " 384,\n",
       " 581,\n",
       " 601,\n",
       " 666,\n",
       " 669,\n",
       " 670,\n",
       " 725,\n",
       " 772,\n",
       " 775,\n",
       " 778,\n",
       " 855,\n",
       " 905,\n",
       " 1041,\n",
       " 1042,\n",
       " 1117,\n",
       " 1127,\n",
       " 1142,\n",
       " 1288,\n",
       " 1334,\n",
       " 1394,\n",
       " 1413,\n",
       " 1460,\n",
       " 1486,\n",
       " 1553,\n",
       " 1608,\n",
       " 1609,\n",
       " 1638,\n",
       " 1666,\n",
       " 1706,\n",
       " 1718,\n",
       " 1772,\n",
       " 1779,\n",
       " 1825,\n",
       " 1878,\n",
       " 1925,\n",
       " 1978,\n",
       " 2003,\n",
       " 2103,\n",
       " 2283,\n",
       " 2452,\n",
       " 2647,\n",
       " 2733,\n",
       " 2864,\n",
       " 3118,\n",
       " 3256}"
      ]
     },
     "execution_count": 249,
     "metadata": {},
     "output_type": "execute_result"
    }
   ],
   "source": [
    "set(order_u.tolist()).intersection(set(order_a1.tolist()[:1000])).intersection(set(order_a2.tolist()[:300]))"
   ]
  },
  {
   "cell_type": "code",
   "execution_count": 251,
   "metadata": {},
   "outputs": [
    {
     "name": "stderr",
     "output_type": "stream",
     "text": [
      "  0%|          | 0/38181 [00:00<?, ?it/s]\n"
     ]
    }
   ],
   "source": [
    "rank_fixed_100 =[]\n",
    "rank_fixed_200 = []\n",
    "rank_fixed_500 = []\n",
    "rank_fixed_1000 = []\n",
    "rank_u_and_a = []\n",
    "rank_only_a = []\n",
    "for user_id, attribute_id, movie_id in tqdm(user_attribute_query_mg.values):\n",
    "    u = torch.tensor([user_id])\n",
    "    a = torch.tensor([attribute_id + n_users])\n",
    "    m = torch.tensor([movie_id])\n",
    "\n",
    "    mask = torch.ones(model_vector_mg.n_items, dtype=torch.bool)\n",
    "    gt_m = torch.where(gt_u_and_a_matrix_mg[user_id, attribute_id] == 1)[0]\n",
    "    mask[gt_m] = False\n",
    "    mask[m] = True\n",
    "\n",
    "    score_u = model_box_mg.predict_item(u)\n",
    "    score_a = model_box_mg.predict_item(a)\n",
    "    score_u[~mask] = -torch.inf\n",
    "    score_a[~mask] = -torch.inf\n",
    "    order_m = torch.argsort(score_a, dim=-1, descending=True)\n",
    "    top_100_a_m = order_m[:100]\n",
    "    top_200_a_m = order_m[:200]\n",
    "    top_500_a_m = order_m[:500]\n",
    "    top_1000_a_m = order_m[:1000]\n",
    "    a_m = torch.where(predicted_a_m_box_mg[attribute_id])[0]\n",
    "    break\n",
    "#     if m not in \n",
    "#     if m not in a_m:\n",
    "#         rank_a_and_u.append(model.n_items)\n",
    "#     else:\n",
    "#         if apply_mask:\n",
    "#             score_u[~mask] = -torch.inf\n",
    "#         order_u = torch.argsort(score_u, dim=-1, descending=True)\n",
    "#         a_in_u = (order_u[:, None] == a_m).nonzero()[:, 0]\n",
    "#         order_a_in_u = order_u[a_in_u]\n",
    "#         rank_a_and_u.append(torch.where(order_a_in_u == m)[0].item())\n",
    "\n",
    "#     # Get ranks\n",
    "#     rank_u_mult_a.append(torch.where(order_u_mult_a == m)[0].item())\n",
    "#     rank_u_int_a.append(torch.where(order_u_int_a == m)[0].item())\n",
    "\n",
    "# print(\"Calculating metrics for user*attribute\")\n",
    "# hr_u_mult_a, ndcg_u_mult_a = get_hr_ndcg_at_k(rank_u_mult_a)\n",
    "# print(\"Calculating metrics for user intersection attribute\")\n",
    "# hr_u_int_a, ndcg_u_int_a = get_hr_ndcg_at_k(rank_u_int_a)\n",
    "# print(\"Calculating metrics for attribute and user threshold\")\n",
    "# hr_a_and_u, ndcg_a_and_u = get_hr_ndcg_at_k(rank_a_and_u)\n"
   ]
  },
  {
   "cell_type": "code",
   "execution_count": 285,
   "metadata": {},
   "outputs": [
    {
     "name": "stderr",
     "output_type": "stream",
     "text": [
      "  0%|          | 6/72048 [00:00<55:49, 21.51it/s]  \n"
     ]
    }
   ],
   "source": [
    "rank_u_a1_a2_and = []\n",
    "rank_u_a1_a2_mult = []\n",
    "rank_u_a1_a2_int = []\n",
    "\n",
    "for user_id, movie_id, attribute_1, attribute_2 in tqdm(user_attributeA_attributeB_mg.values):\n",
    "    u = torch.tensor([user_id])\n",
    "    m = torch.tensor([movie_id])\n",
    "    a1 = torch.tensor([attribute_1 + n_users])\n",
    "    a2 = torch.tensor([attribute_2 + n_users])\n",
    "\n",
    "\n",
    "    mask = torch.ones(model_vector_mg.n_items, dtype=torch.bool)\n",
    "    gt_m = torch.where(gt_u_and_a1_a2_matrix_mg[user_id, attribute_1, attribute_2] == 1)[0]\n",
    "    mask[gt_m] = False\n",
    "    mask[m] = True\n",
    "\n",
    "    score_u = model_box_mg.predict_item(u)\n",
    "    score_a1 = model_box_mg.predict_item(a1)\n",
    "    score_a2 = model_box_mg.predict_item(a2)\n",
    "\n",
    "    ## Score multiplication\n",
    "    if arg_dict_box_mg['model'] == 'box_conditional':\n",
    "        score_u_a1_a2_mult = score_u + score_a1 + score_a2\n",
    "    elif arg_dict_box_mg['model'] == 'mf_bias':\n",
    "        score_u_a1_a2_mult = F.logsigmoid(score_u) + F.logsigmoid(score_a1) + F.logsigmoid(score_a2)\n",
    "    \n",
    "\n",
    "    score_u_a1_a2_mult[~mask] = -torch.inf\n",
    "    order_u_a1_a2_mult = torch.argsort(score_u_a1_a2_mult, dim=-1, descending=True)\n",
    "\n",
    "    ## Score intersection\n",
    "    if arg_dict_box_mg['model'] == 'box_conditional':\n",
    "        u_box = model_box_mg.user_embeddings(u)\n",
    "        a1_box = model_box_mg.user_embeddings(a1)\n",
    "        a2_box = model_box_mg.user_embeddings(a2)\n",
    "        u_int_a1_box = u_box.intersection(\n",
    "            a1_box,\n",
    "            intersection_temp=arg_dict_box_mg['intersection_temp'],\n",
    "            bayesian=True)\n",
    "        u_a1_a2_int_box = u_int_a1_box.intersection(\n",
    "            a2_box,\n",
    "            intersection_temp=arg_dict_box_mg['intersection_temp'],\n",
    "            bayesian=True)\n",
    "        u_a1_a2_scores = box_predict_conditional(u_a1_a2_int_box, model_box_mg)\n",
    "    elif arg_dict_box_mg['model'] == 'mf_bias':\n",
    "        u_vector = model_vector_mg.user_embeddings(u)\n",
    "        a1_vector = model_vector_mg.user_embeddings(a1)\n",
    "        a2_vector = model_vector_mg.user_embeddings(a2)\n",
    "        u_a1_a2_vector = u_vector + a1_vector + a2_vector\n",
    "        u_a1_a2_scores = vector_predict(u_a1_a2_vector, model_vector_mg)\n",
    "    \n",
    "\n",
    "    u_a1_a2_scores[~mask] = -torch.inf\n",
    "    order_u_a1_a2_int = torch.argsort(u_a1_a2_scores, dim=-1, descending=True)\n",
    "            ## get ranks\n",
    "    rank_u_a1_a2_mult.append(torch.where(order_u_a1_a2_mult == m)[0].item())\n",
    "    rank_u_a1_a2_int.append(torch.where(order_u_a1_a2_int == m)[0].item())\n",
    "    ## Matrix completion\n",
    "    a1_m = torch.where(predicted_a_m_box_mg[attribute_1])[0].tolist()\n",
    "    a2_m = torch.where(predicted_a_m_box_mg[attribute_2])[0].tolist()\n",
    "    a1_a2_m = set(a1_m).intersection(set(a2_m))\n",
    "    if m.item() not in a1_a2_m:\n",
    "        rank_u_a1_a2_and.append(model_box_mg.n_items)\n",
    "    else:\n",
    "        score_u[~mask] = -torch.inf\n",
    "        order_u = torch.argsort(score_u, dim=-1, descending=True)\n",
    "        a1_a2_m = torch.tensor(list(a1_a2_m))\n",
    "        a1_a2_in_u = (order_u[:, None] == a1_a2_m).nonzero()[:, 0]\n",
    "        order_a1_a2_in_u = order_u[a1_a2_in_u]\n",
    "        rank_u_a1_a2_and.append(torch.where(order_a1_a2_in_u == m)[0].item())\n",
    "        break"
   ]
  },
  {
   "cell_type": "code",
   "execution_count": 294,
   "metadata": {},
   "outputs": [
    {
     "data": {
      "text/plain": [
       "False"
      ]
     },
     "execution_count": 294,
     "metadata": {},
     "output_type": "execute_result"
    },
    {
     "ename": "",
     "evalue": "",
     "output_type": "error",
     "traceback": [
      "\u001b[1;31mThe Kernel crashed while executing code in the current cell or a previous cell. \n",
      "\u001b[1;31mPlease review the code in the cell(s) to identify a possible cause of the failure. \n",
      "\u001b[1;31mClick <a href='https://aka.ms/vscodeJupyterKernelCrash'>here</a> for more info. \n",
      "\u001b[1;31mView Jupyter <a href='command:jupyter.viewOutput'>log</a> for further details."
     ]
    }
   ],
   "source": [
    "m.item() not in a1_a2_m"
   ]
  },
  {
   "cell_type": "code",
   "execution_count": 293,
   "metadata": {},
   "outputs": [
    {
     "data": {
      "text/plain": [
       "(tensor([302]),)"
      ]
     },
     "execution_count": 293,
     "metadata": {},
     "output_type": "execute_result"
    }
   ],
   "source": [
    "torch.where(order_u == 1663)"
   ]
  },
  {
   "cell_type": "markdown",
   "metadata": {},
   "source": [
    "## Plots"
   ]
  },
  {
   "cell_type": "markdown",
   "metadata": {},
   "source": [
    "### utils "
   ]
  },
  {
   "cell_type": "code",
   "execution_count": 273,
   "metadata": {},
   "outputs": [],
   "source": [
    "import seaborn as sns\n",
    "\n",
    "def plot_hits(hr_at_10, hr_at_20, hr_at_50):\n",
    "\n",
    "    # we have the following models and HR scores\n",
    "    models = ['MC(vec)', 'Vector Alg', 'Vector Geo', 'MC(box)', 'Box Alg', 'Box Geo']\n",
    "\n",
    "    # Create a DataFrame for HR@10\n",
    "    df_10 = pd.DataFrame({'Models': models, 'HR': hr_at_10, 'hr@': ['10']*len(models)})\n",
    "\n",
    "    # Create a DataFrame for HR@20\n",
    "    df_20 = pd.DataFrame({'Models': models, 'HR': hr_at_20, 'hr@': ['20']*len(models)})\n",
    "\n",
    "    # Create a DataFrame for HR@50\n",
    "    df_50 = pd.DataFrame({'Models': models, 'HR': hr_at_50, 'hr@': ['50']*len(models)})\n",
    "\n",
    "    # Concatenate the DataFrames\n",
    "    df = pd.concat([df_10, df_20, df_50])\n",
    "\n",
    "    # Create a bar plot\n",
    "    sns.catplot(x='Models', y='HR', hue='Models', legend=False, col='hr@', data=df, kind='bar', palette='viridis')"
   ]
  },
  {
   "cell_type": "code",
   "execution_count": 274,
   "metadata": {},
   "outputs": [],
   "source": [
    "def append_metrices(list10, list20, list50, metric_dict, key):\n",
    "    list10.append(metric_dict[key][0])\n",
    "    list20.append(metric_dict[key][1])\n",
    "    list50.append(metric_dict[key][2])\n",
    "    return list10, list20, list50"
   ]
  },
  {
   "cell_type": "markdown",
   "metadata": {},
   "source": [
    "### $ U \\cap A$"
   ]
  },
  {
   "cell_type": "code",
   "execution_count": 275,
   "metadata": {},
   "outputs": [
    {
     "data": {
      "image/png": "[encoded data removed]",
      "text/plain": [
       "<Figure size 1500x500 with 3 Axes>"
      ]
     },
     "metadata": {},
     "output_type": "display_data"
    }
   ],
   "source": [
    "hr_at_10 = []\n",
    "hr_at_20 = []\n",
    "hr_at_30 = []\n",
    "hr_at_10,hr_at_20, hr_at_30 = append_metrices(hr_at_10, hr_at_20, hr_at_30, metric_dict_vector_mg, 'hr_a_and_u')\n",
    "hr_at_10, hr_at_20, hr_at_30 = append_metrices(hr_at_10, hr_at_20, hr_at_30, metric_dict_vector_mg, 'hr_u_mult_a')\n",
    "hr_at_10,hr_at_20, hr_at_30 = append_metrices(hr_at_10, hr_at_20, hr_at_30, metric_dict_vector_mg, 'hr_u_int_a')\n",
    "hr_at_10,hr_at_20, hr_at_30 = append_metrices(hr_at_10, hr_at_20, hr_at_30, metric_dict_box_mg, 'hr_a_and_u')\n",
    "hr_at_10,hr_at_20, hr_at_30 = append_metrices(hr_at_10, hr_at_20, hr_at_30, metric_dict_box_mg, 'hr_u_mult_a')\n",
    "hr_at_10,hr_at_20, hr_at_30 = append_metrices(hr_at_10, hr_at_20, hr_at_30, metric_dict_box_mg, 'hr_u_int_a')\n",
    "plot_hits(hr_at_10, hr_at_20, hr_at_30)"
   ]
  },
  {
   "cell_type": "markdown",
   "metadata": {},
   "source": [
    "### $ U \\cap A_1 \\cap A_2 $"
   ]
  },
  {
   "cell_type": "code",
   "execution_count": 276,
   "metadata": {},
   "outputs": [
    {
     "data": {
      "image/png": "[encoded data removed]",
      "text/plain": [
       "<Figure size 1500x500 with 3 Axes>"
      ]
     },
     "metadata": {},
     "output_type": "display_data"
    }
   ],
   "source": [
    "hr_at_10 = []\n",
    "hr_at_20 = []\n",
    "hr_at_30 = []\n",
    "hr_at_10,hr_at_20, hr_at_30 = append_metrices(hr_at_10, hr_at_20, hr_at_30, metric_dict_vector_mg_a1_a2, 'hr_u_a1_a2_and')\n",
    "hr_at_10, hr_at_20, hr_at_30 = append_metrices(hr_at_10, hr_at_20, hr_at_30, metric_dict_vector_mg_a1_a2, 'hr_u_a1_a2_mult')\n",
    "hr_at_10,hr_at_20, hr_at_30 = append_metrices(hr_at_10, hr_at_20, hr_at_30, metric_dict_vector_mg_a1_a2, 'hr_u_a1_a2_int')\n",
    "hr_at_10,hr_at_20, hr_at_30 = append_metrices(hr_at_10, hr_at_20, hr_at_30, metric_dict_box_mg_a1_a2, 'hr_u_a1_a2_and')\n",
    "hr_at_10,hr_at_20, hr_at_30 = append_metrices(hr_at_10, hr_at_20, hr_at_30, metric_dict_box_mg_a1_a2, 'hr_u_a1_a2_mult')\n",
    "hr_at_10,hr_at_20, hr_at_30 = append_metrices(hr_at_10, hr_at_20, hr_at_30, metric_dict_box_mg_a1_a2, 'hr_u_a1_a2_int')\n",
    "plot_hits(hr_at_10, hr_at_20, hr_at_30)"
   ]
  },
  {
   "cell_type": "markdown",
   "metadata": {},
   "source": [
    "### $ U \\cap A_1 \\cap \\neg A_2$"
   ]
  },
  {
   "cell_type": "code",
   "execution_count": 277,
   "metadata": {},
   "outputs": [
    {
     "data": {
      "image/png": "[encoded data removed]",
      "text/plain": [
       "<Figure size 1500x500 with 3 Axes>"
      ]
     },
     "metadata": {},
     "output_type": "display_data"
    }
   ],
   "source": [
    "hr_at_10 = []\n",
    "hr_at_20 = []\n",
    "hr_at_30 = []\n",
    "hr_at_10,hr_at_20, hr_at_30 = append_metrices(hr_at_10, hr_at_20, hr_at_30, metric_dict_vector_mg_a1_not_a2, 'hr_u_a1_not_a2_and')\n",
    "hr_at_10, hr_at_20, hr_at_30 = append_metrices(hr_at_10, hr_at_20, hr_at_30, metric_dict_vector_mg_a1_not_a2, 'hr_u_a1_not_a2_mult')\n",
    "hr_at_10,hr_at_20, hr_at_30 = append_metrices(hr_at_10, hr_at_20, hr_at_30, metric_dict_vector_mg_a1_not_a2, 'hr_u_a1_not_a2_int')\n",
    "hr_at_10,hr_at_20, hr_at_30 = append_metrices(hr_at_10, hr_at_20, hr_at_30, metric_dict_box_mg_a1_not_a2, 'hr_u_a1_not_a2_and')\n",
    "hr_at_10,hr_at_20, hr_at_30 = append_metrices(hr_at_10, hr_at_20, hr_at_30, metric_dict_box_mg_a1_not_a2, 'hr_u_a1_not_a2_mult')\n",
    "hr_at_10,hr_at_20, hr_at_30 = append_metrices(hr_at_10, hr_at_20, hr_at_30, metric_dict_box_mg_a1_not_a2, 'hr_u_a1_not_a2_int')\n",
    "plot_hits(hr_at_10, hr_at_20, hr_at_30)"
   ]
  },
  {
   "cell_type": "markdown",
   "metadata": {},
   "source": [
    "### Analysis"
   ]
  },
  {
   "cell_type": "code",
   "execution_count": null,
   "metadata": {},
   "outputs": [],
   "source": []
  },
  {
   "cell_type": "markdown",
   "metadata": {},
   "source": [
    "# Get Results for Movie-Attribute (MA) Joint Matrix"
   ]
  },
  {
   "cell_type": "code",
   "execution_count": 117,
   "metadata": {},
   "outputs": [
    {
     "name": "stdout",
     "output_type": "stream",
     "text": [
      "Data files read successfully...\n",
      "ID files read successfully...\n",
      "Negative data files read successfully...\n",
      "Data loaded\n",
      "Number of users: 6040\n",
      "Number of movies: 3706\n",
      "Number of attributes: 426\n",
      "Combination queries loaded\n"
     ]
    }
   ],
   "source": [
    "dataset_ma = get_dataset(arg_dict_box_ma)\n",
    "n_users = dataset_ma.n_users\n",
    "n_movies = dataset_ma.n_movies\n",
    "n_attributes = dataset_ma.n_attributes\n",
    "gt_user_movie_matrix = gt_df_to_matrix(dataset_ma.gt_user_movie, dataset_ma)\n",
    "gt_attribute_movie_matrix = gt_df_to_matrix(dataset_ma.gt_attribute_movie, dataset_ma)\n",
    "dataset_ma.read_neg_data_files()\n",
    "print('Data loaded')\n",
    "print('Number of users:', n_users)\n",
    "print('Number of movies:', n_movies)\n",
    "print('Number of attributes:', n_attributes)\n",
    "user_attribute_query_ma = pd.read_csv('../' + arg_dict_box_ma['data_dir'] + '/combinations/user_attribute.csv')\n",
    "user_attributeA_attributeB_ma = pd.read_csv('../' + arg_dict_box_ma['data_dir'] + '/combinations/user_attributeA_attributeB.csv')\n",
    "user_attributeA_not_attributeB_ma = pd.read_csv('../' + arg_dict_box_ma['data_dir'] + '/combinations/user_attributeA_not_attributeB.csv')\n",
    "print(\"Combination queries loaded\")"
   ]
  },
  {
   "cell_type": "code",
   "execution_count": 118,
   "metadata": {},
   "outputs": [
    {
     "name": "stdout",
     "output_type": "stream",
     "text": [
      "Validation results for box model\n",
      "{'hr': 0.825634777545929,\n",
      " 'hr_attr': 0.6666666865348816,\n",
      " 'ndcg': 0.6161209344863892,\n",
      " 'ndcg_attr': 0.4339781403541565}\n",
      "Validation results for vector model\n",
      "{'hr': 0.8259406685829163,\n",
      " 'hr_attr': 0.7777777910232544,\n",
      " 'ndcg': 0.5130804777145386,\n",
      " 'ndcg_attr': 0.5548930168151855}\n"
     ]
    }
   ],
   "source": [
    "print(\"Validation results for box model\")\n",
    "pprint(check_test_results(dataset_ma, model_box_ma))\n",
    "print(\"Validation results for vector model\")\n",
    "pprint(check_test_results(dataset_ma, model_vector_ma))"
   ]
  },
  {
   "cell_type": "markdown",
   "metadata": {},
   "source": [
    "## Box $U \\cap A$ - Attribute"
   ]
  },
  {
   "cell_type": "code",
   "execution_count": 119,
   "metadata": {},
   "outputs": [
    {
     "name": "stderr",
     "output_type": "stream",
     "text": [
      "100%|██████████| 49169/49169 [26:58<00:00, 30.38it/s]\n"
     ]
    },
    {
     "name": "stdout",
     "output_type": "stream",
     "text": [
      "Calculating metrics for user\n",
      "HR@10: 0.06186825032032378\n",
      "HR@20: 0.10408997539099839\n",
      "HR@50: 0.19117736785372896\n",
      "NDCG: 0.15495761844167802\n",
      "Calculating metrics for attribute\n",
      "HR@10: 0.06758323333807888\n",
      "HR@20: 0.11586568773007383\n",
      "HR@50: 0.19880412455002136\n",
      "NDCG: 0.15678126468494405\n",
      "Calculating metrics for user*attribute\n",
      "HR@10: 0.06622058614167463\n",
      "HR@20: 0.11564196953364925\n",
      "HR@50: 0.20354288271065102\n",
      "NDCG: 0.15773964735547732\n",
      "Calculating metrics for user intersection attribute\n",
      "HR@10: 0.06642396632024243\n",
      "HR@20: 0.11560129349793569\n",
      "HR@50: 0.20342085460351034\n",
      "NDCG: 0.15775946459565418\n",
      "Calculating metrics for attribute in user\n",
      "HR@10: 0.06302751733816023\n",
      "HR@20: 0.10614411519453314\n",
      "HR@50: 0.19774654762146882\n",
      "NDCG: 0.14086580383455358\n",
      "Calculating metrics for attribute and user\n",
      "HR@10: 0.06302751733816023\n",
      "HR@20: 0.10614411519453314\n",
      "HR@50: 0.19764485753218491\n",
      "NDCG: 0.136456410355126\n"
     ]
    }
   ],
   "source": [
    "metric_dict_box_ma = get_ranking_metrices(user_attribute_query_ma, model_box_ma, arg_dict_box_ma)"
   ]
  },
  {
   "cell_type": "markdown",
   "metadata": {},
   "source": [
    "## Vector $U \\cap A$ - Attribute"
   ]
  },
  {
   "cell_type": "code",
   "execution_count": 120,
   "metadata": {},
   "outputs": [
    {
     "name": "stderr",
     "output_type": "stream",
     "text": [
      "100%|██████████| 49169/49169 [07:49<00:00, 104.78it/s]\n"
     ]
    },
    {
     "name": "stdout",
     "output_type": "stream",
     "text": [
      "Calculating metrics for user\n",
      "HR@10: 0.004942138339197462\n",
      "HR@20: 0.011389289999796619\n",
      "HR@50: 0.03837783969574325\n",
      "NDCG: 0.12043463412170731\n",
      "Calculating metrics for attribute\n",
      "HR@10: 0.001016900892838984\n",
      "HR@20: 0.003396448982082206\n",
      "HR@50: 0.009823262624824585\n",
      "NDCG: 0.10335727142566449\n",
      "Calculating metrics for user*attribute\n",
      "HR@10: 0.010453741178384754\n",
      "HR@20: 0.02344973458886697\n",
      "HR@50: 0.0675628953202221\n",
      "NDCG: 0.12346851606788178\n",
      "Calculating metrics for user intersection attribute\n",
      "HR@10: 0.0037015192499339016\n",
      "HR@20: 0.008663995606988143\n",
      "HR@50: 0.023165002338872052\n",
      "NDCG: 0.11051687541770555\n",
      "Calculating metrics for attribute in user\n",
      "HR@10: 0.008704671642701702\n",
      "HR@20: 0.01635176635685086\n",
      "HR@50: 0.0341271939636763\n",
      "NDCG: 0.0916161708606459\n",
      "Calculating metrics for attribute and user\n",
      "HR@10: 0.006020053285606785\n",
      "HR@20: 0.008663995606988143\n",
      "HR@50: 0.010535093249811873\n",
      "NDCG: 0.087119576325374\n"
     ]
    }
   ],
   "source": [
    "metric_dict_vector_ma = get_ranking_metrices(user_attribute_query_ma, model_vector_ma, arg_dict_vector_ma)"
   ]
  },
  {
   "cell_type": "markdown",
   "metadata": {},
   "source": [
    "## Box $U \\cap A_1 \\cap A_2$ - Attribute"
   ]
  },
  {
   "cell_type": "code",
   "execution_count": null,
   "metadata": {},
   "outputs": [],
   "source": [
    "metric_dict_box_ma_a1_a2 = get_ranking_metrices_intersection(user_attributeA_attributeB_ma, model_box_ma, arg_dict_box_ma)"
   ]
  },
  {
   "cell_type": "markdown",
   "metadata": {},
   "source": [
    "## Vector $U \\cap A_1 \\cap A_2$ - Attribute"
   ]
  },
  {
   "cell_type": "code",
   "execution_count": null,
   "metadata": {},
   "outputs": [],
   "source": [
    "metric_dict_vector_ma_a1_a2 = get_ranking_metrices_intersection(user_attributeA_attributeB_ma, model_vector_ma, arg_dict_vector_ma)"
   ]
  },
  {
   "cell_type": "markdown",
   "metadata": {},
   "source": [
    "## Box $U \\cap A_1 \\cap \\neg A_2$ - Attribute"
   ]
  },
  {
   "cell_type": "code",
   "execution_count": 122,
   "metadata": {},
   "outputs": [
    {
     "name": "stderr",
     "output_type": "stream",
     "text": [
      "100%|██████████| 55570/55570 [34:52<00:00, 26.56it/s] "
     ]
    },
    {
     "name": "stdout",
     "output_type": "stream",
     "text": [
      "Post hoc filtering\n",
      "HR@10: 0.0\n",
      "HR@20: 0.0\n",
      "HR@50: 0.0\n",
      "NDCG: 0.08434245191231139\n",
      "Calculating metrics for user*attribute1-not-attribute2\n",
      "HR@10: 1.0\n",
      "HR@20: 1.0\n",
      "HR@50: 1.0\n",
      "NDCG: 0.6309297535714575\n",
      "Calculating metrics for user intersection attribute1 - intersection attribute2\n",
      "HR@10: 1.0\n",
      "HR@20: 1.0\n",
      "HR@50: 1.0\n",
      "NDCG: 1.0\n"
     ]
    },
    {
     "name": "stderr",
     "output_type": "stream",
     "text": [
      "\n"
     ]
    }
   ],
   "source": [
    "metric_dict_box_ma_a1_not_a2 = get_ranking_metrices_difference(user_attributeA_not_attributeB_ma, model_box_ma, arg_dict_box_ma)"
   ]
  },
  {
   "cell_type": "markdown",
   "metadata": {},
   "source": [
    "## Vector $U \\cap A_1 \\cap \\neg A_2$ - Attribute"
   ]
  },
  {
   "cell_type": "code",
   "execution_count": 123,
   "metadata": {},
   "outputs": [
    {
     "name": "stderr",
     "output_type": "stream",
     "text": [
      "100%|██████████| 55570/55570 [05:48<00:00, 159.57it/s]"
     ]
    },
    {
     "name": "stdout",
     "output_type": "stream",
     "text": [
      "Post hoc filtering\n",
      "HR@10: 0.0\n",
      "HR@20: 0.0\n",
      "HR@50: 0.0\n",
      "NDCG: 0.08434245191231139\n",
      "Calculating metrics for user*attribute1-not-attribute2\n",
      "HR@10: 0.0\n",
      "HR@20: 0.0\n",
      "HR@50: 0.0\n",
      "NDCG: 0.13107265131218435\n",
      "Calculating metrics for user intersection attribute1 - intersection attribute2\n",
      "HR@10: 0.0\n",
      "HR@20: 0.0\n",
      "HR@50: 0.0\n",
      "NDCG: 0.10422828508334185\n"
     ]
    },
    {
     "name": "stderr",
     "output_type": "stream",
     "text": [
      "\n"
     ]
    }
   ],
   "source": [
    "metric_dict_vector_ma_a1_not_a2 = get_ranking_metrices_difference(user_attributeA_not_attributeB_ma, model_vector_ma, arg_dict_vector_ma)"
   ]
  },
  {
   "cell_type": "code",
   "execution_count": 44,
   "metadata": {},
   "outputs": [
    {
     "name": "stderr",
     "output_type": "stream",
     "text": [
      "100%|██████████| 38181/38181 [02:01<00:00, 313.09it/s]\n"
     ]
    },
    {
     "name": "stdout",
     "output_type": "stream",
     "text": [
      "Calculating metrics for user*attribute\n",
      "HR@10: 0.03619601372410361\n",
      "HR@20: 0.07660878447395301\n",
      "HR@50: 0.19226840575155182\n",
      "NDCG: 0.1513329949401536\n",
      "Calculating metrics for user intersection attribute\n",
      "HR@10: 0.009533537623425264\n",
      "HR@20: 0.020088525706503234\n",
      "HR@50: 0.05620596631832587\n",
      "NDCG: 0.12377377183332954\n"
     ]
    }
   ],
   "source": [
    "\n",
    "keep_top = 200\n",
    "rank_u = []\n",
    "rank_a = []\n",
    "rank_u_mult_a = []\n",
    "rank_u_int_a = []\n",
    "rank_a_in_u = []\n",
    "rank_a_and_u = []\n",
    "for user_id, attribute_id, movie_id in tqdm(user_attribute_query_mg.values):\n",
    "    u = torch.tensor([user_id])\n",
    "    a = torch.tensor([attribute_id + n_users])\n",
    "    m = torch.tensor([movie_id])\n",
    "\n",
    "    mask = torch.ones(model_vector_mg.n_items, dtype=torch.bool)\n",
    "    gt_m = torch.where(gt_u_and_a_matrix_mg[user_id, attribute_id] == 1)[0]\n",
    "    mask[gt_m] = False\n",
    "    mask[m] = True\n",
    "\n",
    "    score_u = model_vector_mg.predict_item(u)\n",
    "    score_a = model_vector_mg.predict_item(a)\n",
    "\n",
    "    ## Score multiplication\n",
    "    if arg_dict_vector_mg['model'] == 'box_conditional':\n",
    "        score_u_mult_a = score_u + score_a\n",
    "    elif arg_dict_vector_mg['model'] == 'mf_bias':\n",
    "        score_u_mult_a = F.logsigmoid(score_u) + F.logsigmoid(score_a)\n",
    "    \n",
    "    score_u_mult_a[~mask] = -torch.inf\n",
    "    order_u_mult_a = torch.argsort(score_u_mult_a, dim=-1, descending=True)\n",
    "\n",
    "    ## Score intersection\n",
    "    if arg_dict_vector_mg['model'] == 'box_conditional':\n",
    "        u_box = model_vector_mg.user_embeddings(u)\n",
    "        a_box = model_vector_mg.user_embeddings(a)\n",
    "        u_int_a_box = u_box.intersection(a_box)\n",
    "        u_int_a_box = u_box.intersection(\n",
    "                    a_box,\n",
    "                    intersection_temp=model_vector_mg.intersection_temp,\n",
    "                    bayesian=True)\n",
    "        u_int_a_scores = box_predict_conditional(u_int_a_box, model_vector_mg)\n",
    "    elif arg_dict_vector_mg['model'] == 'mf_bias':\n",
    "        u_vector = model_vector_mg.user_embeddings(u)\n",
    "        a_vector = model_vector_mg.user_embeddings(a)\n",
    "        u_int_a_vector = u_vector + a_vector\n",
    "        u_int_a_scores = vector_predict(u_int_a_vector, model_vector_mg)\n",
    "    \n",
    "    u_int_a_scores[~mask] = -torch.inf\n",
    "    order_u_int_a = torch.argsort(u_int_a_scores, dim=-1, descending=True)\n",
    "\n",
    "    ## Get ranks\n",
    "    rank_u_mult_a.append(torch.where(order_u_mult_a == m)[0].item())\n",
    "    rank_u_int_a.append(torch.where(order_u_int_a == m)[0].item())\n",
    "\n",
    "print(\"Calculating metrics for user*attribute\")\n",
    "hr_u_mult_a, ndcg_u_mult_a = get_hr_ndcg_at_k(rank_u_mult_a)\n",
    "print(\"Calculating metrics for user intersection attribute\")\n",
    "hr_u_int_a, ndcg_u_int_a = get_hr_ndcg_at_k(rank_u_int_a)\n"
   ]
  },
  {
   "cell_type": "markdown",
   "metadata": {},
   "source": []
  }
 ],
 "metadata": {
  "kernelspec": {
   "display_name": "boxrec",
   "language": "python",
   "name": "python3"
  },
  "language_info": {
   "codemirror_mode": {
    "name": "ipython",
    "version": 3
   },
   "file_extension": ".py",
   "mimetype": "text/x-python",
   "name": "python",
   "nbconvert_exporter": "python",
   "pygments_lexer": "ipython3",
   "version": "3.11.8"
  }
 },
 "nbformat": 4,
 "nbformat_minor": 2
}
