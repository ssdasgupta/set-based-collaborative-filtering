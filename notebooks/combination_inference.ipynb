{
 "cells": [
  {
   "cell_type": "code",
   "execution_count": null,
   "metadata": {},
   "outputs": [],
   "source": [
    "import torch\n",
    "import torch.nn as nn\n",
    "import torch.nn.functional as F\n",
    "import sys\n",
    "import pandas as pd\n",
    "import numpy as np\n",
    "import json\n",
    "from tqdm import tqdm\n",
    "import matplotlib.pyplot as plt\n",
    "from pprint import pprint\n",
    "sys.path.append('..')\n",
    "\n",
    "from model import BoxRec, BoxRecConditional\n",
    "from model import MatrixFactorization, MatrixFactorizationWithBias\n",
    "from data_loaders.data_processing import JointDataProcessing\n",
    "from model.box.utils import log1mexp"
   ]
  },
  {
   "cell_type": "markdown",
   "metadata": {},
   "source": [
    "# Load Models"
   ]
  },
  {
   "cell_type": "markdown",
   "metadata": {},
   "source": [
    "## Functionalities"
   ]
  },
  {
   "cell_type": "code",
   "execution_count": null,
   "metadata": {},
   "outputs": [],
   "source": [
    "def load_model(model_dir):\n",
    "    arg_dict = json.load(open(model_dir + '/args.json', 'r'))\n",
    "    if arg_dict['model'] == 'box':\n",
    "        model = BoxRec(\n",
    "                n_users=arg_dict['num_users'],\n",
    "                n_items=arg_dict['num_items'],\n",
    "                embedding_dim=arg_dict['embedding_dim'],\n",
    "                volume_temp=arg_dict['volume_temp'],\n",
    "                intersection_temp=arg_dict['intersection_temp']\n",
    "        )\n",
    "    elif arg_dict['model'] == 'box_conditional':\n",
    "        model = BoxRecConditional(\n",
    "                n_users=arg_dict['num_users'],\n",
    "                n_items=arg_dict['num_items'],\n",
    "                embedding_dim=arg_dict['embedding_dim'],\n",
    "                volume_temp=arg_dict['volume_temp'],\n",
    "                intersection_temp=arg_dict['intersection_temp']\n",
    "        )\n",
    "    elif arg_dict['model'] == 'mf_bias':\n",
    "        model = MatrixFactorizationWithBias(\n",
    "                    n_users=arg_dict['num_users'],\n",
    "                    n_items=arg_dict['num_items'],\n",
    "                    embedding_dim=arg_dict['embedding_dim'],\n",
    "        )\n",
    "    elif arg_dict['model'] == 'mf':\n",
    "        model = MatrixFactorization(\n",
    "                    n_users=arg_dict['num_users'],\n",
    "                    n_items=arg_dict['num_items'],\n",
    "                    embedding_dim=arg_dict['embedding_dim'],\n",
    "        )\n",
    "    else:\n",
    "        raise ValueError('Invalid model type')\n",
    "    model.load_state_dict(torch.load(model_dir + '/model_best_ndcg.pth',\n",
    "                                     map_location=torch.device('cpu')))\n",
    "    return model, arg_dict"
   ]
  },
  {
   "cell_type": "markdown",
   "metadata": {},
   "source": [
    "## Load Box Model Genre"
   ]
  },
  {
   "cell_type": "code",
   "execution_count": null,
   "metadata": {},
   "outputs": [],
   "source": [
    "box_cond_model_dir = \"../model/ml1m/box_conditional/user_genre_movie/dim_64-negs_20\"\n",
    "model_box_mg, arg_dict_box_mg = load_model(box_cond_model_dir)"
   ]
  },
  {
   "cell_type": "markdown",
   "metadata": {},
   "source": [
    "## Load Vector Model Genre"
   ]
  },
  {
   "cell_type": "code",
   "execution_count": null,
   "metadata": {},
   "outputs": [],
   "source": [
    "vector_model_dir = \"../model/ml1m/mf_bias/user_genre_movie/dim_128-negs_10\"\n",
    "model_vector_mg, arg_dict_vector_mg = load_model(vector_model_dir)"
   ]
  },
  {
   "cell_type": "markdown",
   "metadata": {},
   "source": [
    "# Load dataloader"
   ]
  },
  {
   "cell_type": "markdown",
   "metadata": {},
   "source": [
    "## functionalities"
   ]
  },
  {
   "cell_type": "code",
   "execution_count": null,
   "metadata": {},
   "outputs": [],
   "source": [
    "def gt_df_to_matrix(dataset, gt_df):\n",
    "    columns = gt_df.columns\n",
    "    n_rows = len(gt_df[columns[0]].unique())\n",
    "    n_cols = dataset.n_movies\n",
    "    gt_matrix = torch.zeros((n_rows, n_cols), dtype=torch.bool)  \n",
    "    gt_matrix[gt_df[columns[0]], gt_df[columns[1]]] = 1\n",
    "    return gt_matrix\n",
    "\n",
    "def get_hr_ndcg_101(scores):\n",
    "    target_idx = torch.tensor(scores.shape[1] - 1)\n",
    "    pred_order = torch.argsort(scores, dim=-1, descending=True)\n",
    "    rank = torch.where(pred_order == target_idx)[1] + 1\n",
    "    hr_101 = sum(rank <= 10) / len(rank)\n",
    "    ndcg_101 = sum(1.0 / torch.log2(rank + 1)) / len(rank)\n",
    "    return hr_101.item(), ndcg_101.item()\n",
    "\n",
    "def get_hr_ndcg_at_k(rank_list):\n",
    "    rank_list = np.array(rank_list)\n",
    "    hr_list = []\n",
    "    for k in [10, 20, 50]:\n",
    "        hr = sum(rank_list <= k) / len(rank_list)\n",
    "        hr_list.append(hr)\n",
    "        print(f'HR@{k}: {hr}')\n",
    "    ndcg = sum(1.0 / np.log2(rank_list + 1 + 1)) / len(rank_list)\n",
    "    print(f'NDCG: {ndcg}')\n",
    "    return hr_list, ndcg"
   ]
  },
  {
   "cell_type": "markdown",
   "metadata": {},
   "source": [
    "## Dataloader class"
   ]
  },
  {
   "cell_type": "code",
   "execution_count": null,
   "metadata": {},
   "outputs": [],
   "source": [
    "def get_dataset(arg_dict):\n",
    "    dataset = JointDataProcessing(data_dir='../' + arg_dict['data_dir'],\n",
    "                                        dataset_type=arg_dict['dataset'],\n",
    "                                        batch_size=arg_dict['batch_size'])\n",
    "    return dataset\n"
   ]
  },
  {
   "cell_type": "markdown",
   "metadata": {},
   "source": [
    "## Get test and validation numbers\n",
    "- This is to see if the model loading has worked and if their is any anomaly in the model.\n",
    "- Also the test numbers will be reported."
   ]
  },
  {
   "cell_type": "markdown",
   "metadata": {},
   "source": [
    "#### Functionalities"
   ]
  },
  {
   "cell_type": "code",
   "execution_count": null,
   "metadata": {},
   "outputs": [],
   "source": [
    "def check_test_results(dataset, model, mode='valid'):\n",
    "    if mode == 'valid':\n",
    "        user_movie_dict = dataset.val_neg_user_movie.to_dict('list')\n",
    "        attribute_movie_dict = dataset.val_neg_attribute_movie.to_dict('list')\n",
    "    elif mode == 'test':\n",
    "        user_movie_dict = dataset.test_neg_user_movie.to_dict('list')\n",
    "        attribute_movie_dict = dataset.test_neg_attribute_movie.to_dict('list')\n",
    "\n",
    "    users = [int(x) for x in user_movie_dict.keys()]\n",
    "    items = [x for x in user_movie_dict.values()]\n",
    "    users = torch.tensor(users)\n",
    "    items = torch.tensor(items)\n",
    "    scores = model(users, items)\n",
    "    valid_hr, valid_ndcg = get_hr_ndcg_101(scores)\n",
    "\n",
    "    attributes = [int(x) + dataset.n_users for x in attribute_movie_dict.keys()] ### might be wrong\n",
    "    items = [x for x in attribute_movie_dict.values()]\n",
    "    attributes = torch.tensor(attributes)\n",
    "    items = torch.tensor(items)\n",
    "    scores = model(attributes, items)\n",
    "    valid_hr_attr, valid_ndcg_attr = get_hr_ndcg_101(scores)\n",
    "\n",
    "    return {'hr': valid_hr, \n",
    "            'ndcg': valid_ndcg, \n",
    "            'hr_attr': valid_hr_attr, \n",
    "            'ndcg_attr': valid_ndcg_attr\n",
    "            }\n"
   ]
  },
  {
   "cell_type": "markdown",
   "metadata": {},
   "source": [
    "# Inference"
   ]
  },
  {
   "cell_type": "markdown",
   "metadata": {},
   "source": [
    "#### Utility Functions"
   ]
  },
  {
   "cell_type": "code",
   "execution_count": null,
   "metadata": {},
   "outputs": [],
   "source": [
    "def vector_predict(combination_vector, model):\n",
    "    all_items = torch.arange(model.n_items)\n",
    "    item_vectors = model.item_embeddings(all_items)\n",
    "    scores = (combination_vector * item_vectors).sum(dim=-1)\n",
    "    return scores\n",
    "\n",
    "def box_predict(combination_box, model):\n",
    "    all_items = torch.arange(model.n_items)\n",
    "    item_boxes = model.item_embeddings(all_items)\n",
    "    if model.intersection_temp == 0.0:\n",
    "        scores = combination_box.intersection_log_soft_volume(\n",
    "            item_boxes, volume_temp=model.volume_temp\n",
    "        )\n",
    "    else:\n",
    "        scores = combination_box.gumbel_intersection_log_volume(\n",
    "            item_boxes,\n",
    "            volume_temp=model.volume_temp,\n",
    "            intersection_temp=model.intersection_temp,\n",
    "        )\n",
    "    return scores\n",
    "\n",
    "def box_predict_conditional(combination_box, model):\n",
    "    all_items = torch.arange(model.n_items)\n",
    "    item_boxes = model.item_embeddings(all_items)\n",
    "    if model.intersection_temp == 0.0:\n",
    "        intersection_scores = combination_box.intersection_log_soft_volume(\n",
    "            item_boxes, volume_temp=model.volume_temp\n",
    "        )\n",
    "    else:\n",
    "        intersection_scores = combination_box.gumbel_intersection_log_volume(\n",
    "            item_boxes,\n",
    "            volume_temp=model.volume_temp,\n",
    "            intersection_temp=model.intersection_temp,\n",
    "        )\n",
    "    log_volume_items = item_boxes.log_soft_volume_adjusted(volume_temp=model.volume_temp,\n",
    "                                                      intersection_temp=model.intersection_temp)\n",
    "    conditional_prob = intersection_scores - log_volume_items\n",
    "    assert (conditional_prob <= 0).all(), \"Log probability can not be positive\"\n",
    "    return conditional_prob\n",
    " "
   ]
  },
  {
   "cell_type": "markdown",
   "metadata": {},
   "source": [
    "## $U \\cap A$"
   ]
  },
  {
   "cell_type": "code",
   "execution_count": null,
   "metadata": {},
   "outputs": [],
   "source": [
    "def get_ranking_metrices(query_df,\n",
    "                         model,\n",
    "                         arg_dict,\n",
    "                         gt_matrix,\n",
    "                         predicted_a_m_matrix,\n",
    "                         apply_mask = True):\n",
    "\n",
    "    rank_u_mult_a = []\n",
    "    rank_u_int_a = []\n",
    "    rank_a_and_u = []\n",
    "    for user_id, attribute_id, movie_id in tqdm(zip(query_df['user_id'], query_df['attribute_id'], query_df['movie_id'])):\n",
    "        u = torch.tensor([user_id])\n",
    "        a = torch.tensor([attribute_id + n_users])\n",
    "        m = torch.tensor([movie_id])\n",
    "        if apply_mask:\n",
    "            mask = torch.ones(model_vector_mg.n_items, dtype=torch.bool)\n",
    "            gt_m = torch.where(gt_matrix[user_id, attribute_id] == 1)[0]\n",
    "            mask[gt_m] = False\n",
    "            mask[m] = True\n",
    "\n",
    "        score_u = model.predict_item(u)\n",
    "        score_a = model.predict_item(a)\n",
    "\n",
    "        ## Score multiplication\n",
    "        if arg_dict['model'] == 'box_conditional':\n",
    "            score_u_mult_a = score_u + score_a\n",
    "        elif arg_dict['model'] == 'mf_bias':\n",
    "            score_u_mult_a = F.logsigmoid(score_u) + F.logsigmoid(score_a)\n",
    "        if apply_mask:\n",
    "            score_u_mult_a[~mask] = -torch.inf\n",
    "        order_u_mult_a = torch.argsort(score_u_mult_a, dim=-1, descending=True)\n",
    "\n",
    "        ## Matrix completion\n",
    "        a_m = torch.where(predicted_a_m_matrix[attribute_id])[0]\n",
    "        if m not in a_m:\n",
    "            rank_a_and_u.append(model.n_items)\n",
    "        else:\n",
    "            if apply_mask:\n",
    "                score_u[~mask] = -torch.inf\n",
    "            order_u = torch.argsort(score_u, dim=-1, descending=True)\n",
    "            a_in_u = (order_u[:, None] == a_m).nonzero()[:, 0]\n",
    "            order_a_in_u = order_u[a_in_u]\n",
    "            rank_a_and_u.append(torch.where(order_a_in_u == m)[0].item())\n",
    "\n",
    "        ## Score intersection\n",
    "        if arg_dict['model'] == 'box_conditional':\n",
    "            u_box = model.user_embeddings(u)\n",
    "            a_box = model.user_embeddings(a)\n",
    "            u_int_a_box = u_box.intersection(a_box)\n",
    "            u_int_a_box = u_box.intersection(\n",
    "                        a_box,\n",
    "                        intersection_temp=model.intersection_temp,\n",
    "                        bayesian=True)\n",
    "            u_int_a_scores = box_predict_conditional(u_int_a_box, model)\n",
    "        elif arg_dict['model'] == 'mf_bias':\n",
    "            u_vector = model.user_embeddings(u)\n",
    "            a_vector = model.user_embeddings(a)\n",
    "            u_int_a_vector = u_vector + a_vector\n",
    "            u_int_a_scores = vector_predict(u_int_a_vector, model)\n",
    "        \n",
    "        if apply_mask:  \n",
    "            u_int_a_scores[~mask] = -torch.inf\n",
    "        order_u_int_a = torch.argsort(u_int_a_scores, dim=-1, descending=True)\n",
    "\n",
    "        # Get ranks\n",
    "        rank_u_mult_a.append(torch.where(order_u_mult_a == m)[0].item())\n",
    "        rank_u_int_a.append(torch.where(order_u_int_a == m)[0].item())\n",
    "\n",
    "    print(\"Calculating metrics for user*attribute\")\n",
    "    hr_u_mult_a, ndcg_u_mult_a = get_hr_ndcg_at_k(rank_u_mult_a)\n",
    "    print(\"Calculating metrics for user intersection attribute\")\n",
    "    hr_u_int_a, ndcg_u_int_a = get_hr_ndcg_at_k(rank_u_int_a)\n",
    "    print(\"Calculating metrics for attribute and user threshold\")\n",
    "    hr_a_and_u, ndcg_a_and_u = get_hr_ndcg_at_k(rank_a_and_u)\n",
    "\n",
    "\n",
    "    return {\n",
    "            'hr_u_mult_a': hr_u_mult_a, 'ndcg_u_mult_a': ndcg_u_mult_a,\n",
    "            'hr_u_int_a': hr_u_int_a, 'ndcg_u_int_a': ndcg_u_int_a,\n",
    "            'hr_a_and_u': hr_a_and_u, 'ndcg_a_and_u': ndcg_a_and_u\n",
    "            }"
   ]
  },
  {
   "cell_type": "markdown",
   "metadata": {},
   "source": [
    "## $ U \\cap A_1 \\cap A_2$"
   ]
  },
  {
   "cell_type": "code",
   "execution_count": null,
   "metadata": {},
   "outputs": [],
   "source": [
    "def get_ranking_metrices_intersection(query_df,\n",
    "                                      model,\n",
    "                                      arg_dict,\n",
    "                                      gt_matrix,\n",
    "                                      predicted_a_m_matrix,\n",
    "                                      apply_mask=True):\n",
    "    keep_top = 300\n",
    "    rank_u_a1_a2_mult = []\n",
    "    rank_u_a1_a2_int = []\n",
    "    rank_u_a1_a2_and = []\n",
    "    for user_id, movie_id, attribute_1, attribute_2 in tqdm(query_df.values):\n",
    "        u = torch.tensor([user_id])\n",
    "        m = torch.tensor([movie_id])\n",
    "        a1 = torch.tensor([attribute_1 + n_users])\n",
    "        a2 = torch.tensor([attribute_2 + n_users])\n",
    "\n",
    "        if apply_mask:\n",
    "            mask = torch.ones(model_vector_mg.n_items, dtype=torch.bool)\n",
    "            gt_m = torch.where(gt_matrix[user_id, attribute_1, attribute_2] == 1)[0]\n",
    "            mask[gt_m] = False\n",
    "            mask[m] = True\n",
    "\n",
    "        score_u = model.predict_item(u)\n",
    "        score_a1 = model.predict_item(a1)\n",
    "        score_a2 = model.predict_item(a2)\n",
    "\n",
    "        ## Score multiplication\n",
    "        if arg_dict['model'] == 'box_conditional':\n",
    "            score_u_a1_a2_mult = score_u + score_a1 + score_a2\n",
    "        elif arg_dict['model'] == 'mf_bias':\n",
    "            score_u_a1_a2_mult = F.logsigmoid(score_u) + F.logsigmoid(score_a1) + F.logsigmoid(score_a2)\n",
    "        \n",
    "        if apply_mask:\n",
    "            score_u_a1_a2_mult[~mask] = -torch.inf\n",
    "        order_u_a1_a2_mult = torch.argsort(score_u_a1_a2_mult, dim=-1, descending=True)\n",
    "\n",
    "        ## Score intersection\n",
    "        if arg_dict['model'] == 'box_conditional':\n",
    "            u_box = model.user_embeddings(u)\n",
    "            a1_box = model.user_embeddings(a1)\n",
    "            a2_box = model.user_embeddings(a2)\n",
    "            u_int_a1_box = u_box.intersection(\n",
    "                a1_box,\n",
    "                intersection_temp=arg_dict['intersection_temp'],\n",
    "                bayesian=True)\n",
    "            u_a1_a2_int_box = u_int_a1_box.intersection(\n",
    "                a2_box,\n",
    "                intersection_temp=arg_dict['intersection_temp'],\n",
    "                bayesian=True)\n",
    "            u_a1_a2_scores = box_predict_conditional(u_a1_a2_int_box, model)\n",
    "        elif arg_dict['model'] == 'mf_bias':\n",
    "            u_vector = model.user_embeddings(u)\n",
    "            a1_vector = model.user_embeddings(a1)\n",
    "            a2_vector = model.user_embeddings(a2)\n",
    "            u_a1_a2_vector = u_vector + a1_vector + a2_vector\n",
    "            u_a1_a2_scores = vector_predict(u_a1_a2_vector, model)\n",
    "        \n",
    "        if apply_mask:\n",
    "            u_a1_a2_scores[~mask] = -torch.inf\n",
    "        order_u_a1_a2_int = torch.argsort(u_a1_a2_scores, dim=-1, descending=True)\n",
    "\n",
    "        ## Matrix completion\n",
    "        a1_m = torch.where(predicted_a_m_matrix[attribute_1])[0].tolist()\n",
    "        a2_m = torch.where(predicted_a_m_matrix[attribute_2])[0].tolist()\n",
    "        a1_a2_m = set(a1_m).intersection(set(a2_m))\n",
    "        if m.item() not in a1_a2_m:\n",
    "            rank_u_a1_a2_and.append(model.n_items)\n",
    "        else:\n",
    "            if apply_mask:\n",
    "                score_u[~mask] = -torch.inf\n",
    "            order_u = torch.argsort(score_u, dim=-1, descending=True)\n",
    "            a1_a2_m = torch.tensor(list(a1_a2_m))\n",
    "            a1_a2_in_u = (order_u[:, None] == a1_a2_m).nonzero()[:, 0]\n",
    "            order_a1_a2_in_u = order_u[a1_a2_in_u]\n",
    "            rank_u_a1_a2_and.append(torch.where(order_a1_a2_in_u == m)[0].item())\n",
    "\n",
    "\n",
    "        ## get ranks\n",
    "        rank_u_a1_a2_mult.append(torch.where(order_u_a1_a2_mult == m)[0].item())\n",
    "        rank_u_a1_a2_int.append(torch.where(order_u_a1_a2_int == m)[0].item())\n",
    "\n",
    "    print(\"Post hoc filtering\")\n",
    "    hr_u_a1_a2_and, ndcg_u_a1_a2_and = get_hr_ndcg_at_k(rank_u_a1_a2_and)\n",
    "    print(\"Calculating metrics for user*attribute1*attribute2\")\n",
    "    hr_u_a1_a2_mult, ndcg_u_a1_a2_mult = get_hr_ndcg_at_k(rank_u_a1_a2_mult)\n",
    "    print(\"Calculating metrics for user intersection attribute1 intersection attribute2\")\n",
    "    hr_u_a1_a2_int, ndcg_u_a1_a2_int = get_hr_ndcg_at_k(rank_u_a1_a2_int)\n",
    "\n",
    "    return {\n",
    "            'hr_u_a1_a2_mult': hr_u_a1_a2_mult, 'ndcg_u_a1_a2_mult': ndcg_u_a1_a2_mult,\n",
    "            'hr_u_a1_a2_int': hr_u_a1_a2_int, 'ndcg_u_a1_a2_int': ndcg_u_a1_a2_int,\n",
    "            'hr_u_a1_a2_and': hr_u_a1_a2_and, 'ndcg_u_a1_a2_and': ndcg_u_a1_a2_and\n",
    "            }"
   ]
  },
  {
   "cell_type": "markdown",
   "metadata": {},
   "source": [
    "## $ U \\cap A_1 \\cap \\neg A_2$"
   ]
  },
  {
   "cell_type": "code",
   "execution_count": null,
   "metadata": {},
   "outputs": [],
   "source": [
    "def get_ranking_metrices_difference(query_df,\n",
    "                                    model,\n",
    "                                    arg_dict,\n",
    "                                    gt_matrix,\n",
    "                                    predicted_a_m_matrix,\n",
    "                                    apply_mask=True):\n",
    "    keep_top = 300\n",
    "    rank_u_a1_not_a2_mult = []\n",
    "    rank_u_a1_not_a2_int = []\n",
    "    rank_u_a1_not_a2_and = []\n",
    "    for user_id, movie_id, attribute_1, attribute_2 in tqdm(query_df.values):\n",
    "        u = torch.tensor([user_id])\n",
    "        m = torch.tensor([movie_id])\n",
    "        a1 = torch.tensor([attribute_1 + n_users])\n",
    "        a2 = torch.tensor([attribute_2 + n_users])\n",
    "\n",
    "        if apply_mask:\n",
    "            mask = torch.ones(model_vector_mg.n_items, dtype=torch.bool)\n",
    "            gt_m = torch.where(gt_matrix[user_id, attribute_1, attribute_2] == 1)[0]\n",
    "            mask[gt_m] = False\n",
    "            mask[m] = True\n",
    "\n",
    "        score_u = model.predict_item(u)\n",
    "        score_a1 = model.predict_item(a1)\n",
    "        score_a2 = model.predict_item(a2)\n",
    "        \n",
    "\n",
    "        ## Score Multiplication\n",
    "        if arg_dict['model'] == 'box_conditional':\n",
    "            score_u_a1_not_a2_mult = score_u + score_a1 + log1mexp(score_a2)\n",
    "        elif arg_dict['model'] == 'mf_bias':\n",
    "            score_u_a1_not_a2_mult = F.logsigmoid(score_u) + F.logsigmoid(score_a1) + F.logsigmoid(-score_a2)\n",
    "        \n",
    "        if apply_mask:\n",
    "            score_u_a1_not_a2_mult[~mask] = -torch.inf\n",
    "        order_u_a1_not_a2_mult = torch.argsort(score_u_a1_not_a2_mult, dim=-1, descending=True)\n",
    "\n",
    "        ## Score Set Operations\n",
    "        if arg_dict['model'] == 'box_conditional':\n",
    "            u_box = model.user_embeddings(u)\n",
    "            a1_box = model.user_embeddings(a1)\n",
    "            a2_box = model.user_embeddings(a2)\n",
    "            u_int_a1_box = u_box.intersection(\n",
    "                a1_box,\n",
    "                intersection_temp=model.intersection_temp,\n",
    "                bayesian=True)\n",
    "            u_a1_a2_int_box = u_int_a1_box.intersection(\n",
    "                a2_box,\n",
    "                intersection_temp=model.intersection_temp,\n",
    "                bayesian=True)\n",
    "        \n",
    "            u_a1_a2_scores = box_predict_conditional(u_a1_a2_int_box, model)\n",
    "            u_a1_scores = box_predict_conditional(u_int_a1_box, model)\n",
    "            scores_u_a1_not_a2_int = u_a1_scores + log1mexp(u_a1_a2_scores - u_a1_scores)\n",
    "        elif arg_dict['model'] == 'mf_bias':\n",
    "            u_vector = model.user_embeddings(u)\n",
    "            a1_vector = model.user_embeddings(a1)\n",
    "            a2_vector = model.user_embeddings(a2)\n",
    "            u_a1_not_a2_vector = u_vector + a1_vector - a2_vector\n",
    "            scores_u_a1_not_a2_int = vector_predict(u_a1_not_a2_vector, model)\n",
    "        \n",
    "        if apply_mask:\n",
    "            scores_u_a1_not_a2_int[~mask] = -torch.inf\n",
    "        order_u_a1_not_a2_int = torch.argsort(scores_u_a1_not_a2_int, dim=-1, descending=True)\n",
    "\n",
    "        ## Matrix completion\n",
    "        a1_m = torch.where(predicted_a_m_matrix[attribute_1])[0].tolist()\n",
    "        a2_m = torch.where(predicted_a_m_matrix[attribute_2])[0].tolist()\n",
    "        a1_not_a2_m = set(a1_m).difference(set(a2_m))\n",
    "        \n",
    "        if m not in a1_not_a2_m:\n",
    "            rank_u_a1_not_a2_and.append(model.n_items)\n",
    "        else:\n",
    "            if apply_mask:\n",
    "                score_u[~mask] = -torch.inf\n",
    "            order_u = torch.argsort(score_u, dim=-1, descending=True)\n",
    "            a1_not_a2_in_u = (order_u[:, None] == torch.tensor(list(a1_not_a2_m))).nonzero()[:, 0]\n",
    "            order_a1_not_a2_in_u = order_u[a1_not_a2_in_u]\n",
    "            rank_u_a1_not_a2_and.append(torch.where(order_a1_not_a2_in_u == m)[0].item())\n",
    "        \n",
    "        ## get ranks\n",
    "        rank_u_a1_not_a2_mult.append(torch.where(order_u_a1_not_a2_mult == m)[0].item())\n",
    "        rank_u_a1_not_a2_int.append(torch.where(order_u_a1_not_a2_int == m)[0].item())\n",
    "    \n",
    "    print(\"Post hoc filtering\")\n",
    "    hr_u_a1_not_a2_and, ndcg_u_a1_not_a2_and = get_hr_ndcg_at_k(rank_u_a1_not_a2_and)\n",
    "\n",
    "    print(\"Calculating metrics for user*attribute1-not-attribute2\")\n",
    "    hr_u_a1_not_a2_mult, ndcg_u_a1_not_a2_mult = get_hr_ndcg_at_k(rank_u_a1_not_a2_mult)\n",
    "    print(\"Calculating metrics for user intersection attribute1 - intersection attribute2\")\n",
    "    hr_u_a1_not_a2_int, ndcg_u_a1_not_a2_int = get_hr_ndcg_at_k(rank_u_a1_not_a2_int)\n",
    "\n",
    "    return {\n",
    "            'hr_u_a1_not_a2_mult': hr_u_a1_not_a2_mult, 'ndcg_u_a1_not_a2_mult': ndcg_u_a1_not_a2_mult,\n",
    "            'hr_u_a1_not_a2_int': hr_u_a1_not_a2_int, 'ndcg_u_a1_not_a2_int': ndcg_u_a1_not_a2_int,\n",
    "            'hr_u_a1_not_a2_and': hr_u_a1_not_a2_and, 'ndcg_u_a1_not_a2_and': ndcg_u_a1_not_a2_and\n",
    "            }\n"
   ]
  },
  {
   "cell_type": "code",
   "execution_count": null,
   "metadata": {},
   "outputs": [],
   "source": [
    "def get_ranking_metrices_difference_no_condition(query_df,\n",
    "                                    model,\n",
    "                                    arg_dict,\n",
    "                                    gt_matrix,\n",
    "                                    predicted_a_m_matrix,\n",
    "                                    apply_mask=True):\n",
    "    keep_top = 300\n",
    "    rank_u_a1_not_a2_int = []\n",
    "    for user_id, movie_id, attribute_1, attribute_2 in tqdm(query_df.values):\n",
    "        u = torch.tensor([user_id])\n",
    "        m = torch.tensor([movie_id])\n",
    "        a1 = torch.tensor([attribute_1 + n_users])\n",
    "        a2 = torch.tensor([attribute_2 + n_users])\n",
    "\n",
    "        if apply_mask:\n",
    "            mask = torch.ones(model_vector_mg.n_items, dtype=torch.bool)\n",
    "            gt_m = torch.where(gt_matrix[user_id, attribute_1, attribute_2] == 1)[0]\n",
    "            mask[gt_m] = False\n",
    "            mask[m] = True\n",
    "\n",
    "        ## Score Set Operations\n",
    "        if arg_dict['model'] == 'box_conditional':\n",
    "            u_box = model.user_embeddings(u)\n",
    "            a1_box = model.user_embeddings(a1)\n",
    "            a2_box = model.user_embeddings(a2)\n",
    "            u_int_a1_box = u_box.intersection(\n",
    "                a1_box,\n",
    "                intersection_temp=model.intersection_temp,\n",
    "                bayesian=True)\n",
    "            u_a1_a2_int_box = u_int_a1_box.intersection(\n",
    "                a2_box,\n",
    "                intersection_temp=model.intersection_temp,\n",
    "                bayesian=True)\n",
    "        \n",
    "            u_a1_a2_scores = box_predict(u_a1_a2_int_box, model)\n",
    "            u_a1_scores = box_predict(u_int_a1_box, model)\n",
    "            scores_u_a1_not_a2_int = u_a1_scores + log1mexp(u_a1_a2_scores - u_a1_scores)\n",
    "        elif arg_dict['model'] == 'mf_bias':\n",
    "            u_vector = model.user_embeddings(u)\n",
    "            a1_vector = model.user_embeddings(a1)\n",
    "            a2_vector = model.user_embeddings(a2)\n",
    "            u_a1_not_a2_vector = u_vector + a1_vector - a2_vector\n",
    "            scores_u_a1_not_a2_int = vector_predict(u_a1_not_a2_vector, model)\n",
    "        \n",
    "        if apply_mask:\n",
    "            scores_u_a1_not_a2_int[~mask] = -torch.inf\n",
    "        order_u_a1_not_a2_int = torch.argsort(scores_u_a1_not_a2_int, dim=-1, descending=True)\n",
    "        rank_u_a1_not_a2_int.append(torch.where(order_u_a1_not_a2_int == m)[0].item())\n",
    "    print(\"Calculating metrics for user intersection attribute1 - intersection attribute2\")\n",
    "    hr_u_a1_not_a2_int, ndcg_u_a1_not_a2_int = get_hr_ndcg_at_k(rank_u_a1_not_a2_int)\n",
    "\n",
    "    return {\n",
    "            'hr_u_a1_not_a2_int': hr_u_a1_not_a2_int, 'ndcg_u_a1_not_a2_int': ndcg_u_a1_not_a2_int,\n",
    "            }\n",
    "\n",
    "def get_ranking_metrices_difference_condition(query_df,\n",
    "                                    model,\n",
    "                                    arg_dict,\n",
    "                                    gt_matrix,\n",
    "                                    predicted_a_m_matrix,\n",
    "                                    apply_mask=True):\n",
    "    keep_top = 300\n",
    "    rank_u_a1_not_a2_int = []\n",
    "    for user_id, movie_id, attribute_1, attribute_2 in tqdm(query_df.values):\n",
    "        u = torch.tensor([user_id])\n",
    "        m = torch.tensor([movie_id])\n",
    "        a1 = torch.tensor([attribute_1 + n_users])\n",
    "        a2 = torch.tensor([attribute_2 + n_users])\n",
    "\n",
    "        if apply_mask:\n",
    "            mask = torch.ones(model_vector_mg.n_items, dtype=torch.bool)\n",
    "            gt_m = torch.where(gt_matrix[user_id, attribute_1, attribute_2] == 1)[0]\n",
    "            mask[gt_m] = False\n",
    "            mask[m] = True\n",
    "\n",
    "        ## Score Set Operations\n",
    "        if arg_dict['model'] == 'box_conditional':\n",
    "            u_box = model.user_embeddings(u)\n",
    "            a1_box = model.user_embeddings(a1)\n",
    "            a2_box = model.user_embeddings(a2)\n",
    "            u_int_a1_box = u_box.intersection(\n",
    "                a1_box,\n",
    "                intersection_temp=model.intersection_temp,\n",
    "                bayesian=True)\n",
    "            u_a1_a2_int_box = u_int_a1_box.intersection(\n",
    "                a2_box,\n",
    "                intersection_temp=model.intersection_temp,\n",
    "                bayesian=True)\n",
    "        \n",
    "            u_a1_a2_scores = box_predict_conditional(u_a1_a2_int_box, model)\n",
    "            u_a1_scores = box_predict_conditional(u_int_a1_box, model)\n",
    "            scores_u_a1_not_a2_int = u_a1_scores + log1mexp(u_a1_a2_scores - u_a1_scores)\n",
    "        elif arg_dict['model'] == 'mf_bias':\n",
    "            u_vector = model.user_embeddings(u)\n",
    "            a1_vector = model.user_embeddings(a1)\n",
    "            a2_vector = model.user_embeddings(a2)\n",
    "            u_a1_not_a2_vector = u_vector + a1_vector - a2_vector\n",
    "            scores_u_a1_not_a2_int = vector_predict(u_a1_not_a2_vector, model)\n",
    "        \n",
    "        if apply_mask:\n",
    "            scores_u_a1_not_a2_int[~mask] = -torch.inf\n",
    "        order_u_a1_not_a2_int = torch.argsort(scores_u_a1_not_a2_int, dim=-1, descending=True)\n",
    "        rank_u_a1_not_a2_int.append(torch.where(order_u_a1_not_a2_int == m)[0].item())\n",
    "    print(\"Calculating metrics for user intersection attribute1 - intersection attribute2\")\n",
    "    hr_u_a1_not_a2_int, ndcg_u_a1_not_a2_int = get_hr_ndcg_at_k(rank_u_a1_not_a2_int)\n",
    "\n",
    "    return {\n",
    "            'hr_u_a1_not_a2_int': hr_u_a1_not_a2_int, 'ndcg_u_a1_not_a2_int': ndcg_u_a1_not_a2_int,\n",
    "            }\n",
    "\n"
   ]
  },
  {
   "cell_type": "markdown",
   "metadata": {},
   "source": [
    "# Get Results for Movie-Genre (MG) Joint Matrix"
   ]
  },
  {
   "cell_type": "code",
   "execution_count": null,
   "metadata": {},
   "outputs": [],
   "source": [
    "dataset_mg = get_dataset(arg_dict_box_mg)\n",
    "n_users = dataset_mg.n_users\n",
    "n_movies = dataset_mg.n_movies\n",
    "n_attributes = dataset_mg.n_attributes\n",
    "gt_user_movie_matrix_mg = gt_df_to_matrix(dataset_mg, dataset_mg.gt_user_movie)\n",
    "gt_attribute_movie_matrix_mg = gt_df_to_matrix(dataset_mg, dataset_mg.gt_attribute_movie)\n",
    "dataset_mg.read_neg_data_files()\n",
    "print('Data loaded')\n",
    "print('Number of users:', n_users)\n",
    "print('Number of movies:', n_movies)\n",
    "print('Number of attributes:', n_attributes)\n",
    "user_attribute_query_mg = pd.read_csv('../' + arg_dict_box_mg['data_dir'] + '/combinations/user_attribute.csv')\n",
    "user_attributeA_attributeB_mg = pd.read_csv('../' + arg_dict_box_mg['data_dir'] + '/combinations/user_attributeA_attributeB.csv')\n",
    "user_attributeA_not_attributeB_mg = pd.read_csv('../' + arg_dict_box_mg['data_dir'] + '/combinations/user_attributeA_not_attributeB.csv')\n",
    "print(\"Combination queries loaded\")"
   ]
  },
  {
   "cell_type": "code",
   "execution_count": null,
   "metadata": {},
   "outputs": [],
   "source": [
    "print(\"Validation results for box model\")\n",
    "pprint(check_test_results(dataset_mg, model_box_mg))\n",
    "print(\"Validation results for vector model\")\n",
    "pprint(check_test_results(dataset_mg, model_vector_mg))"
   ]
  },
  {
   "cell_type": "markdown",
   "metadata": {},
   "source": [
    "### Trying out"
   ]
  },
  {
   "cell_type": "code",
   "execution_count": null,
   "metadata": {},
   "outputs": [],
   "source": [
    "import torch"
   ]
  },
  {
   "cell_type": "code",
   "execution_count": null,
   "metadata": {},
   "outputs": [],
   "source": [
    "def score_all_items_vector(user, model):\n",
    "    all_items = torch.arange(model.n_items)\n",
    "    item_vectors = model.item_embeddings(all_items)\n",
    "    user_vector = model.user_embeddings(user)\n",
    "    scores = torch.matmul(user_vector, item_vectors.T)\n",
    "    user_bias = model.user_biases(user)\n",
    "    item_biases = model.item_biases(all_items)\n",
    "    scores += user_bias + item_biases.T + model.global_bias\n",
    "    return scores"
   ]
  },
  {
   "cell_type": "code",
   "execution_count": null,
   "metadata": {},
   "outputs": [],
   "source": [
    "u = torch.tensor(user_attribute_query_mg['user_id'])\n",
    "a = torch.tensor(user_attribute_query_mg['genre_id'] + n_users)\n",
    "m = torch.tensor(user_attribute_query_mg['movie_id'])\n",
    "\n",
    "u_embedding = model_vector_mg.user_embeddings(u)\n",
    "a_embedding = model_vector_mg.user_embeddings(a)\n",
    "all_item_embedding = model_vector_mg.item_embeddings(torch.arange(model_vector_mg.n_items))\n",
    "\n",
    "score_u = score_all_items_vector(u, model_vector_mg)\n",
    "score_a = score_all_items_vector(a, model_vector_mg)\n",
    "\n",
    "#mask \n",
    "\n"
   ]
  },
  {
   "cell_type": "markdown",
   "metadata": {},
   "source": [
    "### Get GT"
   ]
  },
  {
   "cell_type": "code",
   "execution_count": null,
   "metadata": {},
   "outputs": [],
   "source": [
    "gt_u_and_a_matrix_mg = gt_user_movie_matrix_mg[:, None] & gt_attribute_movie_matrix_mg\n",
    "gt_u_and_a1_a2_matrix_mg = gt_u_and_a_matrix_mg[:,:,None,:] & gt_attribute_movie_matrix_mg\n",
    "gt_u_and_a1_not_a2_matrix_mg = gt_u_and_a_matrix_mg[:,:,None,:] & ~gt_attribute_movie_matrix_mg\n",
    "# #shape\n",
    "# gt_u_and_a_matrix_mg.shape, gt_u_and_a1_a2_matrix_mg.shape, gt_u_and_a1_not_a2_matrix_mg.shape"
   ]
  },
  {
   "cell_type": "code",
   "execution_count": null,
   "metadata": {},
   "outputs": [],
   "source": [
    "u = torch.where(gt_u_and_a_matrix_mg)[0]\n",
    "a = torch.where(gt_u_and_a_matrix_mg)[1]\n",
    "m = torch.where(gt_u_and_a_matrix_mg)[2]\n",
    "for i in range(len(u)):\n",
    "    assert gt_user_movie_matrix_mg[u[i], m[i]] == 1\n",
    "    assert gt_attribute_movie_matrix_mg[a[i], m[i]] == 1\n"
   ]
  },
  {
   "cell_type": "markdown",
   "metadata": {},
   "source": [
    "## Direct Filtering model"
   ]
  },
  {
   "cell_type": "code",
   "execution_count": null,
   "metadata": {},
   "outputs": [],
   "source": [
    "from torcheval.metrics.functional import binary_f1_score\n",
    "def get_best_f1_theshold(input, target):\n",
    "    max_f1 = 0\n",
    "    best_threshold = 0\n",
    "    for threshold in input:\n",
    "        thresholded_score = (input >= threshold).float()\n",
    "        f1 = binary_f1_score(thresholded_score, target)\n",
    "        if f1 > max_f1:\n",
    "            max_f1 = f1\n",
    "            best_threshold = threshold\n",
    "    return best_threshold, max_f1"
   ]
  },
  {
   "cell_type": "code",
   "execution_count": null,
   "metadata": {},
   "outputs": [],
   "source": [
    "train_user_movie_mg = dataset_mg.train_user_movie\n",
    "train_user_movie_matrix_mg = gt_df_to_matrix(dataset_mg, train_user_movie_mg)\n",
    "train_attribute_movie_mg = dataset_mg.train_attribute_movie\n",
    "train_attribute_movie_matrix_mg = gt_df_to_matrix(dataset_mg, train_attribute_movie_mg)"
   ]
  },
  {
   "cell_type": "code",
   "execution_count": null,
   "metadata": {},
   "outputs": [],
   "source": [
    "def get_matrix_completion(model, train_matrix):\n",
    "    predicted_matrix = []\n",
    "    for i in tqdm(range(n_attributes)):\n",
    "        attribute = torch.tensor([i + n_users])\n",
    "        scores = model.predict_item(attribute)\n",
    "        target = train_matrix[i]\n",
    "        threshold, f1 = get_best_f1_theshold(scores, target)\n",
    "        predicted_matrix.append(scores >= threshold)\n",
    "    return torch.stack(predicted_matrix)"
   ]
  },
  {
   "cell_type": "code",
   "execution_count": null,
   "metadata": {},
   "outputs": [],
   "source": [
    "predicted_a_m_box_mg = get_matrix_completion(model_box_mg, train_attribute_movie_matrix_mg)\n",
    "predicted_a_m_vector_mg = get_matrix_completion(model_vector_mg, train_attribute_movie_matrix_mg)\n",
    "print(predicted_a_m_box_mg.sum() / train_attribute_movie_matrix_mg.sum(), \" times more entries\")\n",
    "print(predicted_a_m_vector_mg.sum() / train_attribute_movie_matrix_mg.sum(), \" times more entries\")"
   ]
  },
  {
   "cell_type": "markdown",
   "metadata": {},
   "source": [
    "## BOX U A - Genre"
   ]
  },
  {
   "cell_type": "code",
   "execution_count": null,
   "metadata": {},
   "outputs": [],
   "source": [
    "metric_dict_box_mg = get_ranking_metrices(user_attribute_query_mg,\n",
    "                                          model_box_mg,\n",
    "                                          arg_dict_box_mg,\n",
    "                                          gt_u_and_a_matrix_mg,\n",
    "                                          predicted_a_m_box_mg,\n",
    "                                          apply_mask = True)"
   ]
  },
  {
   "cell_type": "markdown",
   "metadata": {},
   "source": [
    "## Vector U A - Genre"
   ]
  },
  {
   "cell_type": "code",
   "execution_count": null,
   "metadata": {},
   "outputs": [],
   "source": [
    "metric_dict_vector_mg = get_ranking_metrices(user_attribute_query_mg,\n",
    "                                             model_vector_mg,\n",
    "                                             arg_dict_vector_mg,\n",
    "                                             gt_u_and_a_matrix_mg,\n",
    "                                             predicted_a_m_vector_mg,\n",
    "                                             apply_mask=True\n",
    "                                    )"
   ]
  },
  {
   "cell_type": "markdown",
   "metadata": {},
   "source": [
    "## BOX U A1 A2 -Genre"
   ]
  },
  {
   "cell_type": "code",
   "execution_count": null,
   "metadata": {},
   "outputs": [],
   "source": [
    "metric_dict_box_mg_a1_a2 = get_ranking_metrices_intersection(user_attributeA_attributeB_mg,\n",
    "                                                             model_box_mg,\n",
    "                                                             arg_dict_box_mg,\n",
    "                                                             gt_u_and_a1_a2_matrix_mg,\n",
    "                                                                predicted_a_m_box_mg,\n",
    "                                                             apply_mask=True)"
   ]
  },
  {
   "cell_type": "markdown",
   "metadata": {},
   "source": [
    "## Vector U A1 A2 - Genre"
   ]
  },
  {
   "cell_type": "code",
   "execution_count": null,
   "metadata": {},
   "outputs": [],
   "source": [
    "metric_dict_vector_mg_a1_a2 = get_ranking_metrices_intersection(user_attributeA_attributeB_mg,\n",
    "                                                                model_vector_mg,\n",
    "                                                                arg_dict_vector_mg,\n",
    "                                                             gt_u_and_a1_a2_matrix_mg,\n",
    "                                                                predicted_a_m_box_mg,\n",
    "                                                             apply_mask=True)"
   ]
  },
  {
   "cell_type": "markdown",
   "metadata": {},
   "source": [
    "## BOX $U \\cap A1 \\cap \\neg A2$ - Genre"
   ]
  },
  {
   "cell_type": "code",
   "execution_count": null,
   "metadata": {},
   "outputs": [],
   "source": [
    "metric_dict_box_mg_a1_not_a2 = get_ranking_metrices_difference(user_attributeA_not_attributeB_mg,\n",
    "                                                               model_box_mg,\n",
    "                                                               arg_dict_box_mg,\n",
    "                                                               gt_u_and_a1_not_a2_matrix_mg,\n",
    "                                                                predicted_a_m_box_mg,\n",
    "                                                               apply_mask=True)"
   ]
  },
  {
   "cell_type": "code",
   "execution_count": null,
   "metadata": {},
   "outputs": [],
   "source": [
    "get_ranking_metrices_difference_no_condition(user_attributeA_not_attributeB_mg,\n",
    "                                                               model_box_mg,\n",
    "                                                               arg_dict_box_mg,\n",
    "                                                               gt_u_and_a1_not_a2_matrix_mg,\n",
    "                                                                predicted_a_m_box_mg,\n",
    "                                                               apply_mask=True)"
   ]
  },
  {
   "cell_type": "code",
   "execution_count": null,
   "metadata": {},
   "outputs": [],
   "source": [
    "get_ranking_metrices_difference_condition(user_attributeA_not_attributeB_mg,\n",
    "                                                               model_box_mg,\n",
    "                                                               arg_dict_box_mg,\n",
    "                                                               gt_u_and_a1_not_a2_matrix_mg,\n",
    "                                                                predicted_a_m_box_mg,\n",
    "                                                               apply_mask=True)"
   ]
  },
  {
   "cell_type": "markdown",
   "metadata": {},
   "source": [
    "## Vector  $U \\cap A_1 \\cap \\neg A_2$  -Genre"
   ]
  },
  {
   "cell_type": "code",
   "execution_count": null,
   "metadata": {},
   "outputs": [],
   "source": [
    "metric_dict_vector_mg_a1_not_a2 = get_ranking_metrices_difference(user_attributeA_not_attributeB_mg,\n",
    "                                                                  model_vector_mg,\n",
    "                                                                  arg_dict_vector_mg,\n",
    "                                                                  gt_u_and_a1_not_a2_matrix_mg,\n",
    "                                                                  predicted_a_m_box_mg,\n",
    "                                                                  apply_mask=True)"
   ]
  },
  {
   "cell_type": "markdown",
   "metadata": {},
   "source": [
    "### Analysis"
   ]
  },
  {
   "cell_type": "code",
   "execution_count": null,
   "metadata": {},
   "outputs": [],
   "source": [
    "user_attributeA_attributeB_mg.values[8990]"
   ]
  },
  {
   "cell_type": "code",
   "execution_count": null,
   "metadata": {},
   "outputs": [],
   "source": [
    "count = 0\n",
    "count_opp = 0\n",
    "for user_id, movie_id, attribute_1, attribute_2 in user_attributeA_attributeB_mg.values:\n",
    "   \n",
    "    u = torch.tensor([user_id])\n",
    "    m = torch.tensor([movie_id])\n",
    "    a1 = torch.tensor([attribute_1 + n_users])\n",
    "    a2 = torch.tensor([attribute_2 + n_users])\n",
    "\n",
    "    mask = torch.ones(model_vector_mg.n_items, dtype=torch.bool)\n",
    "    gt_m = torch.where(gt_u_and_a1_a2_matrix_mg[user_id, attribute_1, attribute_2] == 1)[0]\n",
    "    mask[gt_m] = False\n",
    "    mask[m] = True\n",
    "\n",
    "    movie_name = dataset_mg.movies[dataset_mg.movies['movie_id'] == movie_id]['movie'].item()\n",
    "    attr_1_name = dataset_mg.attributes[dataset_mg.attributes['genre_id'] == attribute_1]['genre'].item()\n",
    "    attr_2_name = dataset_mg.attributes[dataset_mg.attributes['genre_id'] == attribute_2]['genre'].item()\n",
    "    # print(f\"User: {user_id}, Movie: {movie_name}, Attribute 1: {attr_1_name}, Attribute 2: {attr_2_name}\")\n",
    "\n",
    "    score_u = model_box_mg.predict_item(u)\n",
    "    score_a1 = model_box_mg.predict_item(a1)\n",
    "    score_a2 = model_box_mg.predict_item(a2)\n",
    "\n",
    "    user_movie_rank = torch.where(torch.argsort(score_u, dim=-1, descending=True) == m)[0].item()\n",
    "    attr1_movie_rank = torch.where(torch.argsort(score_a1, dim=-1, descending=True) == m)[0].item()\n",
    "    attr2_movie_rank = torch.where(torch.argsort(score_a2, dim=-1, descending=True) == m)[0].item()\n",
    "    # print(f\"Rank of movie in user: {user_movie_rank}\")\n",
    "    # print(f\"Rank of movie in attribute 1: {attr1_movie_rank}\")\n",
    "    # print(f\"Rank of movie in attribute 2: {attr2_movie_rank}\")\n",
    "\n",
    "    joint_score = score_u + score_a1 + score_a2\n",
    "    joint_score[~mask] = -torch.inf\n",
    "\n",
    "    joint_rank = torch.where(torch.argsort(joint_score, dim=-1, descending=True) == m)[0].item()\n",
    "    # print(f\"Rank of movie in user*attribute1*attribute2: {joint_rank}\")\n",
    "\n",
    "    u_box = model_box_mg.user_embeddings(u)\n",
    "    a1_box = model_box_mg.user_embeddings(a1)\n",
    "    a2_box = model_box_mg.user_embeddings(a2)\n",
    "    u_int_a1_box = u_box.intersection(\n",
    "        a1_box,\n",
    "        intersection_temp=model_box_mg.intersection_temp,\n",
    "        bayesian=True)\n",
    "    u_int_a1_a2_box = u_int_a1_box.intersection(\n",
    "        a2_box,\n",
    "        intersection_temp=model_box_mg.intersection_temp,\n",
    "        bayesian=True)\n",
    "\n",
    "    int_scores = box_predict_conditional(u_int_a1_a2_box, model_box_mg)\n",
    "    int_scores[~mask] = -torch.inf\n",
    "    int_rank = torch.where(torch.argsort(int_scores, dim=-1, descending=True) == m)[0].item()\n",
    "    # print(f\"Rank of movie in user intersection attribute1 intersection attribute2: {int_rank}\")\n",
    "    if int_rank < joint_rank:\n",
    "        count+=1\n",
    "        if int_rank < 10 and joint_rank > 50:\n",
    "            print(\"-------------------------------\")\n",
    "            print(f\"User: {user_id}, movie_id: {movie_id}, Attr_1_id: {attribute_1}, attr_2_id {attribute_2}\")\n",
    "            print(f\"Movie: {movie_name}, Attribute 1: {attr_1_name}, Attribute 2: {attr_2_name}\")\n",
    "            print(f\"int_rank {int_rank}, joint_rank {joint_rank}\")\n",
    "    else:\n",
    "        count_opp+=1     \n"
   ]
  },
  {
   "cell_type": "code",
   "execution_count": null,
   "metadata": {},
   "outputs": [],
   "source": [
    "attr_df = dataset_mg.attributes\n",
    "movie_df = dataset_mg.movies\n",
    "user_id = 15\n",
    "movie_id = 58\n",
    "attribute_1 = 1\n",
    "attribute_2 = 13\n",
    "u = torch.tensor([user_id])\n",
    "m = torch.tensor([movie_id])\n",
    "a1 = torch.tensor([attribute_1 + n_users])\n",
    "a2 = torch.tensor([attribute_2 + n_users])\n",
    "\n",
    "mask = torch.ones(model_vector_mg.n_items, dtype=torch.bool)\n",
    "gt_m = torch.where(gt_u_and_a1_a2_matrix_mg[user_id, attribute_1, attribute_2] == 1)[0]\n",
    "mask[gt_m] = False\n",
    "mask[m] = True\n",
    "\n",
    "movie_name = movie_df[movie_df['movie_id'] == movie_id]['movie'].item()\n",
    "attr_1_name = attr_df[attr_df['genre_id'] == attribute_1]['genre'].item()\n",
    "attr_2_name = attr_df[attr_df['genre_id'] == attribute_2]['genre'].item()\n",
    "print(f\"User: {user_id}, Movie: {movie_name}, Attribute 1: {attr_1_name}, Attribute 2: {attr_2_name}\")\n",
    "\n",
    "score_u = model_box_mg.predict_item(u)\n",
    "score_a1 = model_box_mg.predict_item(a1)\n",
    "score_a2 = model_box_mg.predict_item(a2)\n",
    "\n",
    "user_movie_rank = torch.where(torch.argsort(score_u, dim=-1, descending=True) == m)[0].item()\n",
    "attr1_movie_rank = torch.where(torch.argsort(score_a1, dim=-1, descending=True) == m)[0].item()\n",
    "attr2_movie_rank = torch.where(torch.argsort(score_a2, dim=-1, descending=True) == m)[0].item()\n",
    "# print(f\"Rank of movie in user: {user_movie_rank}\")\n",
    "# print(f\"Rank of movie in attribute 1: {attr1_movie_rank}\")\n",
    "# print(f\"Rank of movie in attribute 2: {attr2_movie_rank}\")\n",
    "\n",
    "joint_score = score_u + score_a1 + score_a2\n",
    "joint_score[~mask] = -torch.inf\n",
    "\n",
    "joint_rank = torch.where(torch.argsort(joint_score, dim=-1, descending=True) == m)[0].item()\n",
    "# print(f\"Rank of movie in user*attribute1*attribute2: {joint_rank}\")\n",
    "\n",
    "u_box = model_box_mg.user_embeddings(u)\n",
    "a1_box = model_box_mg.user_embeddings(a1)\n",
    "a2_box = model_box_mg.user_embeddings(a2)\n",
    "u_int_a1_box = u_box.intersection(\n",
    "    a1_box,\n",
    "    intersection_temp=model_box_mg.intersection_temp,\n",
    "    bayesian=True)\n",
    "u_int_a1_a2_box = u_int_a1_box.intersection(\n",
    "    a2_box,\n",
    "    intersection_temp=model_box_mg.intersection_temp,\n",
    "    bayesian=True)\n",
    "\n",
    "int_scores = box_predict_conditional(u_int_a1_a2_box, model_box_mg)\n",
    "int_scores[~mask] = -torch.inf\n",
    "int_rank = torch.where(torch.argsort(int_scores, dim=-1, descending=True) == m)[0].item()\n",
    "\n",
    "top_10_int = torch.argsort(int_scores, dim=-1, descending=True)[:30]\n",
    "top_10_joint = torch.argsort(joint_score, dim=-1, descending=True)[:30]\n",
    "\n",
    "for i, id in enumerate(top_10_int):\n",
    "    print(i, ' : ', movie_df[movie_df['movie_id'] == id.item()]['movie'].item(), ':', id)\n",
    "print(\"----------------------------------------\")\n",
    "for i, id in enumerate(top_10_joint):\n",
    "    print(i, ' : ', movie_df[movie_df['movie_id'] == id.item()]['movie'].item(), ':', id)\n"
   ]
  },
  {
   "cell_type": "code",
   "execution_count": null,
   "metadata": {},
   "outputs": [],
   "source": [
    "attr_df = dataset_mg.attributes\n",
    "movie_df = dataset_mg.movies\n",
    "user_id = 15\n",
    "movie_id = 58\n",
    "attribute_1 = 1\n",
    "attribute_2 = 13\n",
    "u = torch.tensor([user_id])\n",
    "m = torch.tensor([movie_id])\n",
    "a1 = torch.tensor([attribute_1 + n_users])\n",
    "a2 = torch.tensor([attribute_2 + n_users])\n",
    "\n",
    "mask = torch.ones(model_vector_mg.n_items, dtype=torch.bool)\n",
    "gt_m = torch.where(gt_u_and_a1_a2_matrix_mg[user_id, attribute_1, attribute_2] == 1)[0]\n",
    "mask[gt_m] = False\n",
    "mask[m] = True\n",
    "\n",
    "movie_name = movie_df[movie_df['movie_id'] == movie_id]['movie'].item()\n",
    "attr_1_name = attr_df[attr_df['genre_id'] == attribute_1]['genre'].item()\n",
    "attr_2_name = attr_df[attr_df['genre_id'] == attribute_2]['genre'].item()\n",
    "print(f\"User: {user_id}, Movie: {movie_name}, Attribute 1: {attr_1_name}, Attribute 2: {attr_2_name}\")\n",
    "\n",
    "score_u = model_box_mg.predict_item(u)\n",
    "score_a1 = model_box_mg.predict_item(a1)\n",
    "score_a2 = model_box_mg.predict_item(a2)\n",
    "score_u[~mask] = -torch.inf\n",
    "score_a1[~mask] = -torch.inf\n",
    "score_a2[~mask] = -torch.inf\n",
    "order_a1 = torch.argsort(score_a1, dim=-1, descending=True)\n",
    "order_a2 = torch.argsort(score_a2, dim=-1, descending=True)\n",
    "\n",
    "a1_m = torch.where(predicted_a_m_box_mg[attribute_1])[0].tolist()\n",
    "a2_m = torch.where(predicted_a_m_box_mg[attribute_2])[0].tolist()\n",
    "a1_a2_m = set(a1_m).intersection(set(a2_m))\n",
    "\n",
    "score_u[~mask] = -torch.inf\n",
    "order_u = torch.argsort(score_u, dim=-1, descending=True)\n",
    "a1_a2_m = torch.tensor(list(a1_a2_m))\n",
    "a1_a2_in_u = (order_u[:, None] == a1_a2_m).nonzero()[:, 0]\n",
    "order_a1_a2_in_u = order_u[a1_a2_in_u]\n",
    "rank = torch.where(order_a1_a2_in_u == m)\n",
    "user_rank = torch.where(order_u == m)\n",
    "print(user_rank)\n",
    "print(rank)"
   ]
  },
  {
   "cell_type": "code",
   "execution_count": null,
   "metadata": {},
   "outputs": [],
   "source": [
    "set(order_u.tolist()).intersection(set(order_a1.tolist()[:1000])).intersection(set(order_a2.tolist()[:300]))"
   ]
  },
  {
   "cell_type": "code",
   "execution_count": null,
   "metadata": {},
   "outputs": [],
   "source": [
    "rank_fixed_100 =[]\n",
    "rank_fixed_200 = []\n",
    "rank_fixed_500 = []\n",
    "rank_fixed_1000 = []\n",
    "rank_u_and_a = []\n",
    "rank_only_a = []\n",
    "for user_id, attribute_id, movie_id in tqdm(user_attribute_query_mg.values):\n",
    "    u = torch.tensor([user_id])\n",
    "    a = torch.tensor([attribute_id + n_users])\n",
    "    m = torch.tensor([movie_id])\n",
    "\n",
    "    mask = torch.ones(model_vector_mg.n_items, dtype=torch.bool)\n",
    "    gt_m = torch.where(gt_u_and_a_matrix_mg[user_id, attribute_id] == 1)[0]\n",
    "    mask[gt_m] = False\n",
    "    mask[m] = True\n",
    "\n",
    "    score_u = model_box_mg.predict_item(u)\n",
    "    score_a = model_box_mg.predict_item(a)\n",
    "    score_u[~mask] = -torch.inf\n",
    "    score_a[~mask] = -torch.inf\n",
    "    order_m = torch.argsort(score_a, dim=-1, descending=True)\n",
    "    top_100_a_m = order_m[:100]\n",
    "    top_200_a_m = order_m[:200]\n",
    "    top_500_a_m = order_m[:500]\n",
    "    top_1000_a_m = order_m[:1000]\n",
    "    a_m = torch.where(predicted_a_m_box_mg[attribute_id])[0]\n",
    "    break\n",
    "#     if m not in \n",
    "#     if m not in a_m:\n",
    "#         rank_a_and_u.append(model.n_items)\n",
    "#     else:\n",
    "#         if apply_mask:\n",
    "#             score_u[~mask] = -torch.inf\n",
    "#         order_u = torch.argsort(score_u, dim=-1, descending=True)\n",
    "#         a_in_u = (order_u[:, None] == a_m).nonzero()[:, 0]\n",
    "#         order_a_in_u = order_u[a_in_u]\n",
    "#         rank_a_and_u.append(torch.where(order_a_in_u == m)[0].item())\n",
    "\n",
    "#     # Get ranks\n",
    "#     rank_u_mult_a.append(torch.where(order_u_mult_a == m)[0].item())\n",
    "#     rank_u_int_a.append(torch.where(order_u_int_a == m)[0].item())\n",
    "\n",
    "# print(\"Calculating metrics for user*attribute\")\n",
    "# hr_u_mult_a, ndcg_u_mult_a = get_hr_ndcg_at_k(rank_u_mult_a)\n",
    "# print(\"Calculating metrics for user intersection attribute\")\n",
    "# hr_u_int_a, ndcg_u_int_a = get_hr_ndcg_at_k(rank_u_int_a)\n",
    "# print(\"Calculating metrics for attribute and user threshold\")\n",
    "# hr_a_and_u, ndcg_a_and_u = get_hr_ndcg_at_k(rank_a_and_u)\n"
   ]
  },
  {
   "cell_type": "code",
   "execution_count": null,
   "metadata": {},
   "outputs": [],
   "source": [
    "rank_u_a1_a2_and = []\n",
    "rank_u_a1_a2_mult = []\n",
    "rank_u_a1_a2_int = []\n",
    "\n",
    "for user_id, movie_id, attribute_1, attribute_2 in tqdm(user_attributeA_attributeB_mg.values):\n",
    "    u = torch.tensor([user_id])\n",
    "    m = torch.tensor([movie_id])\n",
    "    a1 = torch.tensor([attribute_1 + n_users])\n",
    "    a2 = torch.tensor([attribute_2 + n_users])\n",
    "\n",
    "\n",
    "    mask = torch.ones(model_vector_mg.n_items, dtype=torch.bool)\n",
    "    gt_m = torch.where(gt_u_and_a1_a2_matrix_mg[user_id, attribute_1, attribute_2] == 1)[0]\n",
    "    mask[gt_m] = False\n",
    "    mask[m] = True\n",
    "\n",
    "    score_u = model_box_mg.predict_item(u)\n",
    "    score_a1 = model_box_mg.predict_item(a1)\n",
    "    score_a2 = model_box_mg.predict_item(a2)\n",
    "\n",
    "    ## Score multiplication\n",
    "    if arg_dict_box_mg['model'] == 'box_conditional':\n",
    "        score_u_a1_a2_mult = score_u + score_a1 + score_a2\n",
    "    elif arg_dict_box_mg['model'] == 'mf_bias':\n",
    "        score_u_a1_a2_mult = F.logsigmoid(score_u) + F.logsigmoid(score_a1) + F.logsigmoid(score_a2)\n",
    "    \n",
    "\n",
    "    score_u_a1_a2_mult[~mask] = -torch.inf\n",
    "    order_u_a1_a2_mult = torch.argsort(score_u_a1_a2_mult, dim=-1, descending=True)\n",
    "\n",
    "    ## Score intersection\n",
    "    if arg_dict_box_mg['model'] == 'box_conditional':\n",
    "        u_box = model_box_mg.user_embeddings(u)\n",
    "        a1_box = model_box_mg.user_embeddings(a1)\n",
    "        a2_box = model_box_mg.user_embeddings(a2)\n",
    "        u_int_a1_box = u_box.intersection(\n",
    "            a1_box,\n",
    "            intersection_temp=arg_dict_box_mg['intersection_temp'],\n",
    "            bayesian=True)\n",
    "        u_a1_a2_int_box = u_int_a1_box.intersection(\n",
    "            a2_box,\n",
    "            intersection_temp=arg_dict_box_mg['intersection_temp'],\n",
    "            bayesian=True)\n",
    "        u_a1_a2_scores = box_predict_conditional(u_a1_a2_int_box, model_box_mg)\n",
    "    elif arg_dict_box_mg['model'] == 'mf_bias':\n",
    "        u_vector = model_vector_mg.user_embeddings(u)\n",
    "        a1_vector = model_vector_mg.user_embeddings(a1)\n",
    "        a2_vector = model_vector_mg.user_embeddings(a2)\n",
    "        u_a1_a2_vector = u_vector + a1_vector + a2_vector\n",
    "        u_a1_a2_scores = vector_predict(u_a1_a2_vector, model_vector_mg)\n",
    "    \n",
    "\n",
    "    u_a1_a2_scores[~mask] = -torch.inf\n",
    "    order_u_a1_a2_int = torch.argsort(u_a1_a2_scores, dim=-1, descending=True)\n",
    "            ## get ranks\n",
    "    rank_u_a1_a2_mult.append(torch.where(order_u_a1_a2_mult == m)[0].item())\n",
    "    rank_u_a1_a2_int.append(torch.where(order_u_a1_a2_int == m)[0].item())\n",
    "    ## Matrix completion\n",
    "    a1_m = torch.where(predicted_a_m_box_mg[attribute_1])[0].tolist()\n",
    "    a2_m = torch.where(predicted_a_m_box_mg[attribute_2])[0].tolist()\n",
    "    a1_a2_m = set(a1_m).intersection(set(a2_m))\n",
    "    if m.item() not in a1_a2_m:\n",
    "        rank_u_a1_a2_and.append(model_box_mg.n_items)\n",
    "    else:\n",
    "        score_u[~mask] = -torch.inf\n",
    "        order_u = torch.argsort(score_u, dim=-1, descending=True)\n",
    "        a1_a2_m = torch.tensor(list(a1_a2_m))\n",
    "        a1_a2_in_u = (order_u[:, None] == a1_a2_m).nonzero()[:, 0]\n",
    "        order_a1_a2_in_u = order_u[a1_a2_in_u]\n",
    "        rank_u_a1_a2_and.append(torch.where(order_a1_a2_in_u == m)[0].item())\n",
    "        break"
   ]
  },
  {
   "cell_type": "code",
   "execution_count": null,
   "metadata": {},
   "outputs": [],
   "source": [
    "m.item() not in a1_a2_m"
   ]
  },
  {
   "cell_type": "code",
   "execution_count": null,
   "metadata": {},
   "outputs": [],
   "source": [
    "torch.where(order_u == 1663)"
   ]
  },
  {
   "cell_type": "markdown",
   "metadata": {},
   "source": [
    "## Plots"
   ]
  },
  {
   "cell_type": "markdown",
   "metadata": {},
   "source": [
    "### utils "
   ]
  },
  {
   "cell_type": "code",
   "execution_count": null,
   "metadata": {},
   "outputs": [],
   "source": [
    "import seaborn as sns\n",
    "\n",
    "def plot_hits(hr_at_10, hr_at_20, hr_at_50):\n",
    "\n",
    "    # we have the following models and HR scores\n",
    "    models = ['MC(vec)', 'Vector Alg', 'Vector Geo', 'MC(box)', 'Box Alg', 'Box Geo']\n",
    "\n",
    "    # Create a DataFrame for HR@10\n",
    "    df_10 = pd.DataFrame({'Models': models, 'HR': hr_at_10, 'hr@': ['10']*len(models)})\n",
    "\n",
    "    # Create a DataFrame for HR@20\n",
    "    df_20 = pd.DataFrame({'Models': models, 'HR': hr_at_20, 'hr@': ['20']*len(models)})\n",
    "\n",
    "    # Create a DataFrame for HR@50\n",
    "    df_50 = pd.DataFrame({'Models': models, 'HR': hr_at_50, 'hr@': ['50']*len(models)})\n",
    "\n",
    "    # Concatenate the DataFrames\n",
    "    df = pd.concat([df_10, df_20, df_50])\n",
    "\n",
    "    # Create a bar plot\n",
    "    sns.catplot(x='Models', y='HR', hue='Models', legend=False, col='hr@', data=df, kind='bar', palette='viridis')"
   ]
  },
  {
   "cell_type": "code",
   "execution_count": null,
   "metadata": {},
   "outputs": [],
   "source": [
    "def append_metrices(list10, list20, list50, metric_dict, key):\n",
    "    list10.append(metric_dict[key][0])\n",
    "    list20.append(metric_dict[key][1])\n",
    "    list50.append(metric_dict[key][2])\n",
    "    return list10, list20, list50"
   ]
  },
  {
   "cell_type": "markdown",
   "metadata": {},
   "source": [
    "### $ U \\cap A$"
   ]
  },
  {
   "cell_type": "code",
   "execution_count": null,
   "metadata": {},
   "outputs": [],
   "source": [
    "hr_at_10 = []\n",
    "hr_at_20 = []\n",
    "hr_at_30 = []\n",
    "hr_at_10,hr_at_20, hr_at_30 = append_metrices(hr_at_10, hr_at_20, hr_at_30, metric_dict_vector_mg, 'hr_a_and_u')\n",
    "hr_at_10, hr_at_20, hr_at_30 = append_metrices(hr_at_10, hr_at_20, hr_at_30, metric_dict_vector_mg, 'hr_u_mult_a')\n",
    "hr_at_10,hr_at_20, hr_at_30 = append_metrices(hr_at_10, hr_at_20, hr_at_30, metric_dict_vector_mg, 'hr_u_int_a')\n",
    "hr_at_10,hr_at_20, hr_at_30 = append_metrices(hr_at_10, hr_at_20, hr_at_30, metric_dict_box_mg, 'hr_a_and_u')\n",
    "hr_at_10,hr_at_20, hr_at_30 = append_metrices(hr_at_10, hr_at_20, hr_at_30, metric_dict_box_mg, 'hr_u_mult_a')\n",
    "hr_at_10,hr_at_20, hr_at_30 = append_metrices(hr_at_10, hr_at_20, hr_at_30, metric_dict_box_mg, 'hr_u_int_a')\n",
    "plot_hits(hr_at_10, hr_at_20, hr_at_30)"
   ]
  },
  {
   "cell_type": "markdown",
   "metadata": {},
   "source": [
    "### $ U \\cap A_1 \\cap A_2 $"
   ]
  },
  {
   "cell_type": "code",
   "execution_count": null,
   "metadata": {},
   "outputs": [],
   "source": [
    "hr_at_10 = []\n",
    "hr_at_20 = []\n",
    "hr_at_30 = []\n",
    "hr_at_10,hr_at_20, hr_at_30 = append_metrices(hr_at_10, hr_at_20, hr_at_30, metric_dict_vector_mg_a1_a2, 'hr_u_a1_a2_and')\n",
    "hr_at_10, hr_at_20, hr_at_30 = append_metrices(hr_at_10, hr_at_20, hr_at_30, metric_dict_vector_mg_a1_a2, 'hr_u_a1_a2_mult')\n",
    "hr_at_10,hr_at_20, hr_at_30 = append_metrices(hr_at_10, hr_at_20, hr_at_30, metric_dict_vector_mg_a1_a2, 'hr_u_a1_a2_int')\n",
    "hr_at_10,hr_at_20, hr_at_30 = append_metrices(hr_at_10, hr_at_20, hr_at_30, metric_dict_box_mg_a1_a2, 'hr_u_a1_a2_and')\n",
    "hr_at_10,hr_at_20, hr_at_30 = append_metrices(hr_at_10, hr_at_20, hr_at_30, metric_dict_box_mg_a1_a2, 'hr_u_a1_a2_mult')\n",
    "hr_at_10,hr_at_20, hr_at_30 = append_metrices(hr_at_10, hr_at_20, hr_at_30, metric_dict_box_mg_a1_a2, 'hr_u_a1_a2_int')\n",
    "plot_hits(hr_at_10, hr_at_20, hr_at_30)"
   ]
  },
  {
   "cell_type": "markdown",
   "metadata": {},
   "source": [
    "### $ U \\cap A_1 \\cap \\neg A_2$"
   ]
  },
  {
   "cell_type": "code",
   "execution_count": null,
   "metadata": {},
   "outputs": [],
   "source": [
    "hr_at_10 = []\n",
    "hr_at_20 = []\n",
    "hr_at_30 = []\n",
    "hr_at_10,hr_at_20, hr_at_30 = append_metrices(hr_at_10, hr_at_20, hr_at_30, metric_dict_vector_mg_a1_not_a2, 'hr_u_a1_not_a2_and')\n",
    "hr_at_10, hr_at_20, hr_at_30 = append_metrices(hr_at_10, hr_at_20, hr_at_30, metric_dict_vector_mg_a1_not_a2, 'hr_u_a1_not_a2_mult')\n",
    "hr_at_10,hr_at_20, hr_at_30 = append_metrices(hr_at_10, hr_at_20, hr_at_30, metric_dict_vector_mg_a1_not_a2, 'hr_u_a1_not_a2_int')\n",
    "hr_at_10,hr_at_20, hr_at_30 = append_metrices(hr_at_10, hr_at_20, hr_at_30, metric_dict_box_mg_a1_not_a2, 'hr_u_a1_not_a2_and')\n",
    "hr_at_10,hr_at_20, hr_at_30 = append_metrices(hr_at_10, hr_at_20, hr_at_30, metric_dict_box_mg_a1_not_a2, 'hr_u_a1_not_a2_mult')\n",
    "hr_at_10,hr_at_20, hr_at_30 = append_metrices(hr_at_10, hr_at_20, hr_at_30, metric_dict_box_mg_a1_not_a2, 'hr_u_a1_not_a2_int')\n",
    "plot_hits(hr_at_10, hr_at_20, hr_at_30)"
   ]
  },
  {
   "cell_type": "markdown",
   "metadata": {},
   "source": [
    "### Analysis"
   ]
  },
  {
   "cell_type": "code",
   "execution_count": null,
   "metadata": {},
   "outputs": [],
   "source": []
  },
  {
   "cell_type": "markdown",
   "metadata": {},
   "source": [
    "# Get Results for Movie-Attribute (MA) Joint Matrix"
   ]
  },
  {
   "cell_type": "code",
   "execution_count": null,
   "metadata": {},
   "outputs": [],
   "source": [
    "dataset_ma = get_dataset(arg_dict_box_ma)\n",
    "n_users = dataset_ma.n_users\n",
    "n_movies = dataset_ma.n_movies\n",
    "n_attributes = dataset_ma.n_attributes\n",
    "gt_user_movie_matrix = gt_df_to_matrix(dataset_ma.gt_user_movie, dataset_ma)\n",
    "gt_attribute_movie_matrix = gt_df_to_matrix(dataset_ma.gt_attribute_movie, dataset_ma)\n",
    "dataset_ma.read_neg_data_files()\n",
    "print('Data loaded')\n",
    "print('Number of users:', n_users)\n",
    "print('Number of movies:', n_movies)\n",
    "print('Number of attributes:', n_attributes)\n",
    "user_attribute_query_ma = pd.read_csv('../' + arg_dict_box_ma['data_dir'] + '/combinations/user_attribute.csv')\n",
    "user_attributeA_attributeB_ma = pd.read_csv('../' + arg_dict_box_ma['data_dir'] + '/combinations/user_attributeA_attributeB.csv')\n",
    "user_attributeA_not_attributeB_ma = pd.read_csv('../' + arg_dict_box_ma['data_dir'] + '/combinations/user_attributeA_not_attributeB.csv')\n",
    "print(\"Combination queries loaded\")"
   ]
  },
  {
   "cell_type": "code",
   "execution_count": null,
   "metadata": {},
   "outputs": [],
   "source": [
    "print(\"Validation results for box model\")\n",
    "pprint(check_test_results(dataset_ma, model_box_ma))\n",
    "print(\"Validation results for vector model\")\n",
    "pprint(check_test_results(dataset_ma, model_vector_ma))"
   ]
  },
  {
   "cell_type": "markdown",
   "metadata": {},
   "source": [
    "## Box $U \\cap A$ - Attribute"
   ]
  },
  {
   "cell_type": "code",
   "execution_count": null,
   "metadata": {},
   "outputs": [],
   "source": [
    "metric_dict_box_ma = get_ranking_metrices(user_attribute_query_ma, model_box_ma, arg_dict_box_ma)"
   ]
  },
  {
   "cell_type": "markdown",
   "metadata": {},
   "source": [
    "## Vector $U \\cap A$ - Attribute"
   ]
  },
  {
   "cell_type": "code",
   "execution_count": null,
   "metadata": {},
   "outputs": [],
   "source": [
    "metric_dict_vector_ma = get_ranking_metrices(user_attribute_query_ma, model_vector_ma, arg_dict_vector_ma)"
   ]
  },
  {
   "cell_type": "markdown",
   "metadata": {},
   "source": [
    "## Box $U \\cap A_1 \\cap A_2$ - Attribute"
   ]
  },
  {
   "cell_type": "code",
   "execution_count": null,
   "metadata": {},
   "outputs": [],
   "source": [
    "metric_dict_box_ma_a1_a2 = get_ranking_metrices_intersection(user_attributeA_attributeB_ma, model_box_ma, arg_dict_box_ma)"
   ]
  },
  {
   "cell_type": "markdown",
   "metadata": {},
   "source": [
    "## Vector $U \\cap A_1 \\cap A_2$ - Attribute"
   ]
  },
  {
   "cell_type": "code",
   "execution_count": null,
   "metadata": {},
   "outputs": [],
   "source": [
    "metric_dict_vector_ma_a1_a2 = get_ranking_metrices_intersection(user_attributeA_attributeB_ma, model_vector_ma, arg_dict_vector_ma)"
   ]
  },
  {
   "cell_type": "markdown",
   "metadata": {},
   "source": [
    "## Box $U \\cap A_1 \\cap \\neg A_2$ - Attribute"
   ]
  },
  {
   "cell_type": "code",
   "execution_count": null,
   "metadata": {},
   "outputs": [],
   "source": [
    "metric_dict_box_ma_a1_not_a2 = get_ranking_metrices_difference(user_attributeA_not_attributeB_ma, model_box_ma, arg_dict_box_ma)"
   ]
  },
  {
   "cell_type": "markdown",
   "metadata": {},
   "source": [
    "## Vector $U \\cap A_1 \\cap \\neg A_2$ - Attribute"
   ]
  },
  {
   "cell_type": "code",
   "execution_count": null,
   "metadata": {},
   "outputs": [],
   "source": [
    "metric_dict_vector_ma_a1_not_a2 = get_ranking_metrices_difference(user_attributeA_not_attributeB_ma, model_vector_ma, arg_dict_vector_ma)"
   ]
  },
  {
   "cell_type": "code",
   "execution_count": null,
   "metadata": {},
   "outputs": [],
   "source": [
    "\n",
    "keep_top = 200\n",
    "rank_u = []\n",
    "rank_a = []\n",
    "rank_u_mult_a = []\n",
    "rank_u_int_a = []\n",
    "rank_a_in_u = []\n",
    "rank_a_and_u = []\n",
    "for user_id, attribute_id, movie_id in tqdm(user_attribute_query_mg.values):\n",
    "    u = torch.tensor([user_id])\n",
    "    a = torch.tensor([attribute_id + n_users])\n",
    "    m = torch.tensor([movie_id])\n",
    "\n",
    "    mask = torch.ones(model_vector_mg.n_items, dtype=torch.bool)\n",
    "    gt_m = torch.where(gt_u_and_a_matrix_mg[user_id, attribute_id] == 1)[0]\n",
    "    mask[gt_m] = False\n",
    "    mask[m] = True\n",
    "\n",
    "    score_u = model_vector_mg.predict_item(u)\n",
    "    score_a = model_vector_mg.predict_item(a)\n",
    "\n",
    "    ## Score multiplication\n",
    "    if arg_dict_vector_mg['model'] == 'box_conditional':\n",
    "        score_u_mult_a = score_u + score_a\n",
    "    elif arg_dict_vector_mg['model'] == 'mf_bias':\n",
    "        score_u_mult_a = F.logsigmoid(score_u) + F.logsigmoid(score_a)\n",
    "    \n",
    "    score_u_mult_a[~mask] = -torch.inf\n",
    "    order_u_mult_a = torch.argsort(score_u_mult_a, dim=-1, descending=True)\n",
    "\n",
    "    ## Score intersection\n",
    "    if arg_dict_vector_mg['model'] == 'box_conditional':\n",
    "        u_box = model_vector_mg.user_embeddings(u)\n",
    "        a_box = model_vector_mg.user_embeddings(a)\n",
    "        u_int_a_box = u_box.intersection(a_box)\n",
    "        u_int_a_box = u_box.intersection(\n",
    "                    a_box,\n",
    "                    intersection_temp=model_vector_mg.intersection_temp,\n",
    "                    bayesian=True)\n",
    "        u_int_a_scores = box_predict_conditional(u_int_a_box, model_vector_mg)\n",
    "    elif arg_dict_vector_mg['model'] == 'mf_bias':\n",
    "        u_vector = model_vector_mg.user_embeddings(u)\n",
    "        a_vector = model_vector_mg.user_embeddings(a)\n",
    "        u_int_a_vector = u_vector + a_vector\n",
    "        u_int_a_scores = vector_predict(u_int_a_vector, model_vector_mg)\n",
    "    \n",
    "    u_int_a_scores[~mask] = -torch.inf\n",
    "    order_u_int_a = torch.argsort(u_int_a_scores, dim=-1, descending=True)\n",
    "\n",
    "    ## Get ranks\n",
    "    rank_u_mult_a.append(torch.where(order_u_mult_a == m)[0].item())\n",
    "    rank_u_int_a.append(torch.where(order_u_int_a == m)[0].item())\n",
    "\n",
    "print(\"Calculating metrics for user*attribute\")\n",
    "hr_u_mult_a, ndcg_u_mult_a = get_hr_ndcg_at_k(rank_u_mult_a)\n",
    "print(\"Calculating metrics for user intersection attribute\")\n",
    "hr_u_int_a, ndcg_u_int_a = get_hr_ndcg_at_k(rank_u_int_a)\n"
   ]
  },
  {
   "cell_type": "markdown",
   "metadata": {},
   "source": []
  }
 ],
 "metadata": {
  "kernelspec": {
   "display_name": "boxrec",
   "language": "python",
   "name": "python3"
  },
  "language_info": {
   "codemirror_mode": {
    "name": "ipython",
    "version": 3
   },
   "file_extension": ".py",
   "mimetype": "text/x-python",
   "name": "python",
   "nbconvert_exporter": "python",
   "pygments_lexer": "ipython3",
   "version": "3.11.8"
  }
 },
 "nbformat": 4,
 "nbformat_minor": 2
}
