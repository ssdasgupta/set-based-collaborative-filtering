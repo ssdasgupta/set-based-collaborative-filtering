{
 "cells": [
  {
   "cell_type": "code",
   "execution_count": 174,
   "metadata": {},
   "outputs": [],
   "source": [
    "import numpy as np\n",
    "# need to add seed for reproducibility\n",
    "np.random.seed(5)"
   ]
  },
  {
   "cell_type": "markdown",
   "metadata": {},
   "source": [
    "# Dataset Generation using rules over the latent factors."
   ]
  },
  {
   "cell_type": "markdown",
   "metadata": {},
   "source": [
    "## Define the parameters\n",
    "num_items, num_users,\n",
    "num_user_attr, num_item_attr"
   ]
  },
  {
   "cell_type": "code",
   "execution_count": 175,
   "metadata": {},
   "outputs": [],
   "source": [
    "num_items = 1000\n",
    "num_users = 200\n",
    "num_user_attr = 30\n",
    "num_item_attr = 100\n",
    "num_rules = 40\n",
    "per_rule_sparsity = 0.30\n",
    "attribute_sparsity = 0.20\n",
    "data_dir = '../data/intersection_only/'\n"
   ]
  },
  {
   "cell_type": "markdown",
   "metadata": {},
   "source": [
    "## Generate Attributes"
   ]
  },
  {
   "cell_type": "code",
   "execution_count": 176,
   "metadata": {},
   "outputs": [],
   "source": [
    "# generate 50 users with 10 attributes\n",
    "user_attr = np.random.rand(num_users, num_user_attr)\n",
    "user_attr = (user_attr < attribute_sparsity).astype(int) # sparsify the user attributes\n",
    "# generate 50 items with 10 attributes\n",
    "item_attr = np.random.rand(num_items, num_item_attr)\n",
    "item_attr = (item_attr < attribute_sparsity).astype(int) # sparsify the item attributes"
   ]
  },
  {
   "cell_type": "code",
   "execution_count": 177,
   "metadata": {},
   "outputs": [
    {
     "name": "stdout",
     "output_type": "stream",
     "text": [
      "user_attr shape:  (200, 30)\n",
      "item_attr shape:  (1000, 100)\n",
      "user_attr[0]:  [0 0 0 0 0 0 0 0 0 1 1 0 0 1 0 0 0 0 0 0 0 0 0 0 0 1 1 0 0 1]\n",
      "item_attr[0]:  [0 0 0 0 0 0 0 0 0 1 0 0 0 0 1 0 0 1 0 1 0 0 0 0 0 0 0 0 1 0 0 0 0 0 0 0 0\n",
      " 0 0 1 0 0 0 0 0 1 1 1 0 0 0 0 0 0 0 0 0 1 0 0 0 0 0 1 1 0 0 1 0 1 1 0 0 0\n",
      " 0 0 1 0 0 0 0 0 0 1 0 0 1 0 1 0 1 0 0 0 0 0 0 0 1 1]\n",
      "user_attr[:,0]:  [0 1 0 0 0 0 1 0 0 0 0 0 0 1 0 0 0 1 0 0 0 0 0 0 0 0 0 0 0 1 1 0 1 0 0 0 1\n",
      " 0 0 0 0 0 0 0 1 0 0 1 0 0 0 0 0 0 0 0 0 1 0 0 0 0 1 0 0 0 0 0 0 1 1 0 1 1\n",
      " 1 0 1 1 0 0 0 0 0 0 0 0 0 0 0 0 1 1 0 0 0 0 0 0 0 0 1 0 1 0 0 0 0 1 0 0 0\n",
      " 0 0 1 0 0 0 0 0 0 1 1 1 1 0 0 0 1 0 0 1 0 0 0 0 0 0 0 0 0 0 0 0 0 0 0 0 0\n",
      " 0 0 0 0 0 0 1 0 0 0 0 0 0 1 0 0 0 0 0 0 0 0 0 0 0 1 0 0 0 1 0 0 1 1 0 0 0\n",
      " 1 0 1 0 0 1 0 1 1 0 0 0 0 0 0]\n",
      "item_attr[:,0]:  [0 0 0 0 0 1 0 0 0 0 0 0 0 0 0 0 1 1 1 1 0 0 1 0 0 1 0 0 0 0 0 1 0 0 1 0 0\n",
      " 0 0 0 0 0 0 0 0 0 0 0 0 1 0 1 1 0 0 0 0 0 0 0 1 0 1 0 0 0 0 0 0 0 1 1 0 0\n",
      " 0 0 0 0 1 0 0 1 0 0 1 0 0 0 1 0 0 0 1 1 0 0 1 1 0 1 0 1 0 0 0 0 1 1 0 0 1\n",
      " 0 0 0 0 1 0 1 0 0 0 0 0 0 0 0 0 1 0 0 0 0 0 1 0 1 0 0 1 0 0 1 1 1 1 0 0 1\n",
      " 0 0 0 0 0 0 0 0 0 0 0 0 1 0 1 0 1 0 0 0 0 0 0 0 0 0 1 0 0 0 0 0 1 1 0 0 0\n",
      " 0 0 1 0 0 0 0 0 0 0 0 0 0 0 0 0 0 0 1 0 1 0 1 1 0 0 1 0 1 0 0 1 0 0 0 0 0\n",
      " 0 0 0 0 0 0 1 1 0 1 1 0 0 0 0 1 0 0 1 0 0 0 0 0 1 1 0 0 0 0 0 0 0 0 1 0 0\n",
      " 0 0 1 0 0 0 0 1 0 0 0 0 0 0 0 0 1 0 0 0 0 1 0 0 0 0 0 1 0 0 0 0 0 0 1 0 0\n",
      " 0 0 1 1 0 0 0 0 0 0 0 0 1 0 0 0 0 1 0 0 0 0 0 0 0 0 0 0 1 0 0 0 0 0 0 0 0\n",
      " 1 0 0 0 1 0 1 0 0 0 0 0 0 0 0 0 0 0 0 0 0 0 0 0 0 0 0 1 0 0 0 0 0 1 0 0 0\n",
      " 0 1 0 1 1 0 0 0 0 0 0 0 0 0 0 0 0 0 0 0 0 0 0 0 0 1 1 0 0 0 0 0 0 0 0 0 0\n",
      " 0 1 1 0 1 0 1 0 0 0 0 0 0 0 0 0 0 0 0 1 0 1 0 0 0 0 0 0 1 0 0 1 0 0 0 0 0\n",
      " 0 0 1 0 0 0 0 0 0 0 0 0 0 0 1 0 0 1 0 0 0 0 0 0 0 0 1 0 0 0 0 0 1 1 0 0 0\n",
      " 0 0 0 0 0 0 0 0 0 0 0 0 1 1 0 0 0 1 0 0 0 0 1 0 0 0 0 0 0 0 1 0 0 0 0 0 1\n",
      " 0 0 0 0 0 0 0 0 1 0 0 0 0 0 0 0 0 1 1 1 1 0 0 0 0 0 0 1 1 0 1 0 0 0 0 0 0\n",
      " 0 0 0 0 0 0 0 0 0 1 0 0 0 0 0 1 1 0 0 0 0 0 0 1 0 0 0 0 0 0 0 0 0 0 0 0 0\n",
      " 0 1 0 0 0 0 1 0 0 1 0 0 0 0 1 0 1 0 0 0 0 0 0 0 1 0 0 1 1 0 1 1 0 0 0 1 0\n",
      " 1 0 0 1 0 1 1 0 1 0 0 0 0 0 0 0 1 0 0 0 0 0 1 0 0 0 0 0 0 0 0 0 0 0 0 0 0\n",
      " 0 0 0 0 0 0 0 1 1 0 1 0 1 1 0 0 1 0 0 0 0 0 1 0 0 0 1 0 0 0 0 0 0 1 0 1 0\n",
      " 0 0 1 0 1 0 0 0 0 0 0 0 1 1 1 1 0 0 1 0 0 0 0 0 0 0 1 0 0 0 1 0 0 0 0 0 0\n",
      " 0 1 0 1 0 0 0 1 0 0 1 1 0 0 0 1 0 1 1 0 0 0 0 0 1 0 1 0 0 0 0 1 0 0 0 0 0\n",
      " 0 1 0 0 0 0 0 0 0 0 1 0 0 0 1 1 0 0 0 0 0 0 0 0 0 1 0 1 0 1 0 0 0 0 0 0 0\n",
      " 0 0 1 0 1 0 0 0 0 1 0 0 0 0 0 0 0 0 0 0 1 0 0 1 0 0 0 0 0 0 0 0 0 0 0 1 0\n",
      " 0 0 0 0 0 1 0 0 0 1 1 0 1 0 0 1 0 1 0 0 0 1 0 0 0 0 1 0 0 0 0 0 0 0 0 0 0\n",
      " 0 0 0 0 0 0 0 0 0 1 0 1 0 0 0 0 0 0 0 0 0 0 0 1 0 0 0 0 1 0 0 0 0 0 1 0 0\n",
      " 0 0 1 0 1 0 0 0 1 0 0 1 0 0 0 0 0 0 0 0 0 1 0 1 0 0 0 0 1 0 0 1 0 0 0 0 0\n",
      " 0 1 0 0 0 0 0 0 1 1 1 0 0 0 0 0 1 0 0 0 0 0 0 0 1 0 0 0 0 0 0 0 0 0 0 0 0\n",
      " 0]\n"
     ]
    }
   ],
   "source": [
    "print('user_attr shape: ', user_attr.shape)\n",
    "print('item_attr shape: ', item_attr.shape)\n",
    "print('user_attr[0]: ', user_attr[0])\n",
    "print('item_attr[0]: ', item_attr[0])\n",
    "print('user_attr[:,0]: ', user_attr[:,0])\n",
    "print('item_attr[:,0]: ', item_attr[:,0])"
   ]
  },
  {
   "cell_type": "markdown",
   "metadata": {},
   "source": [
    "## Generate the rules"
   ]
  },
  {
   "cell_type": "code",
   "execution_count": 178,
   "metadata": {},
   "outputs": [],
   "source": [
    "rules = []\n",
    "for i in range(num_rules):\n",
    "    # sample variable number of attributes from user atrributes\n",
    "    num_sample = np.random.randint(1, 5) ### 4 is a design choice, need to thing more on this\n",
    "    user_attr_idx = np.random.choice(range(num_user_attr), num_sample, replace=False).tolist()\n",
    "    \n",
    "    # sample variable number of attributes from item atrributes\n",
    "    num_sample = np.random.randint(1, 5) ### 4 is a design choice, need to thing more on this\n",
    "    item_attr_idx = np.random.choice(range(num_item_attr), num_sample, replace=False).tolist()\n",
    "\n",
    "    attr_idx = (user_attr_idx, item_attr_idx)\n",
    "    rules.append(attr_idx)"
   ]
  },
  {
   "cell_type": "code",
   "execution_count": 179,
   "metadata": {},
   "outputs": [
    {
     "data": {
      "text/plain": [
       "[([21, 4, 23, 24], [75, 60, 51]),\n",
       " ([29, 27, 26, 25], [53]),\n",
       " ([21, 6, 10], [68, 13, 32]),\n",
       " ([24, 1, 17, 16], [69, 59, 1]),\n",
       " ([17, 15, 20], [40, 58, 28]),\n",
       " ([3, 28, 27, 25], [77, 38]),\n",
       " ([10, 25], [43, 9, 64]),\n",
       " ([29], [87, 93, 45, 91]),\n",
       " ([10, 0, 16], [44, 59, 81, 48]),\n",
       " ([15], [95, 53]),\n",
       " ([12, 14, 24, 10], [10, 61, 82, 60]),\n",
       " ([2, 17, 16, 7], [50, 51]),\n",
       " ([19, 27, 1], [76, 97]),\n",
       " ([28, 5], [58, 90, 25, 70]),\n",
       " ([22, 21, 16, 14], [17, 77, 97]),\n",
       " ([13, 7], [42]),\n",
       " ([26, 12, 1, 21], [27, 88, 48, 91]),\n",
       " ([24, 3, 18, 11], [26, 28, 82, 42]),\n",
       " ([14], [85, 68, 17, 24]),\n",
       " ([10, 28, 11, 29], [46, 92, 87, 96]),\n",
       " ([23, 29, 3, 5], [81, 82, 16, 73]),\n",
       " ([7], [39, 1, 72]),\n",
       " ([0], [41]),\n",
       " ([8, 12, 4], [21, 48, 4]),\n",
       " ([22, 6, 2, 11], [32, 70]),\n",
       " ([11, 9], [96]),\n",
       " ([19, 23], [26, 7, 6]),\n",
       " ([23], [50]),\n",
       " ([12, 23, 24], [93, 6, 29, 38]),\n",
       " ([14, 26, 5], [42]),\n",
       " ([2, 21, 8], [35]),\n",
       " ([21], [43, 26, 85, 60]),\n",
       " ([7, 10], [2, 3, 33, 91]),\n",
       " ([2, 7, 20, 24], [76]),\n",
       " ([12, 0, 15], [79]),\n",
       " ([6, 7], [48]),\n",
       " ([12, 29, 25, 16], [9, 41]),\n",
       " ([0, 3, 16], [7, 96, 64, 35]),\n",
       " ([18, 6], [99, 32, 12]),\n",
       " ([11], [53, 27, 11])]"
      ]
     },
     "execution_count": 179,
     "metadata": {},
     "output_type": "execute_result"
    }
   ],
   "source": [
    "rules"
   ]
  },
  {
   "cell_type": "markdown",
   "metadata": {},
   "source": [
    "## Look up function for user & item pairs that satisfy the rules"
   ]
  },
  {
   "cell_type": "code",
   "execution_count": 180,
   "metadata": {},
   "outputs": [],
   "source": [
    "### Only intersection and positive of the RV is considered\n",
    "def rule_look_up(rule):\n",
    "    user_rule = rule[0]\n",
    "    item_rule = rule[1]\n",
    "\n",
    "    # Find all users that have the attributes 1 in the idx that is specified in the rule\n",
    "    user_list = []\n",
    "    for i in range(num_users):\n",
    "        user_i = np.array(user_attr[i])\n",
    "        if (user_i[user_rule] == 1).all():\n",
    "            user_list.append(i)\n",
    "    # Find all items that have the attributes 1 in the idx that is specified in the rule\n",
    "    item_list = []\n",
    "    for i in range(num_items):\n",
    "        item_i = np.array(item_attr[i])\n",
    "        if (item_i[item_rule] == 1).all():\n",
    "            item_list.append(i)\n",
    "    return user_list, item_list"
   ]
  },
  {
   "cell_type": "markdown",
   "metadata": {},
   "source": [
    "## Generate the user-vs-item co-watch matrix"
   ]
  },
  {
   "cell_type": "code",
   "execution_count": 181,
   "metadata": {},
   "outputs": [],
   "source": [
    "user_item = np.zeros((num_users, num_items))\n",
    "user_item_tuple = []\n",
    "for rule in rules:\n",
    "    user_list, item_list = rule_look_up(rule)\n",
    "    for user in user_list:\n",
    "        # sample 30 % of the items\n",
    "        item_sampled_list = np.random.choice(item_list, int(len(item_list) * per_rule_sparsity), replace=False)\n",
    "        for item in item_sampled_list:\n",
    "            user_item[user][item] = 1.0"
   ]
  },
  {
   "cell_type": "code",
   "execution_count": 182,
   "metadata": {},
   "outputs": [
    {
     "data": {
      "text/plain": [
       "0.034565"
      ]
     },
     "execution_count": 182,
     "metadata": {},
     "output_type": "execute_result"
    }
   ],
   "source": [
    "user_item.sum() / (num_users * num_items)"
   ]
  },
  {
   "cell_type": "code",
   "execution_count": 183,
   "metadata": {},
   "outputs": [
    {
     "data": {
      "text/plain": [
       "6913"
      ]
     },
     "execution_count": 183,
     "metadata": {},
     "output_type": "execute_result"
    }
   ],
   "source": [
    "len(list(zip(*np.where(np.array(user_item) == 1.0))))"
   ]
  },
  {
   "cell_type": "code",
   "execution_count": 184,
   "metadata": {},
   "outputs": [
    {
     "name": "stdout",
     "output_type": "stream",
     "text": [
      "146 688\n"
     ]
    }
   ],
   "source": [
    "final_vocab_user = set(np.where(np.array(user_item) == 1.0)[0])\n",
    "final_vocab_item = set(np.where(np.array(user_item) == 1.0)[1])\n",
    "print(len(final_vocab_user), len(final_vocab_item))"
   ]
  },
  {
   "cell_type": "markdown",
   "metadata": {},
   "source": [
    "### Save the data"
   ]
  },
  {
   "cell_type": "code",
   "execution_count": 185,
   "metadata": {},
   "outputs": [],
   "source": [
    "def np2csv(np_array, filename, headers):\n",
    "    positive_list = list(zip(*np.where(np.array(np_array) == 1.0)))\n",
    "    # save the positive list as csv\n",
    "    with open(filename, 'w') as f:\n",
    "        f.write(headers[0]+ ',' + headers[1] + '\\n')\n",
    "        for ele in positive_list:\n",
    "            if filename == data_dir + 'user_item.csv' or filename == data_dir + 'train.csv':\n",
    "                f.write(str(ele[0]) + ',' + str(ele[1]) + '\\n')\n",
    "            elif filename == data_dir + 'user_attr.csv':\n",
    "                if ele[0] in final_vocab_user:\n",
    "                    f.write(str(ele[0]) + ',' + str(ele[1]) + '\\n')\n",
    "            elif filename == data_dir + 'item_attr.csv':\n",
    "                if ele[0] in final_vocab_item:\n",
    "                    f.write(str(ele[0]) + ',' + str(ele[1]) + '\\n')"
   ]
  },
  {
   "cell_type": "markdown",
   "metadata": {},
   "source": []
  },
  {
   "cell_type": "code",
   "execution_count": 186,
   "metadata": {},
   "outputs": [],
   "source": [
    "np2csv(item_attr, data_dir + 'item_attr.csv', headers=['item_id', 'attr_id'])\n",
    "np2csv(user_attr, data_dir + 'user_attr.csv', headers=['user_id', 'attr_id'])\n",
    "np2csv(user_item, data_dir + 'user_item.csv', headers=['user_id', 'item_id'])"
   ]
  },
  {
   "cell_type": "markdown",
   "metadata": {},
   "source": [
    "## Test/ Train splits.\n"
   ]
  },
  {
   "cell_type": "markdown",
   "metadata": {},
   "source": []
  },
  {
   "cell_type": "code",
   "execution_count": 187,
   "metadata": {},
   "outputs": [],
   "source": [
    "test_dict = {}\n",
    "count = 0\n",
    "for i, user_profile in enumerate(user_item):\n",
    "    viewd_items = np.where(user_profile == 1.0)[0]\n",
    "    if len(viewd_items) <= 10:\n",
    "        continue\n",
    "    # sample 20% of the items from that list\n",
    "    test_items = np.random.choice(viewd_items, int(len(viewd_items) * 0.2), replace=False)\n",
    "    # set the test items to 0\n",
    "    user_profile[test_items] = 0.0\n",
    "    test_dict[i] = test_items\n",
    "    count += len(test_items)\n",
    "\n",
    "np2csv(user_item, data_dir + 'train.csv', headers=['user_id', 'item_id'])"
   ]
  },
  {
   "cell_type": "code",
   "execution_count": 188,
   "metadata": {},
   "outputs": [
    {
     "data": {
      "text/plain": [
       "6913"
      ]
     },
     "execution_count": 188,
     "metadata": {},
     "output_type": "execute_result"
    }
   ],
   "source": [
    "count + len(list(zip(*np.where(np.array(user_item) == 1.0))))"
   ]
  },
  {
   "cell_type": "code",
   "execution_count": 189,
   "metadata": {},
   "outputs": [],
   "source": [
    "def save_test_file(test_dict):\n",
    "    with open(data_dir + 'test.csv', 'w') as f:\n",
    "        f.write('user_id,item_id\\n')\n",
    "        for user, items in test_dict.items():\n",
    "            for item in items:\n",
    "                f.write(str(user) + ',' + str(item) + '\\n')\n",
    "save_test_file(test_dict)"
   ]
  },
  {
   "cell_type": "markdown",
   "metadata": {},
   "source": [
    "## Save rules for eval"
   ]
  },
  {
   "cell_type": "code",
   "execution_count": 190,
   "metadata": {},
   "outputs": [],
   "source": [
    "def save_rules(rules):\n",
    "    with open(data_dir + 'rules.csv', 'w') as f:\n",
    "        f.write('user_attr_ids' + ',' + 'item_attr_ids' + '\\n')\n",
    "        for rule in rules:\n",
    "            f.write(str(rule[0]) + ',' + str(rule[1]) + '\\n')\n",
    "save_rules(rules)"
   ]
  },
  {
   "cell_type": "code",
   "execution_count": 191,
   "metadata": {},
   "outputs": [],
   "source": [
    "dir = '../data/intersection_only'\n",
    "import pandas as pd\n",
    "import os\n",
    "\n",
    "full_data = pd.read_csv(os.path.join(dir, 'user_item.csv'))"
   ]
  },
  {
   "cell_type": "code",
   "execution_count": 192,
   "metadata": {},
   "outputs": [
    {
     "data": {
      "text/plain": [
       "(146, 688)"
      ]
     },
     "execution_count": 192,
     "metadata": {},
     "output_type": "execute_result"
    }
   ],
   "source": [
    "len(set(full_data['user_id'].values)), len(set(full_data['item_id'].values))"
   ]
  },
  {
   "cell_type": "code",
   "execution_count": 193,
   "metadata": {},
   "outputs": [
    {
     "data": {
      "text/plain": [
       "[0,\n",
       " 1,\n",
       " 2,\n",
       " 3,\n",
       " 6,\n",
       " 7,\n",
       " 8,\n",
       " 9,\n",
       " 10,\n",
       " 11,\n",
       " 13,\n",
       " 14,\n",
       " 15,\n",
       " 17,\n",
       " 18,\n",
       " 19,\n",
       " 23,\n",
       " 26,\n",
       " 27,\n",
       " 28,\n",
       " 29,\n",
       " 30,\n",
       " 32,\n",
       " 35,\n",
       " 36,\n",
       " 38,\n",
       " 40,\n",
       " 42,\n",
       " 43,\n",
       " 44,\n",
       " 45,\n",
       " 47,\n",
       " 49,\n",
       " 50,\n",
       " 51,\n",
       " 52,\n",
       " 54,\n",
       " 57,\n",
       " 58,\n",
       " 59,\n",
       " 61,\n",
       " 62,\n",
       " 63,\n",
       " 64,\n",
       " 67,\n",
       " 68,\n",
       " 69,\n",
       " 70,\n",
       " 71,\n",
       " 72,\n",
       " 73,\n",
       " 74,\n",
       " 75,\n",
       " 76,\n",
       " 77,\n",
       " 78,\n",
       " 79,\n",
       " 81,\n",
       " 82,\n",
       " 83,\n",
       " 84,\n",
       " 86,\n",
       " 87,\n",
       " 89,\n",
       " 90,\n",
       " 91,\n",
       " 92,\n",
       " 93,\n",
       " 94,\n",
       " 95,\n",
       " 96,\n",
       " 98,\n",
       " 99,\n",
       " 100,\n",
       " 102,\n",
       " 103,\n",
       " 106,\n",
       " 107,\n",
       " 109,\n",
       " 110,\n",
       " 111,\n",
       " 113,\n",
       " 114,\n",
       " 115,\n",
       " 117,\n",
       " 119,\n",
       " 120,\n",
       " 121,\n",
       " 122,\n",
       " 123,\n",
       " 124,\n",
       " 125,\n",
       " 127,\n",
       " 128,\n",
       " 129,\n",
       " 130,\n",
       " 132,\n",
       " 133,\n",
       " 134,\n",
       " 135,\n",
       " 136,\n",
       " 137,\n",
       " 138,\n",
       " 139,\n",
       " 141,\n",
       " 142,\n",
       " 143,\n",
       " 144,\n",
       " 145,\n",
       " 147,\n",
       " 148,\n",
       " 149,\n",
       " 150,\n",
       " 151,\n",
       " 154,\n",
       " 156,\n",
       " 159,\n",
       " 160,\n",
       " 161,\n",
       " 163,\n",
       " 164,\n",
       " 165,\n",
       " 166,\n",
       " 167,\n",
       " 170,\n",
       " 171,\n",
       " 172,\n",
       " 173,\n",
       " 174,\n",
       " 175,\n",
       " 176,\n",
       " 177,\n",
       " 178,\n",
       " 180,\n",
       " 181,\n",
       " 185,\n",
       " 186,\n",
       " 187,\n",
       " 188,\n",
       " 190,\n",
       " 191,\n",
       " 192,\n",
       " 193,\n",
       " 194,\n",
       " 195,\n",
       " 196]"
      ]
     },
     "execution_count": 193,
     "metadata": {},
     "output_type": "execute_result"
    }
   ],
   "source": [
    "sorted(set(full_data['user_id'].unique().tolist()))"
   ]
  },
  {
   "cell_type": "code",
   "execution_count": 194,
   "metadata": {},
   "outputs": [
    {
     "data": {
      "text/plain": [
       "{0: 0,\n",
       " 1: 1,\n",
       " 2: 2,\n",
       " 3: 3,\n",
       " 6: 4,\n",
       " 7: 5,\n",
       " 8: 6,\n",
       " 9: 7,\n",
       " 10: 8,\n",
       " 11: 9,\n",
       " 13: 10,\n",
       " 14: 11,\n",
       " 15: 12,\n",
       " 17: 13,\n",
       " 18: 14,\n",
       " 19: 15,\n",
       " 23: 16,\n",
       " 26: 17,\n",
       " 27: 18,\n",
       " 28: 19,\n",
       " 29: 20,\n",
       " 30: 21,\n",
       " 32: 22,\n",
       " 35: 23,\n",
       " 36: 24,\n",
       " 38: 25,\n",
       " 40: 26,\n",
       " 42: 27,\n",
       " 43: 28,\n",
       " 44: 29,\n",
       " 45: 30,\n",
       " 47: 31,\n",
       " 49: 32,\n",
       " 50: 33,\n",
       " 51: 34,\n",
       " 52: 35,\n",
       " 54: 36,\n",
       " 57: 37,\n",
       " 58: 38,\n",
       " 59: 39,\n",
       " 61: 40,\n",
       " 62: 41,\n",
       " 63: 42,\n",
       " 64: 43,\n",
       " 67: 44,\n",
       " 68: 45,\n",
       " 69: 46,\n",
       " 70: 47,\n",
       " 71: 48,\n",
       " 72: 49,\n",
       " 73: 50,\n",
       " 74: 51,\n",
       " 75: 52,\n",
       " 76: 53,\n",
       " 77: 54,\n",
       " 78: 55,\n",
       " 79: 56,\n",
       " 81: 57,\n",
       " 82: 58,\n",
       " 83: 59,\n",
       " 84: 60,\n",
       " 86: 61,\n",
       " 87: 62,\n",
       " 89: 63,\n",
       " 90: 64,\n",
       " 91: 65,\n",
       " 92: 66,\n",
       " 93: 67,\n",
       " 94: 68,\n",
       " 95: 69,\n",
       " 96: 70,\n",
       " 98: 71,\n",
       " 99: 72,\n",
       " 100: 73,\n",
       " 102: 74,\n",
       " 103: 75,\n",
       " 106: 76,\n",
       " 107: 77,\n",
       " 109: 78,\n",
       " 110: 79,\n",
       " 111: 80,\n",
       " 113: 81,\n",
       " 114: 82,\n",
       " 115: 83,\n",
       " 117: 84,\n",
       " 119: 85,\n",
       " 120: 86,\n",
       " 121: 87,\n",
       " 122: 88,\n",
       " 123: 89,\n",
       " 124: 90,\n",
       " 125: 91,\n",
       " 127: 92,\n",
       " 128: 93,\n",
       " 129: 94,\n",
       " 130: 95,\n",
       " 132: 96,\n",
       " 133: 97,\n",
       " 134: 98,\n",
       " 135: 99,\n",
       " 136: 100,\n",
       " 137: 101,\n",
       " 138: 102,\n",
       " 139: 103,\n",
       " 141: 104,\n",
       " 142: 105,\n",
       " 143: 106,\n",
       " 144: 107,\n",
       " 145: 108,\n",
       " 147: 109,\n",
       " 148: 110,\n",
       " 149: 111,\n",
       " 150: 112,\n",
       " 151: 113,\n",
       " 154: 114,\n",
       " 156: 115,\n",
       " 159: 116,\n",
       " 160: 117,\n",
       " 161: 118,\n",
       " 163: 119,\n",
       " 164: 120,\n",
       " 165: 121,\n",
       " 166: 122,\n",
       " 167: 123,\n",
       " 170: 124,\n",
       " 171: 125,\n",
       " 172: 126,\n",
       " 173: 127,\n",
       " 174: 128,\n",
       " 175: 129,\n",
       " 176: 130,\n",
       " 177: 131,\n",
       " 178: 132,\n",
       " 180: 133,\n",
       " 181: 134,\n",
       " 185: 135,\n",
       " 186: 136,\n",
       " 187: 137,\n",
       " 188: 138,\n",
       " 190: 139,\n",
       " 191: 140,\n",
       " 192: 141,\n",
       " 193: 142,\n",
       " 194: 143,\n",
       " 195: 144,\n",
       " 196: 145}"
      ]
     },
     "execution_count": 194,
     "metadata": {},
     "output_type": "execute_result"
    }
   ],
   "source": [
    "def get_id_dict(self, df, field='id'):\n",
    "    ids = sorted(set(full_data['user_id'].unique().tolist()))\n",
    "    id2id = {id: i for i, id in enumerate(ids)}\n",
    "    return id2id\n",
    "get_id_dict(full_data, 'user_id')"
   ]
  },
  {
   "cell_type": "markdown",
   "metadata": {},
   "source": []
  },
  {
   "cell_type": "markdown",
   "metadata": {},
   "source": []
  }
 ],
 "metadata": {
  "kernelspec": {
   "display_name": "boxrec",
   "language": "python",
   "name": "python3"
  },
  "language_info": {
   "codemirror_mode": {
    "name": "ipython",
    "version": 3
   },
   "file_extension": ".py",
   "mimetype": "text/x-python",
   "name": "python",
   "nbconvert_exporter": "python",
   "pygments_lexer": "ipython3",
   "version": "3.11.8"
  }
 },
 "nbformat": 4,
 "nbformat_minor": 2
}
