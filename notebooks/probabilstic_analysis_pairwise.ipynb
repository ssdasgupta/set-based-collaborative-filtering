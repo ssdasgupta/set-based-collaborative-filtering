{
 "cells": [
  {
   "cell_type": "code",
   "execution_count": 114,
   "metadata": {},
   "outputs": [],
   "source": [
    "import torch\n",
    "import torch.nn as nn\n",
    "import sys\n",
    "import numpy as np\n",
    "import json\n",
    "from tqdm import tqdm\n",
    "import matplotlib.pyplot as plt\n",
    "sys.path.append('..')\n",
    "\n",
    "from model import BoxRec\n",
    "from model import MatrixFactorization, MatrixFactorizationWithBias\n",
    "from data_loaders.data_processing import DataProcessing, MovieLensDataProcessing"
   ]
  },
  {
   "cell_type": "markdown",
   "metadata": {},
   "source": [
    "### Plot functions"
   ]
  },
  {
   "cell_type": "code",
   "execution_count": 115,
   "metadata": {},
   "outputs": [],
   "source": [
    "def plot_histogram(data, title, xlabel, ylabel):\n",
    "    plt.hist(data, bins=50)\n",
    "    plt.title(title)\n",
    "    plt.xlabel(xlabel)\n",
    "    plt.ylabel(ylabel)\n",
    "    plt.show()"
   ]
  },
  {
   "cell_type": "markdown",
   "metadata": {},
   "source": [
    "## Load Models"
   ]
  },
  {
   "cell_type": "code",
   "execution_count": 116,
   "metadata": {},
   "outputs": [],
   "source": [
    "def load_model(model_dir):\n",
    "    arg_dict = json.load(open(model_dir + '/args.json', 'r'))\n",
    "    if arg_dict['model'] == 'box':\n",
    "        model = BoxRec(\n",
    "                n_users=arg_dict['num_users'],\n",
    "                n_items=arg_dict['num_items'],\n",
    "                embedding_dim=arg_dict['embedding_dim'],\n",
    "                volume_temp=arg_dict['volume_temp'],\n",
    "                intersection_temp=arg_dict['intersection_temp']\n",
    "        )\n",
    "    elif arg_dict['model'] == 'mf_bias':\n",
    "        model = MatrixFactorizationWithBias(\n",
    "                    n_users=arg_dict['num_users'],\n",
    "                    n_items=arg_dict['num_items'],\n",
    "                    embedding_dim=arg_dict['embedding_dim'],\n",
    "        )\n",
    "    elif arg_dict['model'] == 'mf':\n",
    "        model = MatrixFactorization(\n",
    "                    n_users=arg_dict['num_users'],\n",
    "                    n_items=arg_dict['num_items'],\n",
    "                    embedding_dim=arg_dict['embedding_dim'],\n",
    "        )\n",
    "    else:\n",
    "        raise ValueError('Invalid model type')\n",
    "    model.load_state_dict(torch.load(model_dir + '/final_model.pth'))\n",
    "    return model, arg_dict"
   ]
  },
  {
   "cell_type": "code",
   "execution_count": 117,
   "metadata": {},
   "outputs": [],
   "source": [
    "model_dir_vector = '../checkpoints/ml-1m/mf_bias/dim_64-negs_5/20240326124055'\n",
    "model_dir_box = '../checkpoints/ml-1m/box/dim_64-negs_5/20240325182359/'\n",
    "model_box, arg_dict_box = load_model(model_dir_box)\n",
    "model_vector, arg_dict_vector = load_model(model_dir_vector)"
   ]
  },
  {
   "cell_type": "markdown",
   "metadata": {},
   "source": [
    "## Process Data Pairwise\n",
    "-  Calculate Pointwise PMI Based on data\n",
    "    - Incomplete and noise estimate of actual PMI."
   ]
  },
  {
   "cell_type": "code",
   "execution_count": 7,
   "metadata": {},
   "outputs": [
    {
     "name": "stdout",
     "output_type": "stream",
     "text": [
      "Data files read successfully...\n",
      "ID files read successfully...\n"
     ]
    }
   ],
   "source": [
    "dataset = MovieLensDataProcessing(data_dir='../' + arg_dict_box['data_dir'],\n",
    "                                        dataset_type=arg_dict_box['dataset'],\n",
    "                                        batch_size=arg_dict_box['batch_size'])\n",
    "user2id = dataset.user2id\n",
    "item2id = dataset.item2id\n",
    "gt_dict = dataset.get_gt_dict(dataset.gt_df)"
   ]
  },
  {
   "cell_type": "code",
   "execution_count": 19,
   "metadata": {},
   "outputs": [
    {
     "name": "stdout",
     "output_type": "stream",
     "text": [
      "Total count: 1000209\n"
     ]
    }
   ],
   "source": [
    "total_count = 0\n",
    "for user, item in gt_dict.items():\n",
    "    total_count += len(item)\n",
    "print('Total count:', total_count)"
   ]
  },
  {
   "cell_type": "code",
   "execution_count": 74,
   "metadata": {},
   "outputs": [
    {
     "name": "stderr",
     "output_type": "stream",
     "text": [
      "100%|██████████| 6040/6040 [08:14<00:00, 12.20it/s] \n"
     ]
    }
   ],
   "source": [
    "pair_wise_movies ={}\n",
    "for i in tqdm(range(len(user2id))):\n",
    "    for j in range(i, len(user2id)):\n",
    "        if len(set(gt_dict[i]).intersection(set(gt_dict[j]))) >= 60:\n",
    "            if len(gt_dict[i]) > 40 and len(gt_dict[j]) > 40:\n",
    "                pair_wise_movies[(i, j)] = set(gt_dict[i]).intersection(set(gt_dict[j]))"
   ]
  },
  {
   "cell_type": "code",
   "execution_count": 75,
   "metadata": {},
   "outputs": [
    {
     "name": "stderr",
     "output_type": "stream",
     "text": [
      "100%|██████████| 1632335/1632335 [00:06<00:00, 245310.72it/s]\n"
     ]
    }
   ],
   "source": [
    "pmi = {}\n",
    "pmi_dist = []\n",
    "for u1, u2 in tqdm(pair_wise_movies.keys()):\n",
    "    pmi_val = np.log2((len(pair_wise_movies[(u1, u2)]) * total_count)) - np.log2(len(gt_dict[u1]) * len(gt_dict[u2]))\n",
    "    pmi_dist.append(pmi_val)\n",
    "    pmi[(u1, u2)] = pmi_val"
   ]
  },
  {
   "cell_type": "code",
   "execution_count": 76,
   "metadata": {},
   "outputs": [
    {
     "data": {
      "image/png": "[encoded data removed]",
      "text/plain": [
       "<Figure size 640x480 with 1 Axes>"
      ]
     },
     "metadata": {},
     "output_type": "display_data"
    }
   ],
   "source": [
    "plot_histogram(pmi_dist, 'PMI Distribution', 'PMI', 'Frequency')"
   ]
  },
  {
   "cell_type": "markdown",
   "metadata": {},
   "source": [
    "## Pairwise USER mutual information from the models\n"
   ]
  },
  {
   "cell_type": "code",
   "execution_count": 149,
   "metadata": {},
   "outputs": [],
   "source": [
    "def box_predict(combination_box):\n",
    "    all_items = torch.arange(model_box.n_items)\n",
    "    item_boxes = model_box.item_embeddings(all_items)\n",
    "    if model_box.intersection_temp == 0.0:\n",
    "        scores = combination_box.intersection_log_soft_volume(\n",
    "            item_boxes, volume_temp=model_box.volume_temp\n",
    "        )\n",
    "    else:\n",
    "        scores = combination_box.gumbel_intersection_log_volume(\n",
    "            item_boxes,\n",
    "            volume_temp=model_box.volume_temp,\n",
    "            intersection_temp=model_box.intersection_temp,\n",
    "        )\n",
    "    return scores"
   ]
  },
  {
   "cell_type": "code",
   "execution_count": 176,
   "metadata": {},
   "outputs": [
    {
     "name": "stderr",
     "output_type": "stream",
     "text": [
      "100%|██████████| 1632335/1632335 [49:39<00:00, 547.88it/s]  \n"
     ]
    }
   ],
   "source": [
    "top_k = 20\n",
    "threshold_common_movies = {}\n",
    "mult_score_common_movies = {}\n",
    "intersection_common_movies = {}\n",
    "for user1, user2 in tqdm(pair_wise_movies.keys()):\n",
    "    if len(gt_dict[user1]) > 400 and len(gt_dict[user2]) > 400:\n",
    "        u1 = torch.tensor([user1])\n",
    "        all_item_score_1 = model_box.predict_item(u1)\n",
    "        pred_order_1 = torch.argsort(all_item_score_1, dim=-1, descending=True)[:2*top_k]\n",
    "        pred_order_1 = pred_order_1.tolist()\n",
    "\n",
    "        u2 = torch.tensor([user2])\n",
    "        all_item_score_2 = model_box.predict_item(u2)\n",
    "        pred_order_2 = torch.argsort(all_item_score_2, dim=-1, descending=True)[:2*top_k]\n",
    "        pred_order_2 = pred_order_2.tolist()\n",
    "\n",
    "        threshold_common_movies[(user1, user2)] = list(set(pred_order_1).intersection(set(pred_order_2)))\n",
    "\n",
    "        mult_item_score = all_item_score_1 + all_item_score_2\n",
    "        pred_order_mult = torch.argsort(mult_item_score, dim=-1, descending=True)[:top_k]\n",
    "        pred_order_mult = pred_order_mult.tolist()\n",
    "        mult_score_common_movies[(user1, user2)] = pred_order_mult\n",
    "\n",
    "        u1_box = model_box.user_embeddings(u1)\n",
    "        u2_box = model_box.user_embeddings(u2)\n",
    "        intersection_box = u1_box.intersection(\n",
    "            u2_box, intersection_temp=0.00001, bayesian=True)\n",
    "        intersection_box_score = box_predict(intersection_box)\n",
    "        pred_order_intersection = torch.argsort(intersection_box_score, dim=-1, descending=True)[:top_k]\n",
    "        pred_order_intersection = pred_order_intersection.squeeze().tolist()\n",
    "        intersection_common_movies[(user1, user2)] = pred_order_intersection"
   ]
  },
  {
   "cell_type": "code",
   "execution_count": null,
   "metadata": {},
   "outputs": [],
   "source": [
    "for user1, user2 in tqdm(pair_wise_movies.keys()):\n",
    "    u1_box = model_box.user_embeddings(u1)\n",
    "    u2_box = model_box.user_embeddings(u2)\n",
    "    intersection_box = u1_box.intersection(\n",
    "        u2_box, intersection_temp=arg_dict_box['intersection_temp'], bayesian=True)\n",
    "    "
   ]
  },
  {
   "cell_type": "code",
   "execution_count": 187,
   "metadata": {},
   "outputs": [],
   "source": [
    "test_data = dataset.val_df\n",
    "movie2user_test = {}\n",
    "for movie, user in zip(test_data['movieId'], test_data['userId']):\n",
    "    if movie not in movie2user_test:\n",
    "        movie2user_test[movie] = []\n",
    "    movie2user_test[movie].append(user)"
   ]
  },
  {
   "cell_type": "code",
   "execution_count": 188,
   "metadata": {},
   "outputs": [],
   "source": [
    "user_pairs2movies = {}\n",
    "for movie, users in movie2user_test.items():\n",
    "    if len(users) < 2:\n",
    "        continue\n",
    "    for i in range(len(users)):\n",
    "        for j in range(i, len(users)):\n",
    "            if (users[i], users[j]) in pair_wise_movies:\n",
    "                if (users[i], users[j]) not in user_pairs2movies:\n",
    "                    user_pairs2movies[(users[i], users[j])] = []\n",
    "                user_pairs2movies[(users[i], users[j])].append(movie)"
   ]
  },
  {
   "cell_type": "code",
   "execution_count": 194,
   "metadata": {},
   "outputs": [
    {
     "name": "stderr",
     "output_type": "stream",
     "text": [
      "100%|██████████| 4734/4734 [01:42<00:00, 46.06it/s]\n"
     ]
    }
   ],
   "source": [
    "intersection_score = 0\n",
    "mult_score = 0\n",
    "for (user1, user2), movies in tqdm(user_pairs2movies.items()):\n",
    "    gt_movies = movies\n",
    "    u1 = torch.tensor([user1])\n",
    "    all_item_score_1 = model_box.predict_item(u1)\n",
    "    pred_order_1 = torch.argsort(all_item_score_1, dim=-1, descending=True)[:2*top_k]\n",
    "    pred_order_1 = pred_order_1.tolist()\n",
    "\n",
    "    u2 = torch.tensor([user2])\n",
    "    all_item_score_2 = model_box.predict_item(u2)\n",
    "    pred_order_2 = torch.argsort(all_item_score_2, dim=-1, descending=True)[:2*top_k]\n",
    "    pred_order_2 = pred_order_2.tolist()\n",
    "\n",
    "    threshold_common_movies[(user1, user2)] = list(set(pred_order_1).intersection(set(pred_order_2)))\n",
    "\n",
    "    mult_item_score = all_item_score_1 + all_item_score_2\n",
    "    pred_order_mult = torch.argsort(mult_item_score, dim=-1, descending=True)[:top_k]\n",
    "    pred_order_mult = pred_order_mult.tolist()\n",
    "    mult_score_common_movies[(user1, user2)] = pred_order_mult\n",
    "\n",
    "    u1_box = model_box.user_embeddings(u1)\n",
    "    u2_box = model_box.user_embeddings(u2)\n",
    "    intersection_box = u1_box.intersection(\n",
    "        u2_box, intersection_temp=0.00001, bayesian=True)\n",
    "    intersection_box_score = box_predict(intersection_box)\n",
    "    pred_order_intersection = torch.argsort(intersection_box_score, dim=-1, descending=True)[:top_k]\n",
    "    pred_order_intersection = pred_order_intersection.squeeze().tolist()\n",
    "    intersection_common_movies[(user1, user2)] = pred_order_intersection"
   ]
  },
  {
   "cell_type": "code",
   "execution_count": null,
   "metadata": {},
   "outputs": [],
   "source": [
    "win_cases = 0\n",
    "lose_cases = 0\n",
    "for user1, user2 in threshold_common_movies.keys():\n",
    "    threshold_pred = set(threshold_common_movies[(user1, user2)])\n",
    "    intersection_pred = set(intersection_common_movies[(user1, user2)])\n",
    "    mult_score_pred = set(mult_score_common_movies[(user1, user2)])\n",
    "    gt = set(pair_wise_movies[(user1, user2)])\n",
    "    if gt.intersection(intersection_pred) == gt:\n",
    "        win_cases += 1"
   ]
  },
  {
   "cell_type": "code",
   "execution_count": 195,
   "metadata": {},
   "outputs": [],
   "source": [
    "intersection_score = 0\n",
    "multiplication_score = 0\n",
    "for user1, user2 in threshold_common_movies.keys():\n",
    "    if user1 == user2:\n",
    "        continue\n",
    "    intersection_score += len(set(threshold_common_movies[(user1, user2)]).intersection(set(intersection_common_movies[(user1, user2)])))\n",
    "    multiplication_score += len(set(threshold_common_movies[(user1, user2)]).intersection(set(mult_score_common_movies[(user1, user2)])))"
   ]
  },
  {
   "cell_type": "code",
   "execution_count": 197,
   "metadata": {},
   "outputs": [],
   "source": [
    "intersection_score = 0\n",
    "multiplication_score = 0\n",
    "for user1, user2 in threshold_common_movies.keys():\n",
    "    if user1 == user2:\n",
    "        continue\n",
    "    intersection_score += len(set(pair_wise_movies[(user1, user2)]).intersection(set(intersection_common_movies[(user1, user2)])))\n",
    "    multiplication_score += len(set(pair_wise_movies[(user1, user2)]).intersection(set(mult_score_common_movies[(user1, user2)])))"
   ]
  },
  {
   "cell_type": "code",
   "execution_count": 198,
   "metadata": {},
   "outputs": [
    {
     "data": {
      "text/plain": [
       "(2496199, 2644890)"
      ]
     },
     "execution_count": 198,
     "metadata": {},
     "output_type": "execute_result"
    }
   ],
   "source": [
    "intersection_score, multiplication_score"
   ]
  },
  {
   "cell_type": "markdown",
   "metadata": {},
   "source": [
    "- ndcg on the list.\n",
    "- "
   ]
  },
  {
   "cell_type": "code",
   "execution_count": null,
   "metadata": {},
   "outputs": [],
   "source": [
    "#\n"
   ]
  },
  {
   "cell_type": "code",
   "execution_count": 157,
   "metadata": {},
   "outputs": [
    {
     "data": {
      "text/plain": [
       "[3569,\n",
       " 1805,\n",
       " 3675,\n",
       " 3652,\n",
       " 3225,\n",
       " 3697,\n",
       " 3673,\n",
       " 3674,\n",
       " 3154,\n",
       " 3462,\n",
       " 3654,\n",
       " 3623,\n",
       " 3650,\n",
       " 3704,\n",
       " 3176,\n",
       " 3555,\n",
       " 3576,\n",
       " 3632,\n",
       " 3620,\n",
       " 3678]"
      ]
     },
     "execution_count": 157,
     "metadata": {},
     "output_type": "execute_result"
    }
   ],
   "source": [
    "mult_score_common_movies[(423, 523)]"
   ]
  },
  {
   "cell_type": "code",
   "execution_count": null,
   "metadata": {},
   "outputs": [],
   "source": []
  }
 ],
 "metadata": {
  "kernelspec": {
   "display_name": "boxrec",
   "language": "python",
   "name": "python3"
  },
  "language_info": {
   "codemirror_mode": {
    "name": "ipython",
    "version": 3
   },
   "file_extension": ".py",
   "mimetype": "text/x-python",
   "name": "python",
   "nbconvert_exporter": "python",
   "pygments_lexer": "ipython3",
   "version": "3.11.8"
  }
 },
 "nbformat": 4,
 "nbformat_minor": 2
}
